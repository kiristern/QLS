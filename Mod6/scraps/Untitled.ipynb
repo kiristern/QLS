{
 "cells": [
  {
   "cell_type": "code",
   "execution_count": 3,
   "id": "703b9ff4",
   "metadata": {},
   "outputs": [],
   "source": [
    "import os\n",
    "import glob\n",
    "\n",
    "import numpy as np\n",
    "import pandas as pd\n",
    "import matplotlib\n",
    "import matplotlib.pyplot as plt\n",
    "import itertools"
   ]
  },
  {
   "cell_type": "code",
   "execution_count": 5,
   "id": "6380f619",
   "metadata": {},
   "outputs": [
    {
     "data": {
      "text/plain": [
       "'/Users/kiristern/Desktop/QLS600/Mod6'"
      ]
     },
     "execution_count": 5,
     "metadata": {},
     "output_type": "execute_result"
    }
   ],
   "source": [
    "os.getcwd()"
   ]
  },
  {
   "cell_type": "code",
   "execution_count": 6,
   "id": "a02d2c90",
   "metadata": {},
   "outputs": [],
   "source": [
    "os.chdir('Assignment 1')"
   ]
  },
  {
   "cell_type": "code",
   "execution_count": 9,
   "id": "8c99debd",
   "metadata": {},
   "outputs": [
    {
     "ename": "ParseError",
     "evalue": "Expecting miMATRIX type number 14, got 0",
     "output_type": "error",
     "traceback": [
      "\u001b[0;31m---------------------------------------------------------------------------\u001b[0m",
      "\u001b[0;31mParseError\u001b[0m                                Traceback (most recent call last)",
      "Input \u001b[0;32mIn [9]\u001b[0m, in \u001b[0;36m<cell line: 2>\u001b[0;34m()\u001b[0m\n\u001b[1;32m      1\u001b[0m \u001b[38;5;28;01mfrom\u001b[39;00m \u001b[38;5;21;01mmat4py\u001b[39;00m \u001b[38;5;28;01mimport\u001b[39;00m loadmat\n\u001b[0;32m----> 2\u001b[0m \u001b[43mloadmat\u001b[49m\u001b[43m(\u001b[49m\u001b[38;5;124;43m'\u001b[39;49m\u001b[38;5;124;43mchoreo_data.mat\u001b[39;49m\u001b[38;5;124;43m'\u001b[39;49m\u001b[43m)\u001b[49m\n",
      "File \u001b[0;32m~/opt/anaconda3/envs/QLS/lib/python3.8/site-packages/mat4py/loadmat.py:460\u001b[0m, in \u001b[0;36mloadmat\u001b[0;34m(filename, meta)\u001b[0m\n\u001b[1;32m    458\u001b[0m \u001b[38;5;66;03m# read data elements\u001b[39;00m\n\u001b[1;32m    459\u001b[0m \u001b[38;5;28;01mwhile\u001b[39;00m \u001b[38;5;129;01mnot\u001b[39;00m eof(fd):\n\u001b[0;32m--> 460\u001b[0m     hdr, next_position, fd_var \u001b[38;5;241m=\u001b[39m \u001b[43mread_var_header\u001b[49m\u001b[43m(\u001b[49m\u001b[43mfd\u001b[49m\u001b[43m,\u001b[49m\u001b[43m \u001b[49m\u001b[43mendian\u001b[49m\u001b[43m)\u001b[49m\n\u001b[1;32m    461\u001b[0m     name \u001b[38;5;241m=\u001b[39m hdr[\u001b[38;5;124m'\u001b[39m\u001b[38;5;124mname\u001b[39m\u001b[38;5;124m'\u001b[39m]\n\u001b[1;32m    462\u001b[0m     \u001b[38;5;28;01mif\u001b[39;00m name \u001b[38;5;129;01min\u001b[39;00m mdict:\n",
      "File \u001b[0;32m~/opt/anaconda3/envs/QLS/lib/python3.8/site-packages/mat4py/loadmat.py:253\u001b[0m, in \u001b[0;36mread_var_header\u001b[0;34m(fd, endian)\u001b[0m\n\u001b[1;32m    250\u001b[0m     mtpn, num_bytes \u001b[38;5;241m=\u001b[39m unpack(endian, \u001b[38;5;124m'\u001b[39m\u001b[38;5;124mII\u001b[39m\u001b[38;5;124m'\u001b[39m, fd\u001b[38;5;241m.\u001b[39mread(\u001b[38;5;241m8\u001b[39m))\n\u001b[1;32m    252\u001b[0m \u001b[38;5;28;01mif\u001b[39;00m mtpn \u001b[38;5;241m!=\u001b[39m etypes[\u001b[38;5;124m'\u001b[39m\u001b[38;5;124mmiMATRIX\u001b[39m\u001b[38;5;124m'\u001b[39m][\u001b[38;5;124m'\u001b[39m\u001b[38;5;124mn\u001b[39m\u001b[38;5;124m'\u001b[39m]:\n\u001b[0;32m--> 253\u001b[0m     \u001b[38;5;28;01mraise\u001b[39;00m ParseError(\u001b[38;5;124m'\u001b[39m\u001b[38;5;124mExpecting miMATRIX type number \u001b[39m\u001b[38;5;132;01m{}\u001b[39;00m\u001b[38;5;124m, \u001b[39m\u001b[38;5;124m'\u001b[39m\n\u001b[1;32m    254\u001b[0m                      \u001b[38;5;124m'\u001b[39m\u001b[38;5;124mgot \u001b[39m\u001b[38;5;132;01m{}\u001b[39;00m\u001b[38;5;124m'\u001b[39m\u001b[38;5;241m.\u001b[39mformat(etypes[\u001b[38;5;124m'\u001b[39m\u001b[38;5;124mmiMATRIX\u001b[39m\u001b[38;5;124m'\u001b[39m][\u001b[38;5;124m'\u001b[39m\u001b[38;5;124mn\u001b[39m\u001b[38;5;124m'\u001b[39m], mtpn))\n\u001b[1;32m    255\u001b[0m \u001b[38;5;66;03m# read the header\u001b[39;00m\n\u001b[1;32m    256\u001b[0m header \u001b[38;5;241m=\u001b[39m read_header(fd, endian)\n",
      "\u001b[0;31mParseError\u001b[0m: Expecting miMATRIX type number 14, got 0"
     ]
    }
   ],
   "source": [
    "from mat4py import loadmat\n",
    "loadmat('choreo_data.mat')"
   ]
  },
  {
   "cell_type": "code",
   "execution_count": null,
   "id": "c509a1ac",
   "metadata": {},
   "outputs": [],
   "source": []
  },
  {
   "cell_type": "code",
   "execution_count": null,
   "id": "73970c72",
   "metadata": {},
   "outputs": [],
   "source": []
  }
 ],
 "metadata": {
  "kernelspec": {
   "display_name": "Python 3 (ipykernel)",
   "language": "python",
   "name": "python3"
  },
  "language_info": {
   "codemirror_mode": {
    "name": "ipython",
    "version": 3
   },
   "file_extension": ".py",
   "mimetype": "text/x-python",
   "name": "python",
   "nbconvert_exporter": "python",
   "pygments_lexer": "ipython3",
   "version": "3.8.12"
  }
 },
 "nbformat": 4,
 "nbformat_minor": 5
}
