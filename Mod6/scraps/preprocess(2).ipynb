{
 "cells": [
  {
   "cell_type": "code",
   "execution_count": 1,
   "id": "ec2458f6",
   "metadata": {
    "scrolled": true
   },
   "outputs": [],
   "source": [
    "import os\n",
    "import glob\n",
    "\n",
    "import numpy as np\n",
    "import pandas as pd\n",
    "import matplotlib.pyplot as plt\n",
    "import itertools"
   ]
  },
  {
   "cell_type": "code",
   "execution_count": null,
   "id": "7cc1d30c",
   "metadata": {
    "scrolled": true
   },
   "outputs": [],
   "source": [
    "os.getcwd()"
   ]
  },
  {
   "cell_type": "code",
   "execution_count": null,
   "id": "45898ea3",
   "metadata": {
    "scrolled": true
   },
   "outputs": [],
   "source": [
    "# os.chdir('choreography_result')"
   ]
  },
  {
   "cell_type": "code",
   "execution_count": null,
   "id": "f98a7f7c",
   "metadata": {
    "scrolled": true
   },
   "outputs": [],
   "source": []
  },
  {
   "cell_type": "code",
   "execution_count": null,
   "id": "a794e399",
   "metadata": {
    "scrolled": true
   },
   "outputs": [],
   "source": []
  },
  {
   "cell_type": "code",
   "execution_count": null,
   "id": "bba83aad",
   "metadata": {
    "scrolled": true
   },
   "outputs": [],
   "source": [
    "# get all file paths\n",
    "def list_files(dir):\n",
    "    r = []\n",
    "    for root, dirs, files in os.walk(dir):\n",
    "        for name in files:\n",
    "            r.append(os.path.join(root, name))\n",
    "    return r"
   ]
  },
  {
   "cell_type": "code",
   "execution_count": null,
   "id": "14f56d27",
   "metadata": {},
   "outputs": [],
   "source": [
    "list_files('choreography_result')"
   ]
  },
  {
   "cell_type": "code",
   "execution_count": null,
   "id": "7f368b92",
   "metadata": {
    "scrolled": true
   },
   "outputs": [],
   "source": [
    "# get file paths that end with specified ending\n",
    "def list_files(dir):\n",
    "    r = []\n",
    "    for root, dirs, files in os.walk(dir):\n",
    "        for name in files:\n",
    "            filepath = root + os.sep + name\n",
    "            if filepath.endswith(\".speed.dat\"):\n",
    "                r.append(os.path.join(root, name))\n",
    "    return r"
   ]
  },
  {
   "cell_type": "code",
   "execution_count": null,
   "id": "d889ca31",
   "metadata": {
    "scrolled": false
   },
   "outputs": [],
   "source": [
    "list_files('choreography_result')"
   ]
  },
  {
   "cell_type": "code",
   "execution_count": null,
   "id": "29224088",
   "metadata": {
    "scrolled": true
   },
   "outputs": [],
   "source": []
  },
  {
   "cell_type": "code",
   "execution_count": null,
   "id": "fdf4e4af",
   "metadata": {
    "scrolled": true
   },
   "outputs": [],
   "source": []
  },
  {
   "cell_type": "code",
   "execution_count": null,
   "id": "04946d51",
   "metadata": {
    "scrolled": true
   },
   "outputs": [],
   "source": []
  },
  {
   "cell_type": "code",
   "execution_count": null,
   "id": "0b468035",
   "metadata": {
    "scrolled": true
   },
   "outputs": [],
   "source": [
    "directory_list = os.listdir()\n",
    "print(directory_list)"
   ]
  },
  {
   "cell_type": "code",
   "execution_count": null,
   "id": "070b8156",
   "metadata": {
    "scrolled": false
   },
   "outputs": [],
   "source": [
    "root = []\n",
    "dirs = []\n",
    "files = []\n",
    "for roots, direct, file in os.walk('choreography_result'): \n",
    "    root.append(roots)\n",
    "    dirs.append(direct)\n",
    "    files.append(file)\n",
    "dirs"
   ]
  },
  {
   "cell_type": "code",
   "execution_count": null,
   "id": "c7e20d39",
   "metadata": {
    "scrolled": true
   },
   "outputs": [],
   "source": [
    "# remove empty lists\n",
    "dirs = [i for i in dirs if i != []]\n",
    "dirs"
   ]
  },
  {
   "cell_type": "code",
   "execution_count": null,
   "id": "ce4be0c6",
   "metadata": {
    "scrolled": false
   },
   "outputs": [],
   "source": [
    "dirs[0]"
   ]
  },
  {
   "cell_type": "code",
   "execution_count": null,
   "id": "392daf8d",
   "metadata": {
    "scrolled": true
   },
   "outputs": [],
   "source": []
  },
  {
   "cell_type": "code",
   "execution_count": null,
   "id": "1be9180d",
   "metadata": {
    "scrolled": true
   },
   "outputs": [],
   "source": []
  },
  {
   "cell_type": "code",
   "execution_count": null,
   "id": "2ee7b7ba",
   "metadata": {
    "scrolled": true
   },
   "outputs": [],
   "source": []
  },
  {
   "cell_type": "code",
   "execution_count": null,
   "id": "ce9f0f66",
   "metadata": {
    "scrolled": true
   },
   "outputs": [],
   "source": []
  },
  {
   "cell_type": "code",
   "execution_count": null,
   "id": "d9957c00",
   "metadata": {
    "scrolled": true
   },
   "outputs": [],
   "source": [
    "path = 'choreography_result'"
   ]
  },
  {
   "cell_type": "code",
   "execution_count": null,
   "id": "486dec69",
   "metadata": {
    "scrolled": true
   },
   "outputs": [],
   "source": [
    "conditions = [folder for folder in sorted(os.listdir(path))]\n",
    "conditions = conditions[1:] #omit .txt file\n",
    "conditions"
   ]
  },
  {
   "cell_type": "code",
   "execution_count": null,
   "id": "d31cfdc2",
   "metadata": {
    "scrolled": true
   },
   "outputs": [],
   "source": []
  },
  {
   "cell_type": "code",
   "execution_count": null,
   "id": "b19b3061",
   "metadata": {
    "scrolled": true
   },
   "outputs": [],
   "source": [
    "# list comprehension version\n",
    "conditions = [folder for folder in sorted(os.listdir(path)) if folder != 'Documentation.txt']\n",
    "conditions"
   ]
  },
  {
   "cell_type": "code",
   "execution_count": null,
   "id": "3fd20aa7",
   "metadata": {
    "scrolled": true
   },
   "outputs": [],
   "source": [
    "# make each list element its own nested list\n",
    "cond = [[i] for i in conditions]\n",
    "cond"
   ]
  },
  {
   "cell_type": "code",
   "execution_count": null,
   "id": "7d77ebae",
   "metadata": {
    "scrolled": true
   },
   "outputs": [],
   "source": [
    "# combine previous two cells in one\n",
    "[[i] for i in [folder for folder in sorted(os.listdir(path)) if folder != 'Documentation.txt']]"
   ]
  },
  {
   "cell_type": "code",
   "execution_count": null,
   "id": "16246751",
   "metadata": {},
   "outputs": [],
   "source": [
    "path = '/home/GRAMES.POLYMTL.CA/u119167/other/choreography_result/'"
   ]
  },
  {
   "cell_type": "code",
   "execution_count": null,
   "id": "75a0b9b3",
   "metadata": {
    "scrolled": true
   },
   "outputs": [],
   "source": [
    "cond1 = path + 'o_five_10n1GA_0s1x900s0s#n#n#n@40'\n",
    "cond2 = path + 'o_five_10n2GA_0s1x900s0s#n#n#n@40'\n",
    "cond3 = path + 'o_five_10n3GA_0s1x900s0s#n#n#n@40'\n",
    "cond4 = path + 'o_five_10n5EA_0s1x900s0s#n#n#n@40'\n",
    "cond5 = path + 'o_five_H2O_0s1x900s0s#n#n#n@40'\n",
    "\n",
    "sesh_c1 = [sub for sub in sorted(os.listdir(cond1)) if sub != '.DS_Store']\n",
    "sesh_c2 = [sub for sub in sorted(os.listdir(cond2)) if sub != '.DS_Store']\n",
    "sesh_c3 = [sub for sub in sorted(os.listdir(cond3)) if sub != '.DS_Store']\n",
    "sesh_c4 = [sub for sub in sorted(os.listdir(cond4)) if sub != '.DS_Store']\n",
    "sesh_c5 = [sub for sub in sorted(os.listdir(cond5)) if sub != '.DS_Store']"
   ]
  },
  {
   "cell_type": "code",
   "execution_count": null,
   "id": "9cd64a59",
   "metadata": {
    "scrolled": true
   },
   "outputs": [],
   "source": [
    "sesh_c1"
   ]
  },
  {
   "cell_type": "code",
   "execution_count": null,
   "id": "7df4501a",
   "metadata": {
    "scrolled": true
   },
   "outputs": [],
   "source": [
    "spd = [pd.read_csv((path + '/' + folder + '/' + subfolder + '/' + file), header=None, sep=' ')\n",
    "   for folder in sorted(os.listdir(path)) if folder != 'Documentation.txt' \n",
    "   for subfolder in sorted(os.listdir(path + '/' + folder)) if subfolder != '.DS_Store' \n",
    "   for file in sorted(os.listdir(path+ '/' + folder + '/' + subfolder)) if file.endswith(\".speed.dat\")]  "
   ]
  },
  {
   "cell_type": "code",
   "execution_count": null,
   "id": "412673b1",
   "metadata": {
    "scrolled": false
   },
   "outputs": [],
   "source": [
    "spd"
   ]
  },
  {
   "cell_type": "code",
   "execution_count": null,
   "id": "7ba0471a",
   "metadata": {
    "scrolled": true
   },
   "outputs": [],
   "source": []
  },
  {
   "cell_type": "code",
   "execution_count": null,
   "id": "cd0e80e9",
   "metadata": {
    "scrolled": true
   },
   "outputs": [],
   "source": []
  },
  {
   "cell_type": "code",
   "execution_count": null,
   "id": "2658f760",
   "metadata": {
    "scrolled": true
   },
   "outputs": [],
   "source": []
  },
  {
   "cell_type": "code",
   "execution_count": null,
   "id": "7d74d280",
   "metadata": {
    "scrolled": true
   },
   "outputs": [],
   "source": []
  },
  {
   "cell_type": "markdown",
   "id": "cce0db7f",
   "metadata": {},
   "source": [
    "# preprocess here"
   ]
  },
  {
   "cell_type": "code",
   "execution_count": 2,
   "id": "3a510c7a",
   "metadata": {
    "scrolled": true
   },
   "outputs": [],
   "source": [
    "path = 'choreography_result/'\n",
    "\n",
    "speed_files = []\n",
    "x_files = []\n",
    "y_files = []\n",
    "for folder in sorted(os.listdir(path)):\n",
    "    if folder != 'Documentation.txt':\n",
    "        for subfolder in sorted(os.listdir(path + '/' + folder)):\n",
    "            if subfolder != '.DS_Store':\n",
    "                for file in sorted(os.listdir(path+ '/' + folder + '/' + subfolder)):\n",
    "                    if file.endswith(\".speed.dat\"):\n",
    "                        speed_files.append(pd.read_csv((path + '/' + folder + '/' + subfolder + '/' + file), header=None, sep=' '))\n",
    "                    if file.endswith(\".x.dat\"):\n",
    "                        x_files.append(pd.read_csv((path + '/' + folder + '/' + subfolder + '/' + file), header=None, sep=' '))\n",
    "                    if file.endswith(\".y.dat\"):\n",
    "                        y_files.append(pd.read_csv((path + '/' + folder + '/' + subfolder + '/' + file), header=None, sep=' '))"
   ]
  },
  {
   "cell_type": "code",
   "execution_count": null,
   "id": "064ee5f1",
   "metadata": {
    "scrolled": true
   },
   "outputs": [],
   "source": [
    "speed_files"
   ]
  },
  {
   "cell_type": "code",
   "execution_count": 3,
   "id": "6d0fdb80",
   "metadata": {
    "scrolled": true
   },
   "outputs": [],
   "source": [
    "cond1 = speed_files[:20]\n",
    "cond2 = speed_files[20:40]\n",
    "cond3 = speed_files[40:60]\n",
    "cond4 = speed_files[60:80]\n",
    "cond5 = speed_files[80:100]\n",
    "\n",
    "cond21 = x_files[:20]\n",
    "cond22 = x_files[20:40]\n",
    "cond23 = x_files[40:60]\n",
    "cond24 = x_files[60:80]\n",
    "cond25 = x_files[80:100]\n",
    "\n",
    "cond31 = y_files[:20]\n",
    "cond32 = y_files[20:40]\n",
    "cond33 = y_files[40:60]\n",
    "cond34 = y_files[60:80]\n",
    "cond35 = y_files[80:100]"
   ]
  },
  {
   "cell_type": "code",
   "execution_count": 4,
   "id": "2101b94a",
   "metadata": {},
   "outputs": [],
   "source": [
    "# convert to df\n",
    "c1_speed = pd.DataFrame(np.concatenate(cond1))\n",
    "c2_speed = pd.DataFrame(np.concatenate(cond2))\n",
    "c3_speed = pd.DataFrame(np.concatenate(cond3))\n",
    "c4_speed = pd.DataFrame(np.concatenate(cond4))\n",
    "c5_speed = pd.DataFrame(np.concatenate(cond5))\n",
    "\n",
    "#insert new column\n",
    "c1_speed.insert(6, 'condition', 'o_five_10n1GA_0s1x900s0s#n#n#n@40')\n",
    "c2_speed.insert(6, 'condition', 'o_five_10n2GA_0s1x900s0s#n#n#n@40')\n",
    "c3_speed.insert(6, 'condition', 'o_five_10n3GA_0s1x900s0s#n#n#n@40')\n",
    "c4_speed.insert(6, 'condition', 'o_five_10n5EA_0s1x900s0s#n#n#n@40')\n",
    "c5_speed.insert(6, 'condition', 'o_five_H2O_0s1x900s0s#n#n#n@40')\n",
    "\n",
    "#create one df\n",
    "all_speed = [c1_speed, c2_speed, c3_speed, c4_speed, c5_speed]\n",
    "speed = pd.concat(all_speed, ignore_index=True)\n",
    "\n",
    "speed.columns = ['session', 'animal', 'time', 'speed', 'x', 'y', 'condition', '6', '7']"
   ]
  },
  {
   "cell_type": "code",
   "execution_count": 5,
   "id": "45288c4f",
   "metadata": {},
   "outputs": [],
   "source": [
    "speed.to_csv('speed.csv', header=True)"
   ]
  },
  {
   "cell_type": "code",
   "execution_count": null,
   "id": "098cbb5d",
   "metadata": {},
   "outputs": [],
   "source": []
  },
  {
   "cell_type": "code",
   "execution_count": null,
   "id": "3361540b",
   "metadata": {},
   "outputs": [],
   "source": []
  },
  {
   "cell_type": "code",
   "execution_count": 7,
   "id": "04cb2f9f",
   "metadata": {},
   "outputs": [
    {
     "data": {
      "text/plain": [
       "<bound method NDFrame.head of                   session animal     time       x  \\\n",
       "0         20211025_115104      2    0.004  76.551   \n",
       "1         20211025_115104      2    0.161  76.529   \n",
       "2         20211025_115104      2    0.331  76.336   \n",
       "3         20211025_115104      2    0.493  76.249   \n",
       "4         20211025_115104      2    0.665  76.077   \n",
       "...                   ...    ...      ...     ...   \n",
       "22810635  20211116_105810   1579  899.601   2.822   \n",
       "22810636  20211116_105810   1579  899.765     2.8   \n",
       "22810637  20211116_105810   1579   899.93    2.76   \n",
       "22810638  20211116_105810   1579  900.099   2.733   \n",
       "22810639  20211116_105810   1579  900.265   2.687   \n",
       "\n",
       "                                  condition    y speed    6    7  \n",
       "0         o_five_10n1GA_0s1x900s0s#n#n#n@40  0.0   0.0  0.0  0.0  \n",
       "1         o_five_10n1GA_0s1x900s0s#n#n#n@40  0.0   0.0  0.0  0.0  \n",
       "2         o_five_10n1GA_0s1x900s0s#n#n#n@40  0.0   0.0  0.0  0.0  \n",
       "3         o_five_10n1GA_0s1x900s0s#n#n#n@40  0.0   0.0  0.0  0.0  \n",
       "4         o_five_10n1GA_0s1x900s0s#n#n#n@40  0.0   0.0  0.0  0.0  \n",
       "...                                     ...  ...   ...  ...  ...  \n",
       "22810635     o_five_H2O_0s1x900s0s#n#n#n@40  0.0   0.0  0.0  0.0  \n",
       "22810636     o_five_H2O_0s1x900s0s#n#n#n@40  0.0   0.0  0.0  0.0  \n",
       "22810637     o_five_H2O_0s1x900s0s#n#n#n@40  0.0   0.0  0.0  0.0  \n",
       "22810638     o_five_H2O_0s1x900s0s#n#n#n@40  0.0   0.0  0.0  0.0  \n",
       "22810639     o_five_H2O_0s1x900s0s#n#n#n@40  0.0   0.0  0.0  0.0  \n",
       "\n",
       "[22810640 rows x 9 columns]>"
      ]
     },
     "execution_count": 7,
     "metadata": {},
     "output_type": "execute_result"
    }
   ],
   "source": []
  },
  {
   "cell_type": "code",
   "execution_count": 6,
   "id": "765438f7",
   "metadata": {},
   "outputs": [],
   "source": [
    "c1_x = pd.DataFrame(np.concatenate(cond21))\n",
    "c2_x = pd.DataFrame(np.concatenate(cond22))\n",
    "c3_x = pd.DataFrame(np.concatenate(cond23))\n",
    "c4_x = pd.DataFrame(np.concatenate(cond24))\n",
    "c5_x = pd.DataFrame(np.concatenate(cond25))\n",
    "\n",
    "c1_x.insert(4, 'condition', 'o_five_10n1GA_0s1x900s0s#n#n#n@40')\n",
    "c2_x.insert(4, 'condition', 'o_five_10n2GA_0s1x900s0s#n#n#n@40')\n",
    "c3_x.insert(4, 'condition', 'o_five_10n3GA_0s1x900s0s#n#n#n@40')\n",
    "c4_x.insert(4, 'condition', 'o_five_10n5EA_0s1x900s0s#n#n#n@40')\n",
    "c5_x.insert(4, 'condition', 'o_five_H2O_0s1x900s0s#n#n#n@40')\n",
    "\n",
    "all_x = [c1_x, c2_x, c3_x, c4_x, c5_x]\n",
    "\n",
    "x = pd.concat(all_x, ignore_index=True)\n",
    "\n",
    "x.columns = ['session', 'animal', 'time', 'x', 'condition', 'y', 'speed', '6', '7']"
   ]
  },
  {
   "cell_type": "code",
   "execution_count": 8,
   "id": "71d7cfa8",
   "metadata": {},
   "outputs": [],
   "source": [
    "x.to_csv('x.csv', header=True)"
   ]
  },
  {
   "cell_type": "code",
   "execution_count": null,
   "id": "15f979f5",
   "metadata": {},
   "outputs": [],
   "source": []
  },
  {
   "cell_type": "code",
   "execution_count": 9,
   "id": "2b8c2160",
   "metadata": {},
   "outputs": [],
   "source": [
    "c1_y = pd.DataFrame(np.concatenate(cond31))\n",
    "c2_y = pd.DataFrame(np.concatenate(cond32))\n",
    "c3_y = pd.DataFrame(np.concatenate(cond33))\n",
    "c4_y = pd.DataFrame(np.concatenate(cond34))\n",
    "c5_y = pd.DataFrame(np.concatenate(cond35))\n",
    "\n",
    "c1_y.insert(4, 'condition', 'o_five_10n1GA_0s1x900s0s#n#n#n@40')\n",
    "c2_y.insert(4, 'condition', 'o_five_10n2GA_0s1x900s0s#n#n#n@40')\n",
    "c3_y.insert(4, 'condition', 'o_five_10n3GA_0s1x900s0s#n#n#n@40')\n",
    "c4_y.insert(4, 'condition', 'o_five_10n5EA_0s1x900s0s#n#n#n@40')\n",
    "c5_y.insert(4, 'condition', 'o_five_H2O_0s1x900s0s#n#n#n@40')\n",
    "\n",
    "all_y = [c1_y, c2_y, c3_y, c4_y, c5_y]\n",
    "\n",
    "y = pd.concat(all_y, ignore_index=True)\n",
    "\n",
    "y.columns = ['session', 'animal', 'time', 'y', 'condition', 'x', 'speed', '6', '7']"
   ]
  },
  {
   "cell_type": "code",
   "execution_count": 10,
   "id": "8c73878c",
   "metadata": {},
   "outputs": [],
   "source": [
    "y.to_csv('y.csv', header=True)"
   ]
  },
  {
   "cell_type": "code",
   "execution_count": 11,
   "id": "0cb070c7",
   "metadata": {},
   "outputs": [],
   "source": [
    "speed_test = speed[:20]\n",
    "x_test = x[:20]\n",
    "y_test = y[:20]"
   ]
  },
  {
   "cell_type": "code",
   "execution_count": 12,
   "id": "b2f4622d",
   "metadata": {},
   "outputs": [
    {
     "data": {
      "text/html": [
       "<div>\n",
       "<style scoped>\n",
       "    .dataframe tbody tr th:only-of-type {\n",
       "        vertical-align: middle;\n",
       "    }\n",
       "\n",
       "    .dataframe tbody tr th {\n",
       "        vertical-align: top;\n",
       "    }\n",
       "\n",
       "    .dataframe thead th {\n",
       "        text-align: right;\n",
       "    }\n",
       "</style>\n",
       "<table border=\"1\" class=\"dataframe\">\n",
       "  <thead>\n",
       "    <tr style=\"text-align: right;\">\n",
       "      <th></th>\n",
       "      <th>session</th>\n",
       "      <th>animal</th>\n",
       "      <th>time</th>\n",
       "      <th>speed</th>\n",
       "      <th>x</th>\n",
       "      <th>y</th>\n",
       "      <th>condition</th>\n",
       "      <th>6</th>\n",
       "      <th>7</th>\n",
       "    </tr>\n",
       "  </thead>\n",
       "  <tbody>\n",
       "    <tr>\n",
       "      <th>0</th>\n",
       "      <td>20211025_115104</td>\n",
       "      <td>2</td>\n",
       "      <td>0.004</td>\n",
       "      <td>0.0</td>\n",
       "      <td>0.0</td>\n",
       "      <td>0.0</td>\n",
       "      <td>o_five_10n1GA_0s1x900s0s#n#n#n@40</td>\n",
       "      <td>0.0</td>\n",
       "      <td>0.0</td>\n",
       "    </tr>\n",
       "    <tr>\n",
       "      <th>1</th>\n",
       "      <td>20211025_115104</td>\n",
       "      <td>2</td>\n",
       "      <td>0.161</td>\n",
       "      <td>0.646</td>\n",
       "      <td>0.0</td>\n",
       "      <td>0.0</td>\n",
       "      <td>o_five_10n1GA_0s1x900s0s#n#n#n@40</td>\n",
       "      <td>0.0</td>\n",
       "      <td>0.0</td>\n",
       "    </tr>\n",
       "    <tr>\n",
       "      <th>2</th>\n",
       "      <td>20211025_115104</td>\n",
       "      <td>2</td>\n",
       "      <td>0.331</td>\n",
       "      <td>0.857</td>\n",
       "      <td>0.0</td>\n",
       "      <td>0.0</td>\n",
       "      <td>o_five_10n1GA_0s1x900s0s#n#n#n@40</td>\n",
       "      <td>0.0</td>\n",
       "      <td>0.0</td>\n",
       "    </tr>\n",
       "    <tr>\n",
       "      <th>3</th>\n",
       "      <td>20211025_115104</td>\n",
       "      <td>2</td>\n",
       "      <td>0.493</td>\n",
       "      <td>0.788</td>\n",
       "      <td>0.0</td>\n",
       "      <td>0.0</td>\n",
       "      <td>o_five_10n1GA_0s1x900s0s#n#n#n@40</td>\n",
       "      <td>0.0</td>\n",
       "      <td>0.0</td>\n",
       "    </tr>\n",
       "    <tr>\n",
       "      <th>4</th>\n",
       "      <td>20211025_115104</td>\n",
       "      <td>2</td>\n",
       "      <td>0.665</td>\n",
       "      <td>0.967</td>\n",
       "      <td>0.0</td>\n",
       "      <td>0.0</td>\n",
       "      <td>o_five_10n1GA_0s1x900s0s#n#n#n@40</td>\n",
       "      <td>0.0</td>\n",
       "      <td>0.0</td>\n",
       "    </tr>\n",
       "    <tr>\n",
       "      <th>5</th>\n",
       "      <td>20211025_115104</td>\n",
       "      <td>2</td>\n",
       "      <td>0.824</td>\n",
       "      <td>1.023</td>\n",
       "      <td>0.0</td>\n",
       "      <td>0.0</td>\n",
       "      <td>o_five_10n1GA_0s1x900s0s#n#n#n@40</td>\n",
       "      <td>0.0</td>\n",
       "      <td>0.0</td>\n",
       "    </tr>\n",
       "    <tr>\n",
       "      <th>6</th>\n",
       "      <td>20211025_115104</td>\n",
       "      <td>2</td>\n",
       "      <td>0.99</td>\n",
       "      <td>0.928</td>\n",
       "      <td>0.0</td>\n",
       "      <td>0.0</td>\n",
       "      <td>o_five_10n1GA_0s1x900s0s#n#n#n@40</td>\n",
       "      <td>0.0</td>\n",
       "      <td>0.0</td>\n",
       "    </tr>\n",
       "    <tr>\n",
       "      <th>7</th>\n",
       "      <td>20211025_115104</td>\n",
       "      <td>2</td>\n",
       "      <td>1.159</td>\n",
       "      <td>0.444</td>\n",
       "      <td>0.0</td>\n",
       "      <td>0.0</td>\n",
       "      <td>o_five_10n1GA_0s1x900s0s#n#n#n@40</td>\n",
       "      <td>0.0</td>\n",
       "      <td>0.0</td>\n",
       "    </tr>\n",
       "    <tr>\n",
       "      <th>8</th>\n",
       "      <td>20211025_115104</td>\n",
       "      <td>2</td>\n",
       "      <td>1.33</td>\n",
       "      <td>0.179</td>\n",
       "      <td>0.0</td>\n",
       "      <td>0.0</td>\n",
       "      <td>o_five_10n1GA_0s1x900s0s#n#n#n@40</td>\n",
       "      <td>0.0</td>\n",
       "      <td>0.0</td>\n",
       "    </tr>\n",
       "    <tr>\n",
       "      <th>9</th>\n",
       "      <td>20211025_115104</td>\n",
       "      <td>2</td>\n",
       "      <td>1.49</td>\n",
       "      <td>0.353</td>\n",
       "      <td>0.0</td>\n",
       "      <td>0.0</td>\n",
       "      <td>o_five_10n1GA_0s1x900s0s#n#n#n@40</td>\n",
       "      <td>0.0</td>\n",
       "      <td>0.0</td>\n",
       "    </tr>\n",
       "    <tr>\n",
       "      <th>10</th>\n",
       "      <td>20211025_115104</td>\n",
       "      <td>2</td>\n",
       "      <td>1.663</td>\n",
       "      <td>0.847</td>\n",
       "      <td>0.0</td>\n",
       "      <td>0.0</td>\n",
       "      <td>o_five_10n1GA_0s1x900s0s#n#n#n@40</td>\n",
       "      <td>0.0</td>\n",
       "      <td>0.0</td>\n",
       "    </tr>\n",
       "    <tr>\n",
       "      <th>11</th>\n",
       "      <td>20211025_115104</td>\n",
       "      <td>2</td>\n",
       "      <td>1.825</td>\n",
       "      <td>0.745</td>\n",
       "      <td>0.0</td>\n",
       "      <td>0.0</td>\n",
       "      <td>o_five_10n1GA_0s1x900s0s#n#n#n@40</td>\n",
       "      <td>0.0</td>\n",
       "      <td>0.0</td>\n",
       "    </tr>\n",
       "    <tr>\n",
       "      <th>12</th>\n",
       "      <td>20211025_115104</td>\n",
       "      <td>2</td>\n",
       "      <td>1.996</td>\n",
       "      <td>0.685</td>\n",
       "      <td>0.0</td>\n",
       "      <td>0.0</td>\n",
       "      <td>o_five_10n1GA_0s1x900s0s#n#n#n@40</td>\n",
       "      <td>0.0</td>\n",
       "      <td>0.0</td>\n",
       "    </tr>\n",
       "    <tr>\n",
       "      <th>13</th>\n",
       "      <td>20211025_115104</td>\n",
       "      <td>2</td>\n",
       "      <td>2.157</td>\n",
       "      <td>0.786</td>\n",
       "      <td>0.0</td>\n",
       "      <td>0.0</td>\n",
       "      <td>o_five_10n1GA_0s1x900s0s#n#n#n@40</td>\n",
       "      <td>0.0</td>\n",
       "      <td>0.0</td>\n",
       "    </tr>\n",
       "    <tr>\n",
       "      <th>14</th>\n",
       "      <td>20211025_115104</td>\n",
       "      <td>2</td>\n",
       "      <td>2.325</td>\n",
       "      <td>0.708</td>\n",
       "      <td>0.0</td>\n",
       "      <td>0.0</td>\n",
       "      <td>o_five_10n1GA_0s1x900s0s#n#n#n@40</td>\n",
       "      <td>0.0</td>\n",
       "      <td>0.0</td>\n",
       "    </tr>\n",
       "    <tr>\n",
       "      <th>15</th>\n",
       "      <td>20211025_115104</td>\n",
       "      <td>2</td>\n",
       "      <td>2.491</td>\n",
       "      <td>1.126</td>\n",
       "      <td>0.0</td>\n",
       "      <td>0.0</td>\n",
       "      <td>o_five_10n1GA_0s1x900s0s#n#n#n@40</td>\n",
       "      <td>0.0</td>\n",
       "      <td>0.0</td>\n",
       "    </tr>\n",
       "    <tr>\n",
       "      <th>16</th>\n",
       "      <td>20211025_115104</td>\n",
       "      <td>2</td>\n",
       "      <td>2.662</td>\n",
       "      <td>0.78</td>\n",
       "      <td>0.0</td>\n",
       "      <td>0.0</td>\n",
       "      <td>o_five_10n1GA_0s1x900s0s#n#n#n@40</td>\n",
       "      <td>0.0</td>\n",
       "      <td>0.0</td>\n",
       "    </tr>\n",
       "    <tr>\n",
       "      <th>17</th>\n",
       "      <td>20211025_115104</td>\n",
       "      <td>2</td>\n",
       "      <td>2.824</td>\n",
       "      <td>0.88</td>\n",
       "      <td>0.0</td>\n",
       "      <td>0.0</td>\n",
       "      <td>o_five_10n1GA_0s1x900s0s#n#n#n@40</td>\n",
       "      <td>0.0</td>\n",
       "      <td>0.0</td>\n",
       "    </tr>\n",
       "    <tr>\n",
       "      <th>18</th>\n",
       "      <td>20211025_115104</td>\n",
       "      <td>2</td>\n",
       "      <td>2.994</td>\n",
       "      <td>1.376</td>\n",
       "      <td>0.0</td>\n",
       "      <td>0.0</td>\n",
       "      <td>o_five_10n1GA_0s1x900s0s#n#n#n@40</td>\n",
       "      <td>0.0</td>\n",
       "      <td>0.0</td>\n",
       "    </tr>\n",
       "    <tr>\n",
       "      <th>19</th>\n",
       "      <td>20211025_115104</td>\n",
       "      <td>2</td>\n",
       "      <td>3.155</td>\n",
       "      <td>1.309</td>\n",
       "      <td>0.0</td>\n",
       "      <td>0.0</td>\n",
       "      <td>o_five_10n1GA_0s1x900s0s#n#n#n@40</td>\n",
       "      <td>0.0</td>\n",
       "      <td>0.0</td>\n",
       "    </tr>\n",
       "  </tbody>\n",
       "</table>\n",
       "</div>"
      ],
      "text/plain": [
       "            session animal   time  speed    x    y  \\\n",
       "0   20211025_115104      2  0.004    0.0  0.0  0.0   \n",
       "1   20211025_115104      2  0.161  0.646  0.0  0.0   \n",
       "2   20211025_115104      2  0.331  0.857  0.0  0.0   \n",
       "3   20211025_115104      2  0.493  0.788  0.0  0.0   \n",
       "4   20211025_115104      2  0.665  0.967  0.0  0.0   \n",
       "5   20211025_115104      2  0.824  1.023  0.0  0.0   \n",
       "6   20211025_115104      2   0.99  0.928  0.0  0.0   \n",
       "7   20211025_115104      2  1.159  0.444  0.0  0.0   \n",
       "8   20211025_115104      2   1.33  0.179  0.0  0.0   \n",
       "9   20211025_115104      2   1.49  0.353  0.0  0.0   \n",
       "10  20211025_115104      2  1.663  0.847  0.0  0.0   \n",
       "11  20211025_115104      2  1.825  0.745  0.0  0.0   \n",
       "12  20211025_115104      2  1.996  0.685  0.0  0.0   \n",
       "13  20211025_115104      2  2.157  0.786  0.0  0.0   \n",
       "14  20211025_115104      2  2.325  0.708  0.0  0.0   \n",
       "15  20211025_115104      2  2.491  1.126  0.0  0.0   \n",
       "16  20211025_115104      2  2.662   0.78  0.0  0.0   \n",
       "17  20211025_115104      2  2.824   0.88  0.0  0.0   \n",
       "18  20211025_115104      2  2.994  1.376  0.0  0.0   \n",
       "19  20211025_115104      2  3.155  1.309  0.0  0.0   \n",
       "\n",
       "                            condition    6    7  \n",
       "0   o_five_10n1GA_0s1x900s0s#n#n#n@40  0.0  0.0  \n",
       "1   o_five_10n1GA_0s1x900s0s#n#n#n@40  0.0  0.0  \n",
       "2   o_five_10n1GA_0s1x900s0s#n#n#n@40  0.0  0.0  \n",
       "3   o_five_10n1GA_0s1x900s0s#n#n#n@40  0.0  0.0  \n",
       "4   o_five_10n1GA_0s1x900s0s#n#n#n@40  0.0  0.0  \n",
       "5   o_five_10n1GA_0s1x900s0s#n#n#n@40  0.0  0.0  \n",
       "6   o_five_10n1GA_0s1x900s0s#n#n#n@40  0.0  0.0  \n",
       "7   o_five_10n1GA_0s1x900s0s#n#n#n@40  0.0  0.0  \n",
       "8   o_five_10n1GA_0s1x900s0s#n#n#n@40  0.0  0.0  \n",
       "9   o_five_10n1GA_0s1x900s0s#n#n#n@40  0.0  0.0  \n",
       "10  o_five_10n1GA_0s1x900s0s#n#n#n@40  0.0  0.0  \n",
       "11  o_five_10n1GA_0s1x900s0s#n#n#n@40  0.0  0.0  \n",
       "12  o_five_10n1GA_0s1x900s0s#n#n#n@40  0.0  0.0  \n",
       "13  o_five_10n1GA_0s1x900s0s#n#n#n@40  0.0  0.0  \n",
       "14  o_five_10n1GA_0s1x900s0s#n#n#n@40  0.0  0.0  \n",
       "15  o_five_10n1GA_0s1x900s0s#n#n#n@40  0.0  0.0  \n",
       "16  o_five_10n1GA_0s1x900s0s#n#n#n@40  0.0  0.0  \n",
       "17  o_five_10n1GA_0s1x900s0s#n#n#n@40  0.0  0.0  \n",
       "18  o_five_10n1GA_0s1x900s0s#n#n#n@40  0.0  0.0  \n",
       "19  o_five_10n1GA_0s1x900s0s#n#n#n@40  0.0  0.0  "
      ]
     },
     "execution_count": 12,
     "metadata": {},
     "output_type": "execute_result"
    }
   ],
   "source": [
    "speed_test"
   ]
  },
  {
   "cell_type": "code",
   "execution_count": 16,
   "id": "16e4a937",
   "metadata": {},
   "outputs": [],
   "source": [
    "df_test = pd.merge(speed_test[['session', 'animal', 'time', 'speed', 'condition']], x_test[['x', 'session', 'animal', 'condition']], how='left', left_on=['session', 'animal', 'condition'], right_on=['session', 'animal', 'condition'])"
   ]
  },
  {
   "cell_type": "code",
   "execution_count": 19,
   "id": "cc6198eb",
   "metadata": {},
   "outputs": [],
   "source": [
    "df_test = pd.merge(df_test[['session', 'animal', 'time', 'speed', 'condition', 'x']], y_test[['y', 'session', 'animal', 'condition']], how='left', left_on=['session', 'animal', 'condition'], right_on=['session', 'animal', 'condition'])"
   ]
  },
  {
   "cell_type": "code",
   "execution_count": 20,
   "id": "fe17e571",
   "metadata": {},
   "outputs": [
    {
     "data": {
      "text/html": [
       "<div>\n",
       "<style scoped>\n",
       "    .dataframe tbody tr th:only-of-type {\n",
       "        vertical-align: middle;\n",
       "    }\n",
       "\n",
       "    .dataframe tbody tr th {\n",
       "        vertical-align: top;\n",
       "    }\n",
       "\n",
       "    .dataframe thead th {\n",
       "        text-align: right;\n",
       "    }\n",
       "</style>\n",
       "<table border=\"1\" class=\"dataframe\">\n",
       "  <thead>\n",
       "    <tr style=\"text-align: right;\">\n",
       "      <th></th>\n",
       "      <th>session</th>\n",
       "      <th>animal</th>\n",
       "      <th>time</th>\n",
       "      <th>speed</th>\n",
       "      <th>condition</th>\n",
       "      <th>x</th>\n",
       "      <th>y</th>\n",
       "    </tr>\n",
       "  </thead>\n",
       "  <tbody>\n",
       "    <tr>\n",
       "      <th>0</th>\n",
       "      <td>20211025_115104</td>\n",
       "      <td>2</td>\n",
       "      <td>0.004</td>\n",
       "      <td>0.0</td>\n",
       "      <td>o_five_10n1GA_0s1x900s0s#n#n#n@40</td>\n",
       "      <td>76.551</td>\n",
       "      <td>151.933</td>\n",
       "    </tr>\n",
       "    <tr>\n",
       "      <th>1</th>\n",
       "      <td>20211025_115104</td>\n",
       "      <td>2</td>\n",
       "      <td>0.004</td>\n",
       "      <td>0.0</td>\n",
       "      <td>o_five_10n1GA_0s1x900s0s#n#n#n@40</td>\n",
       "      <td>76.551</td>\n",
       "      <td>151.945</td>\n",
       "    </tr>\n",
       "    <tr>\n",
       "      <th>2</th>\n",
       "      <td>20211025_115104</td>\n",
       "      <td>2</td>\n",
       "      <td>0.004</td>\n",
       "      <td>0.0</td>\n",
       "      <td>o_five_10n1GA_0s1x900s0s#n#n#n@40</td>\n",
       "      <td>76.551</td>\n",
       "      <td>151.97</td>\n",
       "    </tr>\n",
       "    <tr>\n",
       "      <th>3</th>\n",
       "      <td>20211025_115104</td>\n",
       "      <td>2</td>\n",
       "      <td>0.004</td>\n",
       "      <td>0.0</td>\n",
       "      <td>o_five_10n1GA_0s1x900s0s#n#n#n@40</td>\n",
       "      <td>76.551</td>\n",
       "      <td>152.004</td>\n",
       "    </tr>\n",
       "    <tr>\n",
       "      <th>4</th>\n",
       "      <td>20211025_115104</td>\n",
       "      <td>2</td>\n",
       "      <td>0.004</td>\n",
       "      <td>0.0</td>\n",
       "      <td>o_five_10n1GA_0s1x900s0s#n#n#n@40</td>\n",
       "      <td>76.551</td>\n",
       "      <td>152.027</td>\n",
       "    </tr>\n",
       "    <tr>\n",
       "      <th>...</th>\n",
       "      <td>...</td>\n",
       "      <td>...</td>\n",
       "      <td>...</td>\n",
       "      <td>...</td>\n",
       "      <td>...</td>\n",
       "      <td>...</td>\n",
       "      <td>...</td>\n",
       "    </tr>\n",
       "    <tr>\n",
       "      <th>7995</th>\n",
       "      <td>20211025_115104</td>\n",
       "      <td>2</td>\n",
       "      <td>3.155</td>\n",
       "      <td>1.309</td>\n",
       "      <td>o_five_10n1GA_0s1x900s0s#n#n#n@40</td>\n",
       "      <td>74.147</td>\n",
       "      <td>152.319</td>\n",
       "    </tr>\n",
       "    <tr>\n",
       "      <th>7996</th>\n",
       "      <td>20211025_115104</td>\n",
       "      <td>2</td>\n",
       "      <td>3.155</td>\n",
       "      <td>1.309</td>\n",
       "      <td>o_five_10n1GA_0s1x900s0s#n#n#n@40</td>\n",
       "      <td>74.147</td>\n",
       "      <td>152.299</td>\n",
       "    </tr>\n",
       "    <tr>\n",
       "      <th>7997</th>\n",
       "      <td>20211025_115104</td>\n",
       "      <td>2</td>\n",
       "      <td>3.155</td>\n",
       "      <td>1.309</td>\n",
       "      <td>o_five_10n1GA_0s1x900s0s#n#n#n@40</td>\n",
       "      <td>74.147</td>\n",
       "      <td>152.293</td>\n",
       "    </tr>\n",
       "    <tr>\n",
       "      <th>7998</th>\n",
       "      <td>20211025_115104</td>\n",
       "      <td>2</td>\n",
       "      <td>3.155</td>\n",
       "      <td>1.309</td>\n",
       "      <td>o_five_10n1GA_0s1x900s0s#n#n#n@40</td>\n",
       "      <td>74.147</td>\n",
       "      <td>152.288</td>\n",
       "    </tr>\n",
       "    <tr>\n",
       "      <th>7999</th>\n",
       "      <td>20211025_115104</td>\n",
       "      <td>2</td>\n",
       "      <td>3.155</td>\n",
       "      <td>1.309</td>\n",
       "      <td>o_five_10n1GA_0s1x900s0s#n#n#n@40</td>\n",
       "      <td>74.147</td>\n",
       "      <td>152.252</td>\n",
       "    </tr>\n",
       "  </tbody>\n",
       "</table>\n",
       "<p>8000 rows × 7 columns</p>\n",
       "</div>"
      ],
      "text/plain": [
       "              session animal   time  speed                          condition  \\\n",
       "0     20211025_115104      2  0.004    0.0  o_five_10n1GA_0s1x900s0s#n#n#n@40   \n",
       "1     20211025_115104      2  0.004    0.0  o_five_10n1GA_0s1x900s0s#n#n#n@40   \n",
       "2     20211025_115104      2  0.004    0.0  o_five_10n1GA_0s1x900s0s#n#n#n@40   \n",
       "3     20211025_115104      2  0.004    0.0  o_five_10n1GA_0s1x900s0s#n#n#n@40   \n",
       "4     20211025_115104      2  0.004    0.0  o_five_10n1GA_0s1x900s0s#n#n#n@40   \n",
       "...               ...    ...    ...    ...                                ...   \n",
       "7995  20211025_115104      2  3.155  1.309  o_five_10n1GA_0s1x900s0s#n#n#n@40   \n",
       "7996  20211025_115104      2  3.155  1.309  o_five_10n1GA_0s1x900s0s#n#n#n@40   \n",
       "7997  20211025_115104      2  3.155  1.309  o_five_10n1GA_0s1x900s0s#n#n#n@40   \n",
       "7998  20211025_115104      2  3.155  1.309  o_five_10n1GA_0s1x900s0s#n#n#n@40   \n",
       "7999  20211025_115104      2  3.155  1.309  o_five_10n1GA_0s1x900s0s#n#n#n@40   \n",
       "\n",
       "           x        y  \n",
       "0     76.551  151.933  \n",
       "1     76.551  151.945  \n",
       "2     76.551   151.97  \n",
       "3     76.551  152.004  \n",
       "4     76.551  152.027  \n",
       "...      ...      ...  \n",
       "7995  74.147  152.319  \n",
       "7996  74.147  152.299  \n",
       "7997  74.147  152.293  \n",
       "7998  74.147  152.288  \n",
       "7999  74.147  152.252  \n",
       "\n",
       "[8000 rows x 7 columns]"
      ]
     },
     "execution_count": 20,
     "metadata": {},
     "output_type": "execute_result"
    }
   ],
   "source": [
    "df_test"
   ]
  },
  {
   "cell_type": "code",
   "execution_count": null,
   "id": "346c0fdf",
   "metadata": {},
   "outputs": [],
   "source": [
    "df = pd.merge(speed[['session', 'animal', 'time', 'speed', 'condition']], x[['x', 'session', 'animal', 'condition']], how='left', left_on=['session', 'animal', 'condition'], right_on=['session', 'animal', 'condition'])"
   ]
  },
  {
   "cell_type": "code",
   "execution_count": null,
   "id": "11b6082a",
   "metadata": {},
   "outputs": [],
   "source": [
    "df"
   ]
  },
  {
   "cell_type": "code",
   "execution_count": null,
   "id": "d29df730",
   "metadata": {
    "scrolled": true
   },
   "outputs": [],
   "source": [
    "speed = [cond1, cond2, cond3, cond4, cond5]\n",
    "x = [cond21, cond22, cond23, cond24, cond25]\n",
    "y = [cond31, cond32, cond33, cond34, cond35]"
   ]
  },
  {
   "cell_type": "code",
   "execution_count": null,
   "id": "bd42078d",
   "metadata": {
    "scrolled": false
   },
   "outputs": [],
   "source": [
    "data = [speed, x, y]\n",
    "data"
   ]
  },
  {
   "cell_type": "code",
   "execution_count": null,
   "id": "3122ff9a",
   "metadata": {
    "scrolled": false
   },
   "outputs": [],
   "source": []
  },
  {
   "cell_type": "code",
   "execution_count": null,
   "id": "20324289",
   "metadata": {
    "scrolled": true
   },
   "outputs": [],
   "source": []
  },
  {
   "cell_type": "code",
   "execution_count": null,
   "id": "25c446e4",
   "metadata": {
    "scrolled": false
   },
   "outputs": [],
   "source": []
  },
  {
   "cell_type": "code",
   "execution_count": null,
   "id": "063b77e2",
   "metadata": {
    "scrolled": true
   },
   "outputs": [],
   "source": [
    "condition = []\n",
    "session = []\n",
    "\n",
    "for folder in sorted(os.listdir(path)):\n",
    "    if folder != 'Documentation.txt':\n",
    "        condition.append(folder)\n",
    "        for subfolder in sorted(os.listdir(path + '/' + folder)):\n",
    "            if subfolder != '.DS_Store':\n",
    "                session.append(subfolder)"
   ]
  },
  {
   "cell_type": "code",
   "execution_count": null,
   "id": "0a84c3d9",
   "metadata": {
    "scrolled": true
   },
   "outputs": [],
   "source": [
    "from pathlib import Path\n",
    "from itertools import groupby\n",
    "from functools import partial\n",
    "\n",
    "def key(i, file): return file.parent.parts[i]\n",
    "\n",
    "data = []\n",
    "for _, group1 in groupby(path.rglob(\"*.dat\"), key=partial(key, 1)):\n",
    "    data.append([])\n",
    "    for _, group2 in groupby(group1, key=partial(key, 2)):\n",
    "        data[-1].append([file.name for file in group2 ])"
   ]
  },
  {
   "cell_type": "code",
   "execution_count": null,
   "id": "7945ed73",
   "metadata": {},
   "outputs": [],
   "source": []
  },
  {
   "cell_type": "code",
   "execution_count": null,
   "id": "4057e2b4",
   "metadata": {
    "scrolled": true
   },
   "outputs": [],
   "source": []
  },
  {
   "cell_type": "code",
   "execution_count": null,
   "id": "c43f2ae2",
   "metadata": {},
   "outputs": [],
   "source": []
  },
  {
   "cell_type": "markdown",
   "id": "c51cc4c5",
   "metadata": {},
   "source": [
    "# load in saved df in csv files"
   ]
  },
  {
   "cell_type": "code",
   "execution_count": null,
   "id": "916d4ec4",
   "metadata": {},
   "outputs": [],
   "source": [
    "speed = pd.read_csv('/Users/kiristern/Desktop/QLS600/Mod6/df/speed.csv', sep='\\t')\n",
    "x = pd.read_csv('/Users/kiristern/Desktop/QLS600/Mod6/df/x.csv', sep='\\t')\n",
    "y = pd.read_csv('/Users/kiristern/Desktop/QLS600/Mod6/df/y.csv', sep='\\t')\n",
    "\n",
    "\n"
   ]
  },
  {
   "cell_type": "code",
   "execution_count": null,
   "id": "1748011a",
   "metadata": {},
   "outputs": [],
   "source": []
  }
 ],
 "metadata": {
  "@webio": {
   "lastCommId": null,
   "lastKernelId": null
  },
  "kernelspec": {
   "display_name": "Python 3 (ipykernel)",
   "language": "python",
   "name": "python3"
  },
  "language_info": {
   "codemirror_mode": {
    "name": "ipython",
    "version": 3
   },
   "file_extension": ".py",
   "mimetype": "text/x-python",
   "name": "python",
   "nbconvert_exporter": "python",
   "pygments_lexer": "ipython3",
   "version": "3.8.12"
  }
 },
 "nbformat": 4,
 "nbformat_minor": 5
}
