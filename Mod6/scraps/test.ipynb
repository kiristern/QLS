{
 "cells": [
  {
   "cell_type": "code",
   "execution_count": 1,
   "id": "6144dd48",
   "metadata": {},
   "outputs": [],
   "source": [
    "import pandas as pd\n",
    "\n",
    "df ={'animal' : [1, 1, 1, 1, 1, 1, 1, 2, 2],\n",
    "     'x':[76.551, 77.529, 78.336,77, 78.02, 79.23, 77.733, 79.249,  76.077],\n",
    "     'y': [151.933, 152.945, 153.970, 119.369, 120.615, 118.935, 119.115, 152.004, 153.027],\n",
    "    'time': [0, 1, 2, 0, 3,2,5, 0, 1]}\n",
    "df = pd.DataFrame(df)\n",
    "\n",
    "# get distance travelled between points\n",
    "def get_diff(df):\n",
    "    dx = (df['x'] - df.groupby('animal')['x'].shift(1))\n",
    "    dy = (df['y'] - df.groupby('animal')['y'].shift(1))\n",
    "    df['distance'] = (dx**2 + dy**2)**0.5\n",
    "    return df\n",
    "\n",
    "# get the start coordinates\n",
    "def get_startend(df):\n",
    "    for i in range(len(df)):\n",
    "        df.loc[df['distance'] > 5, 'position'] = 'start'\n",
    "        df.loc[df['distance'].isnull(), 'position'] = 'start'\n",
    "    cond = df['position'].shift(-1).str.contains('start').fillna(False)\n",
    "    df.loc[cond, 'position'] = 'end'\n",
    "    df['position'].iloc[-1] = 'end'\n",
    "    return df\n"
   ]
  },
  {
   "cell_type": "code",
   "execution_count": null,
   "id": "29c8f5bb",
   "metadata": {},
   "outputs": [],
   "source": []
  },
  {
   "cell_type": "code",
   "execution_count": 2,
   "id": "6fc23d80",
   "metadata": {},
   "outputs": [
    {
     "data": {
      "text/html": [
       "<div>\n",
       "<style scoped>\n",
       "    .dataframe tbody tr th:only-of-type {\n",
       "        vertical-align: middle;\n",
       "    }\n",
       "\n",
       "    .dataframe tbody tr th {\n",
       "        vertical-align: top;\n",
       "    }\n",
       "\n",
       "    .dataframe thead th {\n",
       "        text-align: right;\n",
       "    }\n",
       "</style>\n",
       "<table border=\"1\" class=\"dataframe\">\n",
       "  <thead>\n",
       "    <tr style=\"text-align: right;\">\n",
       "      <th></th>\n",
       "      <th>animal</th>\n",
       "      <th>x</th>\n",
       "      <th>y</th>\n",
       "      <th>time</th>\n",
       "      <th>distance</th>\n",
       "    </tr>\n",
       "  </thead>\n",
       "  <tbody>\n",
       "    <tr>\n",
       "      <th>0</th>\n",
       "      <td>1</td>\n",
       "      <td>76.551</td>\n",
       "      <td>151.933</td>\n",
       "      <td>0</td>\n",
       "      <td>NaN</td>\n",
       "    </tr>\n",
       "    <tr>\n",
       "      <th>1</th>\n",
       "      <td>1</td>\n",
       "      <td>77.529</td>\n",
       "      <td>152.945</td>\n",
       "      <td>1</td>\n",
       "      <td>1.407348</td>\n",
       "    </tr>\n",
       "    <tr>\n",
       "      <th>2</th>\n",
       "      <td>1</td>\n",
       "      <td>78.336</td>\n",
       "      <td>153.970</td>\n",
       "      <td>2</td>\n",
       "      <td>1.304559</td>\n",
       "    </tr>\n",
       "    <tr>\n",
       "      <th>3</th>\n",
       "      <td>1</td>\n",
       "      <td>77.000</td>\n",
       "      <td>119.369</td>\n",
       "      <td>0</td>\n",
       "      <td>34.626783</td>\n",
       "    </tr>\n",
       "    <tr>\n",
       "      <th>4</th>\n",
       "      <td>1</td>\n",
       "      <td>78.020</td>\n",
       "      <td>120.615</td>\n",
       "      <td>3</td>\n",
       "      <td>1.610253</td>\n",
       "    </tr>\n",
       "    <tr>\n",
       "      <th>5</th>\n",
       "      <td>1</td>\n",
       "      <td>79.230</td>\n",
       "      <td>118.935</td>\n",
       "      <td>2</td>\n",
       "      <td>2.070386</td>\n",
       "    </tr>\n",
       "    <tr>\n",
       "      <th>6</th>\n",
       "      <td>1</td>\n",
       "      <td>77.733</td>\n",
       "      <td>119.115</td>\n",
       "      <td>5</td>\n",
       "      <td>1.507783</td>\n",
       "    </tr>\n",
       "    <tr>\n",
       "      <th>7</th>\n",
       "      <td>2</td>\n",
       "      <td>79.249</td>\n",
       "      <td>152.004</td>\n",
       "      <td>0</td>\n",
       "      <td>NaN</td>\n",
       "    </tr>\n",
       "    <tr>\n",
       "      <th>8</th>\n",
       "      <td>2</td>\n",
       "      <td>76.077</td>\n",
       "      <td>153.027</td>\n",
       "      <td>1</td>\n",
       "      <td>3.332884</td>\n",
       "    </tr>\n",
       "  </tbody>\n",
       "</table>\n",
       "</div>"
      ],
      "text/plain": [
       "   animal       x        y  time   distance\n",
       "0       1  76.551  151.933     0        NaN\n",
       "1       1  77.529  152.945     1   1.407348\n",
       "2       1  78.336  153.970     2   1.304559\n",
       "3       1  77.000  119.369     0  34.626783\n",
       "4       1  78.020  120.615     3   1.610253\n",
       "5       1  79.230  118.935     2   2.070386\n",
       "6       1  77.733  119.115     5   1.507783\n",
       "7       2  79.249  152.004     0        NaN\n",
       "8       2  76.077  153.027     1   3.332884"
      ]
     },
     "execution_count": 2,
     "metadata": {},
     "output_type": "execute_result"
    }
   ],
   "source": [
    "df = get_diff(df)\n",
    "df\n"
   ]
  },
  {
   "cell_type": "code",
   "execution_count": 3,
   "id": "71f6b8c3",
   "metadata": {},
   "outputs": [
    {
     "name": "stderr",
     "output_type": "stream",
     "text": [
      "/var/folders/hd/7kkcl2qd5xq_6x2gc7_dcj100000gn/T/ipykernel_69445/1069424760.py:23: SettingWithCopyWarning: \n",
      "A value is trying to be set on a copy of a slice from a DataFrame\n",
      "\n",
      "See the caveats in the documentation: https://pandas.pydata.org/pandas-docs/stable/user_guide/indexing.html#returning-a-view-versus-a-copy\n",
      "  df['position'].iloc[-1] = 'end'\n"
     ]
    },
    {
     "data": {
      "text/html": [
       "<div>\n",
       "<style scoped>\n",
       "    .dataframe tbody tr th:only-of-type {\n",
       "        vertical-align: middle;\n",
       "    }\n",
       "\n",
       "    .dataframe tbody tr th {\n",
       "        vertical-align: top;\n",
       "    }\n",
       "\n",
       "    .dataframe thead th {\n",
       "        text-align: right;\n",
       "    }\n",
       "</style>\n",
       "<table border=\"1\" class=\"dataframe\">\n",
       "  <thead>\n",
       "    <tr style=\"text-align: right;\">\n",
       "      <th></th>\n",
       "      <th>animal</th>\n",
       "      <th>x</th>\n",
       "      <th>y</th>\n",
       "      <th>time</th>\n",
       "      <th>distance</th>\n",
       "      <th>position</th>\n",
       "    </tr>\n",
       "  </thead>\n",
       "  <tbody>\n",
       "    <tr>\n",
       "      <th>0</th>\n",
       "      <td>1</td>\n",
       "      <td>76.551</td>\n",
       "      <td>151.933</td>\n",
       "      <td>0</td>\n",
       "      <td>NaN</td>\n",
       "      <td>start</td>\n",
       "    </tr>\n",
       "    <tr>\n",
       "      <th>1</th>\n",
       "      <td>1</td>\n",
       "      <td>77.529</td>\n",
       "      <td>152.945</td>\n",
       "      <td>1</td>\n",
       "      <td>1.407348</td>\n",
       "      <td>NaN</td>\n",
       "    </tr>\n",
       "    <tr>\n",
       "      <th>2</th>\n",
       "      <td>1</td>\n",
       "      <td>78.336</td>\n",
       "      <td>153.970</td>\n",
       "      <td>2</td>\n",
       "      <td>1.304559</td>\n",
       "      <td>end</td>\n",
       "    </tr>\n",
       "    <tr>\n",
       "      <th>3</th>\n",
       "      <td>1</td>\n",
       "      <td>77.000</td>\n",
       "      <td>119.369</td>\n",
       "      <td>0</td>\n",
       "      <td>34.626783</td>\n",
       "      <td>start</td>\n",
       "    </tr>\n",
       "    <tr>\n",
       "      <th>4</th>\n",
       "      <td>1</td>\n",
       "      <td>78.020</td>\n",
       "      <td>120.615</td>\n",
       "      <td>3</td>\n",
       "      <td>1.610253</td>\n",
       "      <td>NaN</td>\n",
       "    </tr>\n",
       "    <tr>\n",
       "      <th>5</th>\n",
       "      <td>1</td>\n",
       "      <td>79.230</td>\n",
       "      <td>118.935</td>\n",
       "      <td>2</td>\n",
       "      <td>2.070386</td>\n",
       "      <td>NaN</td>\n",
       "    </tr>\n",
       "    <tr>\n",
       "      <th>6</th>\n",
       "      <td>1</td>\n",
       "      <td>77.733</td>\n",
       "      <td>119.115</td>\n",
       "      <td>5</td>\n",
       "      <td>1.507783</td>\n",
       "      <td>end</td>\n",
       "    </tr>\n",
       "    <tr>\n",
       "      <th>7</th>\n",
       "      <td>2</td>\n",
       "      <td>79.249</td>\n",
       "      <td>152.004</td>\n",
       "      <td>0</td>\n",
       "      <td>NaN</td>\n",
       "      <td>start</td>\n",
       "    </tr>\n",
       "    <tr>\n",
       "      <th>8</th>\n",
       "      <td>2</td>\n",
       "      <td>76.077</td>\n",
       "      <td>153.027</td>\n",
       "      <td>1</td>\n",
       "      <td>3.332884</td>\n",
       "      <td>end</td>\n",
       "    </tr>\n",
       "  </tbody>\n",
       "</table>\n",
       "</div>"
      ],
      "text/plain": [
       "   animal       x        y  time   distance position\n",
       "0       1  76.551  151.933     0        NaN    start\n",
       "1       1  77.529  152.945     1   1.407348      NaN\n",
       "2       1  78.336  153.970     2   1.304559      end\n",
       "3       1  77.000  119.369     0  34.626783    start\n",
       "4       1  78.020  120.615     3   1.610253      NaN\n",
       "5       1  79.230  118.935     2   2.070386      NaN\n",
       "6       1  77.733  119.115     5   1.507783      end\n",
       "7       2  79.249  152.004     0        NaN    start\n",
       "8       2  76.077  153.027     1   3.332884      end"
      ]
     },
     "execution_count": 3,
     "metadata": {},
     "output_type": "execute_result"
    }
   ],
   "source": [
    "df = get_startend(df)\n",
    "df"
   ]
  },
  {
   "cell_type": "code",
   "execution_count": 10,
   "id": "c66c1c9e",
   "metadata": {},
   "outputs": [],
   "source": [
    "x_start, y_start = out.loc[out['position'] == 'start', ['x', 'y']].values.T.tolist()\n",
    "x_end, y_end = out.loc[out['position'] == 'end', ['x', 'y']].values.T.tolist()"
   ]
  },
  {
   "cell_type": "code",
   "execution_count": null,
   "id": "e9102afc",
   "metadata": {},
   "outputs": [],
   "source": [
    "x_start"
   ]
  },
  {
   "cell_type": "code",
   "execution_count": null,
   "id": "7f4ae5b8",
   "metadata": {},
   "outputs": [],
   "source": [
    "y_start"
   ]
  },
  {
   "cell_type": "code",
   "execution_count": 17,
   "id": "1b0288d5",
   "metadata": {},
   "outputs": [
    {
     "data": {
      "image/png": "[encoded data removed]",
      "text/plain": [
       "<Figure size 720x720 with 1 Axes>"
      ]
     },
     "metadata": {
      "needs_background": "light"
     },
     "output_type": "display_data"
    }
   ],
   "source": [
    "import numpy as np\n",
    "import matplotlib.pyplot as plt\n",
    "import matplotlib.cm as cm\n",
    "\n",
    "cmap = cm.get_cmap('rainbow')\n",
    "colors = cmap(np.linspace(0, 1, df['ID'].nunique()))\n",
    "color_map = dict(zip(df['ID'].unique(), colors))\n",
    "\n",
    "# fig, ax = plt.subplots()\n",
    "plt.figure(figsize=(10,10))\n",
    "for animal, subdf in df.groupby('ID'):\n",
    "    plt.plot(subdf['x'], subdf['y'], marker=',', label=None, c=color_map[animal], linewidth=0.1)\n",
    "# ax.legend()\n",
    "\n",
    "plt.plot(x_start, y_start, 'og')\n",
    "plt.plot(x_end, y_end, 'or')\n",
    "plt.show()"
   ]
  },
  {
   "cell_type": "code",
   "execution_count": 5,
   "id": "9c9af837",
   "metadata": {},
   "outputs": [],
   "source": [
    "import pandas as pd\n",
    "\n",
    "df ={'ID' : [1, 1, 1, 1, 1, 1, 1, 2, 2],\n",
    "     'x':[76.551, 79.529, 78.336,77, 76.02, 79.23, 77.733, 79.249,  76.077],\n",
    "     'y': [151.933, 152.945, 153.970, 119.369, 120.615, 118.935, 119.115, 152.004, 153.027],\n",
    "    'position': ['start', 'end', 'start', 'NA', 'NA','NA','end', 'start', 'end']}\n",
    "df = pd.DataFrame(df)"
   ]
  },
  {
   "cell_type": "code",
   "execution_count": 7,
   "id": "fbe97d76",
   "metadata": {},
   "outputs": [
    {
     "name": "stdout",
     "output_type": "stream",
     "text": [
      "   ID       x        y position\n",
      "0   1  76.551  151.933    start\n",
      "1   1  79.529  152.945      end\n",
      "2   1  78.336  153.970    start\n",
      "3   1  77.000  119.369       NA\n",
      "4   1  76.020  120.615       NA\n",
      "5   1  79.230  118.935       NA\n",
      "6   1  77.733  119.115      end\n",
      "7   2  79.249  152.004    start\n",
      "8   2  76.077  153.027      end\n"
     ]
    }
   ],
   "source": [
    "print(df)"
   ]
  },
  {
   "cell_type": "code",
   "execution_count": null,
   "id": "f6fa54f0",
   "metadata": {},
   "outputs": [],
   "source": []
  },
  {
   "cell_type": "code",
   "execution_count": 8,
   "id": "69a375a3",
   "metadata": {},
   "outputs": [
    {
     "name": "stdout",
     "output_type": "stream",
     "text": [
      "   ID       x        y position\n",
      "0   1  76.551  151.933    start\n",
      "1   1  79.529  152.945      end\n",
      "2   1  78.336  153.970    start\n",
      "3   1  77.000  119.369       NA\n",
      "4   1  76.020  120.615       NA\n",
      "5   1  79.230  118.935       NA\n",
      "6   1  77.733  119.115      end\n"
     ]
    }
   ],
   "source": [
    "m = (df['position'] == 'end') & (df['x'] > 75) & (df['x'] < 77)\n",
    "out = df[~m.groupby(df['position'].eq('start').cumsum()).transform('max')]\n",
    "print(out)"
   ]
  },
  {
   "cell_type": "code",
   "execution_count": 16,
   "id": "5bdc8c9e",
   "metadata": {},
   "outputs": [
    {
     "data": {
      "image/png": "[encoded data removed]",
      "text/plain": [
       "<Figure size 720x720 with 1 Axes>"
      ]
     },
     "metadata": {
      "needs_background": "light"
     },
     "output_type": "display_data"
    }
   ],
   "source": [
    "cmap = cm.get_cmap('rainbow')\n",
    "colors = cmap(np.linspace(0, 1, out['ID'].nunique()))\n",
    "color_map = dict(zip(df['ID'].unique(), colors))\n",
    "\n",
    "# fig, ax = plt.subplots()\n",
    "plt.figure(figsize=(10,10))\n",
    "for animal, subdf in out.groupby('ID'):\n",
    "    plt.plot(subdf['x'], subdf['y'], marker=',', label=None, c=color_map[animal], linewidth=0.1)\n",
    "# ax.legend()\n",
    "\n",
    "plt.plot(x_start, y_start, 'og')\n",
    "plt.plot(x_end, y_end, 'or')\n",
    "plt.show()"
   ]
  },
  {
   "cell_type": "code",
   "execution_count": null,
   "id": "d9d3984c",
   "metadata": {},
   "outputs": [],
   "source": []
  }
 ],
 "metadata": {
  "@webio": {
   "lastCommId": null,
   "lastKernelId": null
  },
  "kernelspec": {
   "display_name": "Python 3 (ipykernel)",
   "language": "python",
   "name": "python3"
  },
  "language_info": {
   "codemirror_mode": {
    "name": "ipython",
    "version": 3
   },
   "file_extension": ".py",
   "mimetype": "text/x-python",
   "name": "python",
   "nbconvert_exporter": "python",
   "pygments_lexer": "ipython3",
   "version": "3.8.12"
  }
 },
 "nbformat": 4,
 "nbformat_minor": 5
}
