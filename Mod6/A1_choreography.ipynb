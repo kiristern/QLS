{
 "cells": [
  {
   "cell_type": "code",
   "execution_count": 1,
   "id": "4e14dea8",
   "metadata": {},
   "outputs": [],
   "source": [
    "import os\n",
    "import glob\n",
    "\n",
    "import numpy as np\n",
    "import pandas as pd\n",
    "import matplotlib\n",
    "import matplotlib.pyplot as plt\n",
    "import matplotlib.cm as cm\n",
    "\n",
    "import itertools\n",
    "import statistics\n",
    "\n",
    "# from tqdm import tnrange, tqdm_notebook\n"
   ]
  },
  {
   "cell_type": "code",
   "execution_count": 2,
   "id": "965ccc6f",
   "metadata": {},
   "outputs": [],
   "source": [
    "path = '/Volumes/LaCie/school/QLS/choreography_result'"
   ]
  },
  {
   "cell_type": "code",
   "execution_count": null,
   "id": "18c26c50",
   "metadata": {},
   "outputs": [],
   "source": []
  },
  {
   "cell_type": "code",
   "execution_count": null,
   "id": "cb04b441",
   "metadata": {},
   "outputs": [],
   "source": [
    "# nested list of data\n",
    "from pathlib import Path\n",
    "from itertools import groupby\n",
    "from functools import partial\n",
    "\n",
    "def key(i, file): return file.parent.parts[i]\n",
    "\n",
    "base = Path(\"choreography_result\")\n",
    "data = []\n",
    "for _, group1 in groupby(base.rglob(\"*.dat\"), key=partial(key, 1)):\n",
    "    data.append([])\n",
    "    for _, group2 in groupby(group1, key=partial(key, 2)):\n",
    "        data[-1].append([pd.read_csv(file, header=None, sep=\" \") for file in group2])"
   ]
  },
  {
   "cell_type": "code",
   "execution_count": null,
   "id": "c667dfeb",
   "metadata": {},
   "outputs": [],
   "source": []
  },
  {
   "cell_type": "code",
   "execution_count": 3,
   "id": "a63ea24f",
   "metadata": {},
   "outputs": [],
   "source": [
    "path = '/Volumes/LaCie/school/QLS/choreography_result'\n",
    "\n",
    "speed_files = []\n",
    "x_files = []\n",
    "y_files = []\n",
    "for folder in sorted(os.listdir(path)):\n",
    "    if folder != 'Documentation.txt':\n",
    "        for subfolder in sorted(os.listdir(path + '/' + folder)):\n",
    "            if subfolder != '.DS_Store':\n",
    "                for file in sorted(os.listdir(path+ '/' + folder + '/' + subfolder)):\n",
    "                    if file.endswith(\".speed.dat\"):\n",
    "                        speed_files.append(pd.read_csv((path + '/' + folder + '/' + subfolder + '/' + file), header=None, sep=' '))\n",
    "                    if file.endswith(\".x.dat\"):\n",
    "                        x_files.append(pd.read_csv((path + '/' + folder + '/' + subfolder + '/' + file), header=None, sep=' '))\n",
    "                    if file.endswith(\".y.dat\"):\n",
    "                        y_files.append(pd.read_csv((path + '/' + folder + '/' + subfolder + '/' + file), header=None, sep=' '))"
   ]
  },
  {
   "cell_type": "code",
   "execution_count": 4,
   "id": "90f54653",
   "metadata": {},
   "outputs": [],
   "source": [
    "cond1 = speed_files[:20]\n",
    "cond2 = speed_files[20:40]\n",
    "cond3 = speed_files[40:60]\n",
    "cond4 = speed_files[60:80]\n",
    "cond5 = speed_files[80:100]\n",
    "\n",
    "cond21 = x_files[:20]\n",
    "cond22 = x_files[20:40]\n",
    "cond23 = x_files[40:60]\n",
    "cond24 = x_files[60:80]\n",
    "cond25 = x_files[80:100]\n",
    "\n",
    "cond31 = y_files[:20]\n",
    "cond32 = y_files[20:40]\n",
    "cond33 = y_files[40:60]\n",
    "cond34 = y_files[60:80]\n",
    "cond35 = y_files[80:100]"
   ]
  },
  {
   "cell_type": "code",
   "execution_count": null,
   "id": "f88b5d8c",
   "metadata": {},
   "outputs": [],
   "source": []
  },
  {
   "cell_type": "code",
   "execution_count": 5,
   "id": "9584d53e",
   "metadata": {},
   "outputs": [],
   "source": [
    "def get_data(cond1, cond21, cond31):\n",
    "    c1_speed = pd.DataFrame(np.concatenate(cond1))\n",
    "    c1_x = pd.DataFrame(np.concatenate(cond21))\n",
    "    c1_y = pd.DataFrame(np.concatenate(cond31))\n",
    "    \n",
    "    speed = c1_speed.iloc[:, :4]\n",
    "    x = c1_x.iloc[:, 3]\n",
    "    data = pd.merge(speed, x, left_index=True, right_index=True)\n",
    "    y = c1_y.iloc[:, 3]\n",
    "    data = pd.merge(data, y, left_index=True, right_index=True)\n",
    "    data.columns = ['session', 'animal', 'time', 'speed', 'x', 'y']\n",
    "    \n",
    "    return data"
   ]
  },
  {
   "cell_type": "code",
   "execution_count": 6,
   "id": "ff1dc689",
   "metadata": {},
   "outputs": [
    {
     "data": {
      "text/html": [
       "<div>\n",
       "<style scoped>\n",
       "    .dataframe tbody tr th:only-of-type {\n",
       "        vertical-align: middle;\n",
       "    }\n",
       "\n",
       "    .dataframe tbody tr th {\n",
       "        vertical-align: top;\n",
       "    }\n",
       "\n",
       "    .dataframe thead th {\n",
       "        text-align: right;\n",
       "    }\n",
       "</style>\n",
       "<table border=\"1\" class=\"dataframe\">\n",
       "  <thead>\n",
       "    <tr style=\"text-align: right;\">\n",
       "      <th></th>\n",
       "      <th>session</th>\n",
       "      <th>animal</th>\n",
       "      <th>time</th>\n",
       "      <th>speed</th>\n",
       "      <th>x</th>\n",
       "      <th>y</th>\n",
       "    </tr>\n",
       "  </thead>\n",
       "  <tbody>\n",
       "    <tr>\n",
       "      <th>0</th>\n",
       "      <td>20211025_115104</td>\n",
       "      <td>2</td>\n",
       "      <td>0.004</td>\n",
       "      <td>0.0</td>\n",
       "      <td>76.551</td>\n",
       "      <td>151.933</td>\n",
       "    </tr>\n",
       "    <tr>\n",
       "      <th>1</th>\n",
       "      <td>20211025_115104</td>\n",
       "      <td>2</td>\n",
       "      <td>0.161</td>\n",
       "      <td>0.646</td>\n",
       "      <td>76.529</td>\n",
       "      <td>151.945</td>\n",
       "    </tr>\n",
       "    <tr>\n",
       "      <th>2</th>\n",
       "      <td>20211025_115104</td>\n",
       "      <td>2</td>\n",
       "      <td>0.331</td>\n",
       "      <td>0.857</td>\n",
       "      <td>76.336</td>\n",
       "      <td>151.97</td>\n",
       "    </tr>\n",
       "    <tr>\n",
       "      <th>3</th>\n",
       "      <td>20211025_115104</td>\n",
       "      <td>2</td>\n",
       "      <td>0.493</td>\n",
       "      <td>0.788</td>\n",
       "      <td>76.249</td>\n",
       "      <td>152.004</td>\n",
       "    </tr>\n",
       "    <tr>\n",
       "      <th>4</th>\n",
       "      <td>20211025_115104</td>\n",
       "      <td>2</td>\n",
       "      <td>0.665</td>\n",
       "      <td>0.967</td>\n",
       "      <td>76.077</td>\n",
       "      <td>152.027</td>\n",
       "    </tr>\n",
       "    <tr>\n",
       "      <th>...</th>\n",
       "      <td>...</td>\n",
       "      <td>...</td>\n",
       "      <td>...</td>\n",
       "      <td>...</td>\n",
       "      <td>...</td>\n",
       "      <td>...</td>\n",
       "    </tr>\n",
       "    <tr>\n",
       "      <th>4658044</th>\n",
       "      <td>20211117_122326</td>\n",
       "      <td>2539</td>\n",
       "      <td>896.671</td>\n",
       "      <td>1.398</td>\n",
       "      <td>108.662</td>\n",
       "      <td>121.984</td>\n",
       "    </tr>\n",
       "    <tr>\n",
       "      <th>4658045</th>\n",
       "      <td>20211117_122326</td>\n",
       "      <td>2539</td>\n",
       "      <td>896.84</td>\n",
       "      <td>0.796</td>\n",
       "      <td>108.602</td>\n",
       "      <td>122.128</td>\n",
       "    </tr>\n",
       "    <tr>\n",
       "      <th>4658046</th>\n",
       "      <td>20211117_122326</td>\n",
       "      <td>2539</td>\n",
       "      <td>897.003</td>\n",
       "      <td>1.371</td>\n",
       "      <td>108.53</td>\n",
       "      <td>122.214</td>\n",
       "    </tr>\n",
       "    <tr>\n",
       "      <th>4658047</th>\n",
       "      <td>20211117_122326</td>\n",
       "      <td>2539</td>\n",
       "      <td>897.172</td>\n",
       "      <td>0.0</td>\n",
       "      <td>108.354</td>\n",
       "      <td>122.515</td>\n",
       "    </tr>\n",
       "    <tr>\n",
       "      <th>4658048</th>\n",
       "      <td>20211117_122326</td>\n",
       "      <td>2539</td>\n",
       "      <td>897.333</td>\n",
       "      <td>0.0</td>\n",
       "      <td>108.218</td>\n",
       "      <td>122.756</td>\n",
       "    </tr>\n",
       "  </tbody>\n",
       "</table>\n",
       "<p>4658049 rows × 6 columns</p>\n",
       "</div>"
      ],
      "text/plain": [
       "                 session animal     time  speed        x        y\n",
       "0        20211025_115104      2    0.004    0.0   76.551  151.933\n",
       "1        20211025_115104      2    0.161  0.646   76.529  151.945\n",
       "2        20211025_115104      2    0.331  0.857   76.336   151.97\n",
       "3        20211025_115104      2    0.493  0.788   76.249  152.004\n",
       "4        20211025_115104      2    0.665  0.967   76.077  152.027\n",
       "...                  ...    ...      ...    ...      ...      ...\n",
       "4658044  20211117_122326   2539  896.671  1.398  108.662  121.984\n",
       "4658045  20211117_122326   2539   896.84  0.796  108.602  122.128\n",
       "4658046  20211117_122326   2539  897.003  1.371   108.53  122.214\n",
       "4658047  20211117_122326   2539  897.172    0.0  108.354  122.515\n",
       "4658048  20211117_122326   2539  897.333    0.0  108.218  122.756\n",
       "\n",
       "[4658049 rows x 6 columns]"
      ]
     },
     "execution_count": 6,
     "metadata": {},
     "output_type": "execute_result"
    }
   ],
   "source": [
    "TenGA1 = get_data(cond1, cond21, cond31)\n",
    "TenGA1"
   ]
  },
  {
   "cell_type": "code",
   "execution_count": 7,
   "id": "d2274a18",
   "metadata": {},
   "outputs": [
    {
     "data": {
      "text/html": [
       "<div>\n",
       "<style scoped>\n",
       "    .dataframe tbody tr th:only-of-type {\n",
       "        vertical-align: middle;\n",
       "    }\n",
       "\n",
       "    .dataframe tbody tr th {\n",
       "        vertical-align: top;\n",
       "    }\n",
       "\n",
       "    .dataframe thead th {\n",
       "        text-align: right;\n",
       "    }\n",
       "</style>\n",
       "<table border=\"1\" class=\"dataframe\">\n",
       "  <thead>\n",
       "    <tr style=\"text-align: right;\">\n",
       "      <th></th>\n",
       "      <th>session</th>\n",
       "      <th>animal</th>\n",
       "      <th>time</th>\n",
       "      <th>speed</th>\n",
       "      <th>x</th>\n",
       "      <th>y</th>\n",
       "    </tr>\n",
       "  </thead>\n",
       "  <tbody>\n",
       "    <tr>\n",
       "      <th>0</th>\n",
       "      <td>20211025_113152</td>\n",
       "      <td>2</td>\n",
       "      <td>0.004</td>\n",
       "      <td>0.0</td>\n",
       "      <td>70.306</td>\n",
       "      <td>146.648</td>\n",
       "    </tr>\n",
       "    <tr>\n",
       "      <th>1</th>\n",
       "      <td>20211025_113152</td>\n",
       "      <td>2</td>\n",
       "      <td>0.165</td>\n",
       "      <td>1.582</td>\n",
       "      <td>70.058</td>\n",
       "      <td>146.393</td>\n",
       "    </tr>\n",
       "    <tr>\n",
       "      <th>2</th>\n",
       "      <td>20211025_113152</td>\n",
       "      <td>2</td>\n",
       "      <td>0.336</td>\n",
       "      <td>0.799</td>\n",
       "      <td>69.973</td>\n",
       "      <td>146.25</td>\n",
       "    </tr>\n",
       "    <tr>\n",
       "      <th>3</th>\n",
       "      <td>20211025_113152</td>\n",
       "      <td>2</td>\n",
       "      <td>0.497</td>\n",
       "      <td>0.698</td>\n",
       "      <td>69.96</td>\n",
       "      <td>146.145</td>\n",
       "    </tr>\n",
       "    <tr>\n",
       "      <th>4</th>\n",
       "      <td>20211025_113152</td>\n",
       "      <td>2</td>\n",
       "      <td>0.669</td>\n",
       "      <td>0.685</td>\n",
       "      <td>69.959</td>\n",
       "      <td>146.018</td>\n",
       "    </tr>\n",
       "    <tr>\n",
       "      <th>...</th>\n",
       "      <td>...</td>\n",
       "      <td>...</td>\n",
       "      <td>...</td>\n",
       "      <td>...</td>\n",
       "      <td>...</td>\n",
       "      <td>...</td>\n",
       "    </tr>\n",
       "    <tr>\n",
       "      <th>5177094</th>\n",
       "      <td>20211117_120411</td>\n",
       "      <td>2011</td>\n",
       "      <td>899.668</td>\n",
       "      <td>1.429</td>\n",
       "      <td>122.672</td>\n",
       "      <td>207.733</td>\n",
       "    </tr>\n",
       "    <tr>\n",
       "      <th>5177095</th>\n",
       "      <td>20211117_120411</td>\n",
       "      <td>2011</td>\n",
       "      <td>899.831</td>\n",
       "      <td>0.948</td>\n",
       "      <td>122.651</td>\n",
       "      <td>207.526</td>\n",
       "    </tr>\n",
       "    <tr>\n",
       "      <th>5177096</th>\n",
       "      <td>20211117_120411</td>\n",
       "      <td>2011</td>\n",
       "      <td>899.992</td>\n",
       "      <td>0.442</td>\n",
       "      <td>122.631</td>\n",
       "      <td>207.428</td>\n",
       "    </tr>\n",
       "    <tr>\n",
       "      <th>5177097</th>\n",
       "      <td>20211117_120411</td>\n",
       "      <td>2011</td>\n",
       "      <td>900.163</td>\n",
       "      <td>0.0</td>\n",
       "      <td>122.615</td>\n",
       "      <td>207.386</td>\n",
       "    </tr>\n",
       "    <tr>\n",
       "      <th>5177098</th>\n",
       "      <td>20211117_120411</td>\n",
       "      <td>2011</td>\n",
       "      <td>900.333</td>\n",
       "      <td>0.0</td>\n",
       "      <td>122.593</td>\n",
       "      <td>207.264</td>\n",
       "    </tr>\n",
       "  </tbody>\n",
       "</table>\n",
       "<p>5177099 rows × 6 columns</p>\n",
       "</div>"
      ],
      "text/plain": [
       "                 session animal     time  speed        x        y\n",
       "0        20211025_113152      2    0.004    0.0   70.306  146.648\n",
       "1        20211025_113152      2    0.165  1.582   70.058  146.393\n",
       "2        20211025_113152      2    0.336  0.799   69.973   146.25\n",
       "3        20211025_113152      2    0.497  0.698    69.96  146.145\n",
       "4        20211025_113152      2    0.669  0.685   69.959  146.018\n",
       "...                  ...    ...      ...    ...      ...      ...\n",
       "5177094  20211117_120411   2011  899.668  1.429  122.672  207.733\n",
       "5177095  20211117_120411   2011  899.831  0.948  122.651  207.526\n",
       "5177096  20211117_120411   2011  899.992  0.442  122.631  207.428\n",
       "5177097  20211117_120411   2011  900.163    0.0  122.615  207.386\n",
       "5177098  20211117_120411   2011  900.333    0.0  122.593  207.264\n",
       "\n",
       "[5177099 rows x 6 columns]"
      ]
     },
     "execution_count": 7,
     "metadata": {},
     "output_type": "execute_result"
    }
   ],
   "source": [
    "TenGA2 = get_data(cond2, cond22, cond32)\n",
    "TenGA2"
   ]
  },
  {
   "cell_type": "code",
   "execution_count": 8,
   "id": "b267292b",
   "metadata": {},
   "outputs": [
    {
     "data": {
      "text/html": [
       "<div>\n",
       "<style scoped>\n",
       "    .dataframe tbody tr th:only-of-type {\n",
       "        vertical-align: middle;\n",
       "    }\n",
       "\n",
       "    .dataframe tbody tr th {\n",
       "        vertical-align: top;\n",
       "    }\n",
       "\n",
       "    .dataframe thead th {\n",
       "        text-align: right;\n",
       "    }\n",
       "</style>\n",
       "<table border=\"1\" class=\"dataframe\">\n",
       "  <thead>\n",
       "    <tr style=\"text-align: right;\">\n",
       "      <th></th>\n",
       "      <th>session</th>\n",
       "      <th>animal</th>\n",
       "      <th>time</th>\n",
       "      <th>speed</th>\n",
       "      <th>x</th>\n",
       "      <th>y</th>\n",
       "    </tr>\n",
       "  </thead>\n",
       "  <tbody>\n",
       "    <tr>\n",
       "      <th>0</th>\n",
       "      <td>20211026_155429</td>\n",
       "      <td>1</td>\n",
       "      <td>0.005</td>\n",
       "      <td>0.0</td>\n",
       "      <td>47.966</td>\n",
       "      <td>103.422</td>\n",
       "    </tr>\n",
       "    <tr>\n",
       "      <th>1</th>\n",
       "      <td>20211026_155429</td>\n",
       "      <td>1</td>\n",
       "      <td>0.132</td>\n",
       "      <td>0.585</td>\n",
       "      <td>47.951</td>\n",
       "      <td>103.351</td>\n",
       "    </tr>\n",
       "    <tr>\n",
       "      <th>2</th>\n",
       "      <td>20211026_155429</td>\n",
       "      <td>1</td>\n",
       "      <td>0.297</td>\n",
       "      <td>1.034</td>\n",
       "      <td>47.867</td>\n",
       "      <td>103.28</td>\n",
       "    </tr>\n",
       "    <tr>\n",
       "      <th>3</th>\n",
       "      <td>20211026_155429</td>\n",
       "      <td>1</td>\n",
       "      <td>0.47</td>\n",
       "      <td>1.637</td>\n",
       "      <td>47.751</td>\n",
       "      <td>103.06</td>\n",
       "    </tr>\n",
       "    <tr>\n",
       "      <th>4</th>\n",
       "      <td>20211026_155429</td>\n",
       "      <td>1</td>\n",
       "      <td>0.633</td>\n",
       "      <td>1.231</td>\n",
       "      <td>47.626</td>\n",
       "      <td>102.788</td>\n",
       "    </tr>\n",
       "    <tr>\n",
       "      <th>...</th>\n",
       "      <td>...</td>\n",
       "      <td>...</td>\n",
       "      <td>...</td>\n",
       "      <td>...</td>\n",
       "      <td>...</td>\n",
       "      <td>...</td>\n",
       "    </tr>\n",
       "    <tr>\n",
       "      <th>5142106</th>\n",
       "      <td>20211117_113842</td>\n",
       "      <td>2820</td>\n",
       "      <td>899.511</td>\n",
       "      <td>0.223</td>\n",
       "      <td>173.168</td>\n",
       "      <td>254.183</td>\n",
       "    </tr>\n",
       "    <tr>\n",
       "      <th>5142107</th>\n",
       "      <td>20211117_113842</td>\n",
       "      <td>2820</td>\n",
       "      <td>899.682</td>\n",
       "      <td>0.793</td>\n",
       "      <td>173.116</td>\n",
       "      <td>254.187</td>\n",
       "    </tr>\n",
       "    <tr>\n",
       "      <th>5142108</th>\n",
       "      <td>20211117_113842</td>\n",
       "      <td>2820</td>\n",
       "      <td>899.839</td>\n",
       "      <td>0.823</td>\n",
       "      <td>172.915</td>\n",
       "      <td>254.175</td>\n",
       "    </tr>\n",
       "    <tr>\n",
       "      <th>5142109</th>\n",
       "      <td>20211117_113842</td>\n",
       "      <td>2820</td>\n",
       "      <td>900.014</td>\n",
       "      <td>0.0</td>\n",
       "      <td>172.852</td>\n",
       "      <td>254.161</td>\n",
       "    </tr>\n",
       "    <tr>\n",
       "      <th>5142110</th>\n",
       "      <td>20211117_113842</td>\n",
       "      <td>2820</td>\n",
       "      <td>900.174</td>\n",
       "      <td>0.0</td>\n",
       "      <td>172.74</td>\n",
       "      <td>254.172</td>\n",
       "    </tr>\n",
       "  </tbody>\n",
       "</table>\n",
       "<p>5142111 rows × 6 columns</p>\n",
       "</div>"
      ],
      "text/plain": [
       "                 session animal     time  speed        x        y\n",
       "0        20211026_155429      1    0.005    0.0   47.966  103.422\n",
       "1        20211026_155429      1    0.132  0.585   47.951  103.351\n",
       "2        20211026_155429      1    0.297  1.034   47.867   103.28\n",
       "3        20211026_155429      1     0.47  1.637   47.751   103.06\n",
       "4        20211026_155429      1    0.633  1.231   47.626  102.788\n",
       "...                  ...    ...      ...    ...      ...      ...\n",
       "5142106  20211117_113842   2820  899.511  0.223  173.168  254.183\n",
       "5142107  20211117_113842   2820  899.682  0.793  173.116  254.187\n",
       "5142108  20211117_113842   2820  899.839  0.823  172.915  254.175\n",
       "5142109  20211117_113842   2820  900.014    0.0  172.852  254.161\n",
       "5142110  20211117_113842   2820  900.174    0.0   172.74  254.172\n",
       "\n",
       "[5142111 rows x 6 columns]"
      ]
     },
     "execution_count": 8,
     "metadata": {},
     "output_type": "execute_result"
    }
   ],
   "source": [
    "TenGA3 = get_data(cond3, cond23, cond33)\n",
    "TenGA3"
   ]
  },
  {
   "cell_type": "code",
   "execution_count": 9,
   "id": "19ae243e",
   "metadata": {},
   "outputs": [
    {
     "data": {
      "text/html": [
       "<div>\n",
       "<style scoped>\n",
       "    .dataframe tbody tr th:only-of-type {\n",
       "        vertical-align: middle;\n",
       "    }\n",
       "\n",
       "    .dataframe tbody tr th {\n",
       "        vertical-align: top;\n",
       "    }\n",
       "\n",
       "    .dataframe thead th {\n",
       "        text-align: right;\n",
       "    }\n",
       "</style>\n",
       "<table border=\"1\" class=\"dataframe\">\n",
       "  <thead>\n",
       "    <tr style=\"text-align: right;\">\n",
       "      <th></th>\n",
       "      <th>session</th>\n",
       "      <th>animal</th>\n",
       "      <th>time</th>\n",
       "      <th>speed</th>\n",
       "      <th>x</th>\n",
       "      <th>y</th>\n",
       "    </tr>\n",
       "  </thead>\n",
       "  <tbody>\n",
       "    <tr>\n",
       "      <th>0</th>\n",
       "      <td>20211025_102902</td>\n",
       "      <td>1</td>\n",
       "      <td>0.004</td>\n",
       "      <td>0.0</td>\n",
       "      <td>54.639</td>\n",
       "      <td>202.298</td>\n",
       "    </tr>\n",
       "    <tr>\n",
       "      <th>1</th>\n",
       "      <td>20211025_102902</td>\n",
       "      <td>1</td>\n",
       "      <td>0.177</td>\n",
       "      <td>1.823</td>\n",
       "      <td>54.417</td>\n",
       "      <td>202.273</td>\n",
       "    </tr>\n",
       "    <tr>\n",
       "      <th>2</th>\n",
       "      <td>20211025_102902</td>\n",
       "      <td>1</td>\n",
       "      <td>0.324</td>\n",
       "      <td>1.617</td>\n",
       "      <td>54.075</td>\n",
       "      <td>202.221</td>\n",
       "    </tr>\n",
       "    <tr>\n",
       "      <th>3</th>\n",
       "      <td>20211025_102902</td>\n",
       "      <td>1</td>\n",
       "      <td>0.492</td>\n",
       "      <td>0.953</td>\n",
       "      <td>53.928</td>\n",
       "      <td>202.206</td>\n",
       "    </tr>\n",
       "    <tr>\n",
       "      <th>4</th>\n",
       "      <td>20211025_102902</td>\n",
       "      <td>1</td>\n",
       "      <td>0.659</td>\n",
       "      <td>1.046</td>\n",
       "      <td>53.758</td>\n",
       "      <td>202.178</td>\n",
       "    </tr>\n",
       "    <tr>\n",
       "      <th>...</th>\n",
       "      <td>...</td>\n",
       "      <td>...</td>\n",
       "      <td>...</td>\n",
       "      <td>...</td>\n",
       "      <td>...</td>\n",
       "      <td>...</td>\n",
       "    </tr>\n",
       "    <tr>\n",
       "      <th>3569734</th>\n",
       "      <td>20211117_111650</td>\n",
       "      <td>2290</td>\n",
       "      <td>899.676</td>\n",
       "      <td>0.946</td>\n",
       "      <td>10.871</td>\n",
       "      <td>243.25</td>\n",
       "    </tr>\n",
       "    <tr>\n",
       "      <th>3569735</th>\n",
       "      <td>20211117_111650</td>\n",
       "      <td>2290</td>\n",
       "      <td>899.825</td>\n",
       "      <td>1.313</td>\n",
       "      <td>10.77</td>\n",
       "      <td>243.457</td>\n",
       "    </tr>\n",
       "    <tr>\n",
       "      <th>3569736</th>\n",
       "      <td>20211117_111650</td>\n",
       "      <td>2290</td>\n",
       "      <td>899.995</td>\n",
       "      <td>0.863</td>\n",
       "      <td>10.687</td>\n",
       "      <td>243.621</td>\n",
       "    </tr>\n",
       "    <tr>\n",
       "      <th>3569737</th>\n",
       "      <td>20211117_111650</td>\n",
       "      <td>2290</td>\n",
       "      <td>900.157</td>\n",
       "      <td>0.0</td>\n",
       "      <td>10.649</td>\n",
       "      <td>243.718</td>\n",
       "    </tr>\n",
       "    <tr>\n",
       "      <th>3569738</th>\n",
       "      <td>20211117_111650</td>\n",
       "      <td>2290</td>\n",
       "      <td>900.328</td>\n",
       "      <td>0.0</td>\n",
       "      <td>10.606</td>\n",
       "      <td>243.769</td>\n",
       "    </tr>\n",
       "  </tbody>\n",
       "</table>\n",
       "<p>3569739 rows × 6 columns</p>\n",
       "</div>"
      ],
      "text/plain": [
       "                 session animal     time  speed       x        y\n",
       "0        20211025_102902      1    0.004    0.0  54.639  202.298\n",
       "1        20211025_102902      1    0.177  1.823  54.417  202.273\n",
       "2        20211025_102902      1    0.324  1.617  54.075  202.221\n",
       "3        20211025_102902      1    0.492  0.953  53.928  202.206\n",
       "4        20211025_102902      1    0.659  1.046  53.758  202.178\n",
       "...                  ...    ...      ...    ...     ...      ...\n",
       "3569734  20211117_111650   2290  899.676  0.946  10.871   243.25\n",
       "3569735  20211117_111650   2290  899.825  1.313   10.77  243.457\n",
       "3569736  20211117_111650   2290  899.995  0.863  10.687  243.621\n",
       "3569737  20211117_111650   2290  900.157    0.0  10.649  243.718\n",
       "3569738  20211117_111650   2290  900.328    0.0  10.606  243.769\n",
       "\n",
       "[3569739 rows x 6 columns]"
      ]
     },
     "execution_count": 9,
     "metadata": {},
     "output_type": "execute_result"
    }
   ],
   "source": [
    "EA = get_data(cond4, cond24, cond34)\n",
    "EA"
   ]
  },
  {
   "cell_type": "code",
   "execution_count": 10,
   "id": "9c9ffd12",
   "metadata": {},
   "outputs": [
    {
     "data": {
      "text/html": [
       "<div>\n",
       "<style scoped>\n",
       "    .dataframe tbody tr th:only-of-type {\n",
       "        vertical-align: middle;\n",
       "    }\n",
       "\n",
       "    .dataframe tbody tr th {\n",
       "        vertical-align: top;\n",
       "    }\n",
       "\n",
       "    .dataframe thead th {\n",
       "        text-align: right;\n",
       "    }\n",
       "</style>\n",
       "<table border=\"1\" class=\"dataframe\">\n",
       "  <thead>\n",
       "    <tr style=\"text-align: right;\">\n",
       "      <th></th>\n",
       "      <th>session</th>\n",
       "      <th>animal</th>\n",
       "      <th>time</th>\n",
       "      <th>speed</th>\n",
       "      <th>x</th>\n",
       "      <th>y</th>\n",
       "    </tr>\n",
       "  </thead>\n",
       "  <tbody>\n",
       "    <tr>\n",
       "      <th>0</th>\n",
       "      <td>20211025_101201</td>\n",
       "      <td>1</td>\n",
       "      <td>0.003</td>\n",
       "      <td>0.0</td>\n",
       "      <td>68.378</td>\n",
       "      <td>130.263</td>\n",
       "    </tr>\n",
       "    <tr>\n",
       "      <th>1</th>\n",
       "      <td>20211025_101201</td>\n",
       "      <td>1</td>\n",
       "      <td>0.051</td>\n",
       "      <td>0.0</td>\n",
       "      <td>68.333</td>\n",
       "      <td>130.292</td>\n",
       "    </tr>\n",
       "    <tr>\n",
       "      <th>2</th>\n",
       "      <td>20211025_101201</td>\n",
       "      <td>1</td>\n",
       "      <td>0.276</td>\n",
       "      <td>1.71</td>\n",
       "      <td>68.114</td>\n",
       "      <td>130.435</td>\n",
       "    </tr>\n",
       "    <tr>\n",
       "      <th>3</th>\n",
       "      <td>20211025_101201</td>\n",
       "      <td>1</td>\n",
       "      <td>0.491</td>\n",
       "      <td>1.593</td>\n",
       "      <td>67.673</td>\n",
       "      <td>130.641</td>\n",
       "    </tr>\n",
       "    <tr>\n",
       "      <th>4</th>\n",
       "      <td>20211025_101201</td>\n",
       "      <td>1</td>\n",
       "      <td>0.714</td>\n",
       "      <td>0.552</td>\n",
       "      <td>67.491</td>\n",
       "      <td>130.737</td>\n",
       "    </tr>\n",
       "    <tr>\n",
       "      <th>...</th>\n",
       "      <td>...</td>\n",
       "      <td>...</td>\n",
       "      <td>...</td>\n",
       "      <td>...</td>\n",
       "      <td>...</td>\n",
       "      <td>...</td>\n",
       "    </tr>\n",
       "    <tr>\n",
       "      <th>4263637</th>\n",
       "      <td>20211116_105810</td>\n",
       "      <td>1579</td>\n",
       "      <td>899.601</td>\n",
       "      <td>1.066</td>\n",
       "      <td>2.822</td>\n",
       "      <td>118.369</td>\n",
       "    </tr>\n",
       "    <tr>\n",
       "      <th>4263638</th>\n",
       "      <td>20211116_105810</td>\n",
       "      <td>1579</td>\n",
       "      <td>899.765</td>\n",
       "      <td>1.732</td>\n",
       "      <td>2.8</td>\n",
       "      <td>118.615</td>\n",
       "    </tr>\n",
       "    <tr>\n",
       "      <th>4263639</th>\n",
       "      <td>20211116_105810</td>\n",
       "      <td>1579</td>\n",
       "      <td>899.93</td>\n",
       "      <td>1.517</td>\n",
       "      <td>2.76</td>\n",
       "      <td>118.935</td>\n",
       "    </tr>\n",
       "    <tr>\n",
       "      <th>4263640</th>\n",
       "      <td>20211116_105810</td>\n",
       "      <td>1579</td>\n",
       "      <td>900.099</td>\n",
       "      <td>0.0</td>\n",
       "      <td>2.733</td>\n",
       "      <td>119.115</td>\n",
       "    </tr>\n",
       "    <tr>\n",
       "      <th>4263641</th>\n",
       "      <td>20211116_105810</td>\n",
       "      <td>1579</td>\n",
       "      <td>900.265</td>\n",
       "      <td>0.0</td>\n",
       "      <td>2.687</td>\n",
       "      <td>119.238</td>\n",
       "    </tr>\n",
       "  </tbody>\n",
       "</table>\n",
       "<p>4263642 rows × 6 columns</p>\n",
       "</div>"
      ],
      "text/plain": [
       "                 session animal     time  speed       x        y\n",
       "0        20211025_101201      1    0.003    0.0  68.378  130.263\n",
       "1        20211025_101201      1    0.051    0.0  68.333  130.292\n",
       "2        20211025_101201      1    0.276   1.71  68.114  130.435\n",
       "3        20211025_101201      1    0.491  1.593  67.673  130.641\n",
       "4        20211025_101201      1    0.714  0.552  67.491  130.737\n",
       "...                  ...    ...      ...    ...     ...      ...\n",
       "4263637  20211116_105810   1579  899.601  1.066   2.822  118.369\n",
       "4263638  20211116_105810   1579  899.765  1.732     2.8  118.615\n",
       "4263639  20211116_105810   1579   899.93  1.517    2.76  118.935\n",
       "4263640  20211116_105810   1579  900.099    0.0   2.733  119.115\n",
       "4263641  20211116_105810   1579  900.265    0.0   2.687  119.238\n",
       "\n",
       "[4263642 rows x 6 columns]"
      ]
     },
     "execution_count": 10,
     "metadata": {},
     "output_type": "execute_result"
    }
   ],
   "source": [
    "H2O = get_data(cond5, cond25, cond35)\n",
    "H2O"
   ]
  },
  {
   "cell_type": "code",
   "execution_count": null,
   "id": "434dedd2",
   "metadata": {},
   "outputs": [],
   "source": [
    "TenGA1\n",
    "TenGA2\n",
    "TenGA3\n",
    "EA\n",
    "H2O"
   ]
  },
  {
   "cell_type": "markdown",
   "id": "e6d1ea85",
   "metadata": {},
   "source": [
    "## functions"
   ]
  },
  {
   "cell_type": "code",
   "execution_count": 85,
   "id": "2438ace8",
   "metadata": {},
   "outputs": [],
   "source": [
    "def get_diff(df):\n",
    "    dx = (df['x'] - df.groupby('animal')['x'].shift(1))\n",
    "    dy = (df['y'] - df.groupby('animal')['y'].shift(1))\n",
    "    df['distance'] = (dx**2 + dy**2)**0.5\n",
    "    return df\n",
    "\n",
    "# length = (TenGA1[['y', 'x']] - TenGA1.groupby('animal')[['y', 'x']].shift(1))\n",
    "# TenGA1['diff'] = np.sqrt((length**2).sum())\n",
    "\n",
    "\n",
    "def get_startend(df):\n",
    "    for i in range(len(df)):\n",
    "        df.loc[df['distance'] > 0.5, 'position'] = 'start'\n",
    "        df.loc[df['distance'].isnull(), 'position'] = 'start'\n",
    "    cond = df['position'].shift(-1).str.contains('start').fillna(False)\n",
    "    df.loc[cond, 'position'] = 'end'\n",
    "    df['position'].iloc[-1] = 'end'\n",
    "    return df\n",
    "\n",
    "def re_center(df):\n",
    "    df[['newX', 'newY']] = df[['x', 'y']] - df.groupby(df['position'].eq('start').cumsum())[['x', 'y']].transform('first')\n",
    "    return df\n",
    "    \n",
    "def prep(df):\n",
    "    df = get_diff(df)\n",
    "    df = get_startend(df)\n",
    "    df = re_center(df)\n",
    "    return df\n",
    "\n",
    "def rm_centered(df):\n",
    "    mask = (df['position'] == 'end') & (df['newX'] > -15) & (df['newX'] < 15)\n",
    "    out = df[~mask.groupby(df['position'].eq('start').cumsum()).transform('max')]\n",
    "    return out\n",
    "\n",
    "def StartStop(df):\n",
    "    x_start, y_start = df.loc[df['position'] == 'start', ['newX', 'newY']].values.T.tolist()\n",
    "    x_end, y_end = df.loc[df['position'] == 'end', ['newX', 'newY']].values.T.tolist()\n",
    "    return x_start, y_start, x_end, y_end\n",
    "\n",
    "def plot_fig(df):\n",
    "    x_start, y_start, x_end, y_end = StartStop(df)\n",
    "    \n",
    "    cmap = cm.get_cmap('rainbow')\n",
    "    colors = cmap(np.linspace(0, 1, df['animal'].nunique()))\n",
    "    color_map = dict(zip(df['animal'].unique(), colors))\n",
    "\n",
    "    # fig, ax = plt.subplots()\n",
    "    plt.figure(figsize=(10,10))\n",
    "    for animal, subdf in df.groupby('animal'):\n",
    "        plt.plot(subdf['newX'], subdf['newY'], marker=',', label=None, c=color_map[animal], linewidth=0.1)\n",
    "    # ax.legend()\n",
    "\n",
    "    plt.plot(x_start, y_start, 'og')\n",
    "    plt.plot(x_end, y_end, 'or')\n",
    "    plt.show()"
   ]
  },
  {
   "cell_type": "code",
   "execution_count": 73,
   "id": "887cde85",
   "metadata": {},
   "outputs": [
    {
     "ename": "KeyboardInterrupt",
     "evalue": "",
     "output_type": "error",
     "traceback": [
      "\u001b[0;31m---------------------------------------------------------------------------\u001b[0m",
      "\u001b[0;31mKeyboardInterrupt\u001b[0m                         Traceback (most recent call last)",
      "Input \u001b[0;32mIn [73]\u001b[0m, in \u001b[0;36m<cell line: 1>\u001b[0;34m()\u001b[0m\n\u001b[0;32m----> 1\u001b[0m TenGA1 \u001b[38;5;241m=\u001b[39m \u001b[43mprep\u001b[49m\u001b[43m(\u001b[49m\u001b[43mTenGA1\u001b[49m\u001b[43m)\u001b[49m\n",
      "Input \u001b[0;32mIn [71]\u001b[0m, in \u001b[0;36mprep\u001b[0;34m(df)\u001b[0m\n\u001b[1;32m     34\u001b[0m \u001b[38;5;28;01mdef\u001b[39;00m \u001b[38;5;21mprep\u001b[39m(df):\n\u001b[1;32m     35\u001b[0m     df \u001b[38;5;241m=\u001b[39m get_diff(df)\n\u001b[0;32m---> 36\u001b[0m     df \u001b[38;5;241m=\u001b[39m \u001b[43mget_startend\u001b[49m\u001b[43m(\u001b[49m\u001b[43mdf\u001b[49m\u001b[43m)\u001b[49m\n\u001b[1;32m     37\u001b[0m     df \u001b[38;5;241m=\u001b[39m re_center(df)\n\u001b[1;32m     38\u001b[0m     df \u001b[38;5;241m=\u001b[39m rm_centered(df)\n",
      "Input \u001b[0;32mIn [71]\u001b[0m, in \u001b[0;36mget_startend\u001b[0;34m(df)\u001b[0m\n\u001b[1;32m     11\u001b[0m \u001b[38;5;28;01mdef\u001b[39;00m \u001b[38;5;21mget_startend\u001b[39m(df):\n\u001b[1;32m     12\u001b[0m     \u001b[38;5;28;01mfor\u001b[39;00m i \u001b[38;5;129;01min\u001b[39;00m \u001b[38;5;28mrange\u001b[39m(\u001b[38;5;28mlen\u001b[39m(df)):\n\u001b[0;32m---> 13\u001b[0m         df\u001b[38;5;241m.\u001b[39mloc[\u001b[43mdf\u001b[49m\u001b[43m[\u001b[49m\u001b[38;5;124;43m'\u001b[39;49m\u001b[38;5;124;43mdistance\u001b[39;49m\u001b[38;5;124;43m'\u001b[39;49m\u001b[43m]\u001b[49m\u001b[43m \u001b[49m\u001b[38;5;241;43m>\u001b[39;49m\u001b[43m \u001b[49m\u001b[38;5;241;43m0.5\u001b[39;49m, \u001b[38;5;124m'\u001b[39m\u001b[38;5;124mposition\u001b[39m\u001b[38;5;124m'\u001b[39m] \u001b[38;5;241m=\u001b[39m \u001b[38;5;124m'\u001b[39m\u001b[38;5;124mstart\u001b[39m\u001b[38;5;124m'\u001b[39m\n\u001b[1;32m     14\u001b[0m         df\u001b[38;5;241m.\u001b[39mloc[df[\u001b[38;5;124m'\u001b[39m\u001b[38;5;124mdistance\u001b[39m\u001b[38;5;124m'\u001b[39m]\u001b[38;5;241m.\u001b[39misnull(), \u001b[38;5;124m'\u001b[39m\u001b[38;5;124mposition\u001b[39m\u001b[38;5;124m'\u001b[39m] \u001b[38;5;241m=\u001b[39m \u001b[38;5;124m'\u001b[39m\u001b[38;5;124mstart\u001b[39m\u001b[38;5;124m'\u001b[39m\n\u001b[1;32m     15\u001b[0m     cond \u001b[38;5;241m=\u001b[39m df[\u001b[38;5;124m'\u001b[39m\u001b[38;5;124mposition\u001b[39m\u001b[38;5;124m'\u001b[39m]\u001b[38;5;241m.\u001b[39mshift(\u001b[38;5;241m-\u001b[39m\u001b[38;5;241m1\u001b[39m)\u001b[38;5;241m.\u001b[39mstr\u001b[38;5;241m.\u001b[39mcontains(\u001b[38;5;124m'\u001b[39m\u001b[38;5;124mstart\u001b[39m\u001b[38;5;124m'\u001b[39m)\u001b[38;5;241m.\u001b[39mfillna(\u001b[38;5;28;01mFalse\u001b[39;00m)\n",
      "File \u001b[0;32m~/opt/anaconda3/envs/QLS/lib/python3.8/site-packages/pandas/core/ops/common.py:70\u001b[0m, in \u001b[0;36m_unpack_zerodim_and_defer.<locals>.new_method\u001b[0;34m(self, other)\u001b[0m\n\u001b[1;32m     66\u001b[0m             \u001b[38;5;28;01mreturn\u001b[39;00m \u001b[38;5;28mNotImplemented\u001b[39m\n\u001b[1;32m     68\u001b[0m other \u001b[38;5;241m=\u001b[39m item_from_zerodim(other)\n\u001b[0;32m---> 70\u001b[0m \u001b[38;5;28;01mreturn\u001b[39;00m \u001b[43mmethod\u001b[49m\u001b[43m(\u001b[49m\u001b[38;5;28;43mself\u001b[39;49m\u001b[43m,\u001b[49m\u001b[43m \u001b[49m\u001b[43mother\u001b[49m\u001b[43m)\u001b[49m\n",
      "File \u001b[0;32m~/opt/anaconda3/envs/QLS/lib/python3.8/site-packages/pandas/core/arraylike.py:56\u001b[0m, in \u001b[0;36mOpsMixin.__gt__\u001b[0;34m(self, other)\u001b[0m\n\u001b[1;32m     54\u001b[0m \u001b[38;5;129m@unpack_zerodim_and_defer\u001b[39m(\u001b[38;5;124m\"\u001b[39m\u001b[38;5;124m__gt__\u001b[39m\u001b[38;5;124m\"\u001b[39m)\n\u001b[1;32m     55\u001b[0m \u001b[38;5;28;01mdef\u001b[39;00m \u001b[38;5;21m__gt__\u001b[39m(\u001b[38;5;28mself\u001b[39m, other):\n\u001b[0;32m---> 56\u001b[0m     \u001b[38;5;28;01mreturn\u001b[39;00m \u001b[38;5;28;43mself\u001b[39;49m\u001b[38;5;241;43m.\u001b[39;49m\u001b[43m_cmp_method\u001b[49m\u001b[43m(\u001b[49m\u001b[43mother\u001b[49m\u001b[43m,\u001b[49m\u001b[43m \u001b[49m\u001b[43moperator\u001b[49m\u001b[38;5;241;43m.\u001b[39;49m\u001b[43mgt\u001b[49m\u001b[43m)\u001b[49m\n",
      "File \u001b[0;32m~/opt/anaconda3/envs/QLS/lib/python3.8/site-packages/pandas/core/series.py:5623\u001b[0m, in \u001b[0;36mSeries._cmp_method\u001b[0;34m(self, other, op)\u001b[0m\n\u001b[1;32m   5620\u001b[0m rvalues \u001b[38;5;241m=\u001b[39m extract_array(other, extract_numpy\u001b[38;5;241m=\u001b[39m\u001b[38;5;28;01mTrue\u001b[39;00m, extract_range\u001b[38;5;241m=\u001b[39m\u001b[38;5;28;01mTrue\u001b[39;00m)\n\u001b[1;32m   5622\u001b[0m \u001b[38;5;28;01mwith\u001b[39;00m np\u001b[38;5;241m.\u001b[39merrstate(\u001b[38;5;28mall\u001b[39m\u001b[38;5;241m=\u001b[39m\u001b[38;5;124m\"\u001b[39m\u001b[38;5;124mignore\u001b[39m\u001b[38;5;124m\"\u001b[39m):\n\u001b[0;32m-> 5623\u001b[0m     res_values \u001b[38;5;241m=\u001b[39m \u001b[43mops\u001b[49m\u001b[38;5;241;43m.\u001b[39;49m\u001b[43mcomparison_op\u001b[49m\u001b[43m(\u001b[49m\u001b[43mlvalues\u001b[49m\u001b[43m,\u001b[49m\u001b[43m \u001b[49m\u001b[43mrvalues\u001b[49m\u001b[43m,\u001b[49m\u001b[43m \u001b[49m\u001b[43mop\u001b[49m\u001b[43m)\u001b[49m\n\u001b[1;32m   5625\u001b[0m \u001b[38;5;28;01mreturn\u001b[39;00m \u001b[38;5;28mself\u001b[39m\u001b[38;5;241m.\u001b[39m_construct_result(res_values, name\u001b[38;5;241m=\u001b[39mres_name)\n",
      "File \u001b[0;32m~/opt/anaconda3/envs/QLS/lib/python3.8/site-packages/pandas/core/ops/array_ops.py:283\u001b[0m, in \u001b[0;36mcomparison_op\u001b[0;34m(left, right, op)\u001b[0m\n\u001b[1;32m    280\u001b[0m     \u001b[38;5;28;01mreturn\u001b[39;00m invalid_comparison(lvalues, rvalues, op)\n\u001b[1;32m    282\u001b[0m \u001b[38;5;28;01melif\u001b[39;00m is_object_dtype(lvalues\u001b[38;5;241m.\u001b[39mdtype) \u001b[38;5;129;01mor\u001b[39;00m \u001b[38;5;28misinstance\u001b[39m(rvalues, \u001b[38;5;28mstr\u001b[39m):\n\u001b[0;32m--> 283\u001b[0m     res_values \u001b[38;5;241m=\u001b[39m \u001b[43mcomp_method_OBJECT_ARRAY\u001b[49m\u001b[43m(\u001b[49m\u001b[43mop\u001b[49m\u001b[43m,\u001b[49m\u001b[43m \u001b[49m\u001b[43mlvalues\u001b[49m\u001b[43m,\u001b[49m\u001b[43m \u001b[49m\u001b[43mrvalues\u001b[49m\u001b[43m)\u001b[49m\n\u001b[1;32m    285\u001b[0m \u001b[38;5;28;01melse\u001b[39;00m:\n\u001b[1;32m    286\u001b[0m     res_values \u001b[38;5;241m=\u001b[39m _na_arithmetic_op(lvalues, rvalues, op, is_cmp\u001b[38;5;241m=\u001b[39m\u001b[38;5;28;01mTrue\u001b[39;00m)\n",
      "File \u001b[0;32m~/opt/anaconda3/envs/QLS/lib/python3.8/site-packages/pandas/core/ops/array_ops.py:73\u001b[0m, in \u001b[0;36mcomp_method_OBJECT_ARRAY\u001b[0;34m(op, x, y)\u001b[0m\n\u001b[1;32m     71\u001b[0m     result \u001b[38;5;241m=\u001b[39m libops\u001b[38;5;241m.\u001b[39mvec_compare(x\u001b[38;5;241m.\u001b[39mravel(), y\u001b[38;5;241m.\u001b[39mravel(), op)\n\u001b[1;32m     72\u001b[0m \u001b[38;5;28;01melse\u001b[39;00m:\n\u001b[0;32m---> 73\u001b[0m     result \u001b[38;5;241m=\u001b[39m \u001b[43mlibops\u001b[49m\u001b[38;5;241;43m.\u001b[39;49m\u001b[43mscalar_compare\u001b[49m\u001b[43m(\u001b[49m\u001b[43mx\u001b[49m\u001b[38;5;241;43m.\u001b[39;49m\u001b[43mravel\u001b[49m\u001b[43m(\u001b[49m\u001b[43m)\u001b[49m\u001b[43m,\u001b[49m\u001b[43m \u001b[49m\u001b[43my\u001b[49m\u001b[43m,\u001b[49m\u001b[43m \u001b[49m\u001b[43mop\u001b[49m\u001b[43m)\u001b[49m\n\u001b[1;32m     74\u001b[0m \u001b[38;5;28;01mreturn\u001b[39;00m result\u001b[38;5;241m.\u001b[39mreshape(x\u001b[38;5;241m.\u001b[39mshape)\n",
      "\u001b[0;31mKeyboardInterrupt\u001b[0m: "
     ]
    }
   ],
   "source": [
    "TenGA1 = prep(TenGA1)"
   ]
  },
  {
   "cell_type": "code",
   "execution_count": null,
   "id": "06526158",
   "metadata": {},
   "outputs": [],
   "source": [
    "TenGA2 = prep(TenGA2)"
   ]
  },
  {
   "cell_type": "code",
   "execution_count": null,
   "id": "47ca86c5",
   "metadata": {},
   "outputs": [],
   "source": [
    "TenGA3 = prep(TenGA3)"
   ]
  },
  {
   "cell_type": "code",
   "execution_count": null,
   "id": "6a10098b",
   "metadata": {},
   "outputs": [],
   "source": [
    "EA = prep(EA)"
   ]
  },
  {
   "cell_type": "code",
   "execution_count": 72,
   "id": "f05831f4",
   "metadata": {},
   "outputs": [
    {
     "ename": "KeyboardInterrupt",
     "evalue": "",
     "output_type": "error",
     "traceback": [
      "\u001b[0;31m---------------------------------------------------------------------------\u001b[0m",
      "\u001b[0;31mKeyboardInterrupt\u001b[0m                         Traceback (most recent call last)",
      "Input \u001b[0;32mIn [72]\u001b[0m, in \u001b[0;36m<cell line: 1>\u001b[0;34m()\u001b[0m\n\u001b[0;32m----> 1\u001b[0m TenGA1 \u001b[38;5;241m=\u001b[39m \u001b[43mprep\u001b[49m\u001b[43m(\u001b[49m\u001b[43mTenGA1\u001b[49m\u001b[43m)\u001b[49m\n\u001b[1;32m      2\u001b[0m TenGA2 \u001b[38;5;241m=\u001b[39m prep(TenGA2)\n\u001b[1;32m      3\u001b[0m TenGA3 \u001b[38;5;241m=\u001b[39m prep(TenGA3)\n",
      "Input \u001b[0;32mIn [71]\u001b[0m, in \u001b[0;36mprep\u001b[0;34m(df)\u001b[0m\n\u001b[1;32m     34\u001b[0m \u001b[38;5;28;01mdef\u001b[39;00m \u001b[38;5;21mprep\u001b[39m(df):\n\u001b[1;32m     35\u001b[0m     df \u001b[38;5;241m=\u001b[39m get_diff(df)\n\u001b[0;32m---> 36\u001b[0m     df \u001b[38;5;241m=\u001b[39m \u001b[43mget_startend\u001b[49m\u001b[43m(\u001b[49m\u001b[43mdf\u001b[49m\u001b[43m)\u001b[49m\n\u001b[1;32m     37\u001b[0m     df \u001b[38;5;241m=\u001b[39m re_center(df)\n\u001b[1;32m     38\u001b[0m     df \u001b[38;5;241m=\u001b[39m rm_centered(df)\n",
      "Input \u001b[0;32mIn [71]\u001b[0m, in \u001b[0;36mget_startend\u001b[0;34m(df)\u001b[0m\n\u001b[1;32m     12\u001b[0m \u001b[38;5;28;01mfor\u001b[39;00m i \u001b[38;5;129;01min\u001b[39;00m \u001b[38;5;28mrange\u001b[39m(\u001b[38;5;28mlen\u001b[39m(df)):\n\u001b[1;32m     13\u001b[0m     df\u001b[38;5;241m.\u001b[39mloc[df[\u001b[38;5;124m'\u001b[39m\u001b[38;5;124mdistance\u001b[39m\u001b[38;5;124m'\u001b[39m] \u001b[38;5;241m>\u001b[39m \u001b[38;5;241m0.5\u001b[39m, \u001b[38;5;124m'\u001b[39m\u001b[38;5;124mposition\u001b[39m\u001b[38;5;124m'\u001b[39m] \u001b[38;5;241m=\u001b[39m \u001b[38;5;124m'\u001b[39m\u001b[38;5;124mstart\u001b[39m\u001b[38;5;124m'\u001b[39m\n\u001b[0;32m---> 14\u001b[0m     df\u001b[38;5;241m.\u001b[39mloc[\u001b[43mdf\u001b[49m\u001b[43m[\u001b[49m\u001b[38;5;124;43m'\u001b[39;49m\u001b[38;5;124;43mdistance\u001b[39;49m\u001b[38;5;124;43m'\u001b[39;49m\u001b[43m]\u001b[49m\u001b[38;5;241;43m.\u001b[39;49m\u001b[43misnull\u001b[49m\u001b[43m(\u001b[49m\u001b[43m)\u001b[49m, \u001b[38;5;124m'\u001b[39m\u001b[38;5;124mposition\u001b[39m\u001b[38;5;124m'\u001b[39m] \u001b[38;5;241m=\u001b[39m \u001b[38;5;124m'\u001b[39m\u001b[38;5;124mstart\u001b[39m\u001b[38;5;124m'\u001b[39m\n\u001b[1;32m     15\u001b[0m cond \u001b[38;5;241m=\u001b[39m df[\u001b[38;5;124m'\u001b[39m\u001b[38;5;124mposition\u001b[39m\u001b[38;5;124m'\u001b[39m]\u001b[38;5;241m.\u001b[39mshift(\u001b[38;5;241m-\u001b[39m\u001b[38;5;241m1\u001b[39m)\u001b[38;5;241m.\u001b[39mstr\u001b[38;5;241m.\u001b[39mcontains(\u001b[38;5;124m'\u001b[39m\u001b[38;5;124mstart\u001b[39m\u001b[38;5;124m'\u001b[39m)\u001b[38;5;241m.\u001b[39mfillna(\u001b[38;5;28;01mFalse\u001b[39;00m)\n\u001b[1;32m     16\u001b[0m df\u001b[38;5;241m.\u001b[39mloc[cond, \u001b[38;5;124m'\u001b[39m\u001b[38;5;124mposition\u001b[39m\u001b[38;5;124m'\u001b[39m] \u001b[38;5;241m=\u001b[39m \u001b[38;5;124m'\u001b[39m\u001b[38;5;124mend\u001b[39m\u001b[38;5;124m'\u001b[39m\n",
      "File \u001b[0;32m~/opt/anaconda3/envs/QLS/lib/python3.8/site-packages/pandas/core/series.py:5286\u001b[0m, in \u001b[0;36mSeries.isnull\u001b[0;34m(self)\u001b[0m\n\u001b[1;32m   5281\u001b[0m \u001b[38;5;129m@doc\u001b[39m(NDFrame\u001b[38;5;241m.\u001b[39misna, klass\u001b[38;5;241m=\u001b[39m_shared_doc_kwargs[\u001b[38;5;124m\"\u001b[39m\u001b[38;5;124mklass\u001b[39m\u001b[38;5;124m\"\u001b[39m])  \u001b[38;5;66;03m# type: ignore[has-type]\u001b[39;00m\n\u001b[1;32m   5282\u001b[0m \u001b[38;5;28;01mdef\u001b[39;00m \u001b[38;5;21misnull\u001b[39m(\u001b[38;5;28mself\u001b[39m) \u001b[38;5;241m-\u001b[39m\u001b[38;5;241m>\u001b[39m Series:\n\u001b[1;32m   5283\u001b[0m     \u001b[38;5;124;03m\"\"\"\u001b[39;00m\n\u001b[1;32m   5284\u001b[0m \u001b[38;5;124;03m    Series.isnull is an alias for Series.isna.\u001b[39;00m\n\u001b[1;32m   5285\u001b[0m \u001b[38;5;124;03m    \"\"\"\u001b[39;00m\n\u001b[0;32m-> 5286\u001b[0m     \u001b[38;5;28;01mreturn\u001b[39;00m \u001b[38;5;28;43msuper\u001b[39;49m\u001b[43m(\u001b[49m\u001b[43m)\u001b[49m\u001b[38;5;241;43m.\u001b[39;49m\u001b[43misnull\u001b[49m\u001b[43m(\u001b[49m\u001b[43m)\u001b[49m\n",
      "File \u001b[0;32m~/opt/anaconda3/envs/QLS/lib/python3.8/site-packages/pandas/core/generic.py:7299\u001b[0m, in \u001b[0;36mNDFrame.isnull\u001b[0;34m(self)\u001b[0m\n\u001b[1;32m   7297\u001b[0m \u001b[38;5;129m@doc\u001b[39m(isna, klass\u001b[38;5;241m=\u001b[39m_shared_doc_kwargs[\u001b[38;5;124m\"\u001b[39m\u001b[38;5;124mklass\u001b[39m\u001b[38;5;124m\"\u001b[39m])\n\u001b[1;32m   7298\u001b[0m \u001b[38;5;28;01mdef\u001b[39;00m \u001b[38;5;21misnull\u001b[39m(\u001b[38;5;28mself\u001b[39m: NDFrameT) \u001b[38;5;241m-\u001b[39m\u001b[38;5;241m>\u001b[39m NDFrameT:\n\u001b[0;32m-> 7299\u001b[0m     \u001b[38;5;28;01mreturn\u001b[39;00m \u001b[43misna\u001b[49m\u001b[43m(\u001b[49m\u001b[38;5;28;43mself\u001b[39;49m\u001b[43m)\u001b[49m\u001b[38;5;241m.\u001b[39m__finalize__(\u001b[38;5;28mself\u001b[39m, method\u001b[38;5;241m=\u001b[39m\u001b[38;5;124m\"\u001b[39m\u001b[38;5;124misnull\u001b[39m\u001b[38;5;124m\"\u001b[39m)\n",
      "File \u001b[0;32m~/opt/anaconda3/envs/QLS/lib/python3.8/site-packages/pandas/core/dtypes/missing.py:143\u001b[0m, in \u001b[0;36misna\u001b[0;34m(obj)\u001b[0m\n\u001b[1;32m     66\u001b[0m \u001b[38;5;28;01mdef\u001b[39;00m \u001b[38;5;21misna\u001b[39m(obj):\n\u001b[1;32m     67\u001b[0m     \u001b[38;5;124;03m\"\"\"\u001b[39;00m\n\u001b[1;32m     68\u001b[0m \u001b[38;5;124;03m    Detect missing values for an array-like object.\u001b[39;00m\n\u001b[1;32m     69\u001b[0m \n\u001b[0;32m   (...)\u001b[0m\n\u001b[1;32m    141\u001b[0m \u001b[38;5;124;03m    Name: 1, dtype: bool\u001b[39;00m\n\u001b[1;32m    142\u001b[0m \u001b[38;5;124;03m    \"\"\"\u001b[39;00m\n\u001b[0;32m--> 143\u001b[0m     \u001b[38;5;28;01mreturn\u001b[39;00m \u001b[43m_isna\u001b[49m\u001b[43m(\u001b[49m\u001b[43mobj\u001b[49m\u001b[43m)\u001b[49m\n",
      "File \u001b[0;32m~/opt/anaconda3/envs/QLS/lib/python3.8/site-packages/pandas/core/dtypes/missing.py:181\u001b[0m, in \u001b[0;36m_isna\u001b[0;34m(obj, inf_as_na)\u001b[0m\n\u001b[1;32m    178\u001b[0m     \u001b[38;5;28;01mreturn\u001b[39;00m _isna_array(obj\u001b[38;5;241m.\u001b[39m_values, inf_as_na\u001b[38;5;241m=\u001b[39minf_as_na)\n\u001b[1;32m    180\u001b[0m \u001b[38;5;28;01melif\u001b[39;00m \u001b[38;5;28misinstance\u001b[39m(obj, ABCSeries):\n\u001b[0;32m--> 181\u001b[0m     result \u001b[38;5;241m=\u001b[39m \u001b[43m_isna_array\u001b[49m\u001b[43m(\u001b[49m\u001b[43mobj\u001b[49m\u001b[38;5;241;43m.\u001b[39;49m\u001b[43m_values\u001b[49m\u001b[43m,\u001b[49m\u001b[43m \u001b[49m\u001b[43minf_as_na\u001b[49m\u001b[38;5;241;43m=\u001b[39;49m\u001b[43minf_as_na\u001b[49m\u001b[43m)\u001b[49m\n\u001b[1;32m    182\u001b[0m     \u001b[38;5;66;03m# box\u001b[39;00m\n\u001b[1;32m    183\u001b[0m     result \u001b[38;5;241m=\u001b[39m obj\u001b[38;5;241m.\u001b[39m_constructor(result, index\u001b[38;5;241m=\u001b[39mobj\u001b[38;5;241m.\u001b[39mindex, name\u001b[38;5;241m=\u001b[39mobj\u001b[38;5;241m.\u001b[39mname, copy\u001b[38;5;241m=\u001b[39m\u001b[38;5;28;01mFalse\u001b[39;00m)\n",
      "File \u001b[0;32m~/opt/anaconda3/envs/QLS/lib/python3.8/site-packages/pandas/core/dtypes/missing.py:254\u001b[0m, in \u001b[0;36m_isna_array\u001b[0;34m(values, inf_as_na)\u001b[0m\n\u001b[1;32m    252\u001b[0m         result \u001b[38;5;241m=\u001b[39m values\u001b[38;5;241m.\u001b[39misna()  \u001b[38;5;66;03m# type: ignore[assignment]\u001b[39;00m\n\u001b[1;32m    253\u001b[0m \u001b[38;5;28;01melif\u001b[39;00m is_string_or_object_np_dtype(values\u001b[38;5;241m.\u001b[39mdtype):\n\u001b[0;32m--> 254\u001b[0m     result \u001b[38;5;241m=\u001b[39m \u001b[43m_isna_string_dtype\u001b[49m\u001b[43m(\u001b[49m\u001b[43mvalues\u001b[49m\u001b[43m,\u001b[49m\u001b[43m \u001b[49m\u001b[43minf_as_na\u001b[49m\u001b[38;5;241;43m=\u001b[39;49m\u001b[43minf_as_na\u001b[49m\u001b[43m)\u001b[49m\n\u001b[1;32m    255\u001b[0m \u001b[38;5;28;01melif\u001b[39;00m needs_i8_conversion(dtype):\n\u001b[1;32m    256\u001b[0m     \u001b[38;5;66;03m# this is the NaT pattern\u001b[39;00m\n\u001b[1;32m    257\u001b[0m     result \u001b[38;5;241m=\u001b[39m values\u001b[38;5;241m.\u001b[39mview(\u001b[38;5;124m\"\u001b[39m\u001b[38;5;124mi8\u001b[39m\u001b[38;5;124m\"\u001b[39m) \u001b[38;5;241m==\u001b[39m iNaT\n",
      "File \u001b[0;32m~/opt/anaconda3/envs/QLS/lib/python3.8/site-packages/pandas/core/dtypes/missing.py:276\u001b[0m, in \u001b[0;36m_isna_string_dtype\u001b[0;34m(values, inf_as_na)\u001b[0m\n\u001b[1;32m    273\u001b[0m \u001b[38;5;28;01melse\u001b[39;00m:\n\u001b[1;32m    275\u001b[0m     \u001b[38;5;28;01mif\u001b[39;00m values\u001b[38;5;241m.\u001b[39mndim \u001b[38;5;241m==\u001b[39m \u001b[38;5;241m1\u001b[39m:\n\u001b[0;32m--> 276\u001b[0m         result \u001b[38;5;241m=\u001b[39m \u001b[43mlibmissing\u001b[49m\u001b[38;5;241;43m.\u001b[39;49m\u001b[43misnaobj\u001b[49m\u001b[43m(\u001b[49m\u001b[43mvalues\u001b[49m\u001b[43m,\u001b[49m\u001b[43m \u001b[49m\u001b[43minf_as_na\u001b[49m\u001b[38;5;241;43m=\u001b[39;49m\u001b[43minf_as_na\u001b[49m\u001b[43m)\u001b[49m\n\u001b[1;32m    277\u001b[0m     \u001b[38;5;28;01melif\u001b[39;00m values\u001b[38;5;241m.\u001b[39mndim \u001b[38;5;241m==\u001b[39m \u001b[38;5;241m2\u001b[39m:\n\u001b[1;32m    278\u001b[0m         result \u001b[38;5;241m=\u001b[39m libmissing\u001b[38;5;241m.\u001b[39misnaobj2d(values, inf_as_na\u001b[38;5;241m=\u001b[39minf_as_na)\n",
      "\u001b[0;31mKeyboardInterrupt\u001b[0m: "
     ]
    }
   ],
   "source": [
    "H2O = prep(H2O)"
   ]
  },
  {
   "cell_type": "code",
   "execution_count": null,
   "id": "7013d617",
   "metadata": {},
   "outputs": [],
   "source": []
  },
  {
   "cell_type": "code",
   "execution_count": null,
   "id": "ae96801c",
   "metadata": {},
   "outputs": [],
   "source": []
  },
  {
   "cell_type": "code",
   "execution_count": null,
   "id": "ef6fc0c5",
   "metadata": {},
   "outputs": [],
   "source": [
    "for i in tnrange(len(TenGA1), desc='TenGA1'):\n",
    "    TenGA1 = get_diff(TenGA1)"
   ]
  },
  {
   "cell_type": "code",
   "execution_count": null,
   "id": "0499b07a",
   "metadata": {},
   "outputs": [],
   "source": [
    "for i in tnrange(len(TenGA2), desc='TenGA2'):\n",
    "    TenGA2 = prep(TenGA2)"
   ]
  },
  {
   "cell_type": "code",
   "execution_count": null,
   "id": "bf0367f8",
   "metadata": {},
   "outputs": [],
   "source": [
    "for i in tnrange(len(TenGA3), desc='TenGA3'):\n",
    "    TenGA3 = prep(TenGA3)"
   ]
  },
  {
   "cell_type": "code",
   "execution_count": null,
   "id": "30e340c9",
   "metadata": {},
   "outputs": [],
   "source": [
    "for i in tnrange(len(EA), desc='EA'):\n",
    "    EA = prep(EA)"
   ]
  },
  {
   "cell_type": "code",
   "execution_count": null,
   "id": "c917cbc4",
   "metadata": {},
   "outputs": [],
   "source": [
    "for i in tnrange(len(H2O), desc='H2O'):\n",
    "    H2O = prep(H2O)"
   ]
  },
  {
   "cell_type": "code",
   "execution_count": null,
   "id": "561b0a3c",
   "metadata": {},
   "outputs": [],
   "source": []
  },
  {
   "cell_type": "code",
   "execution_count": null,
   "id": "81cc266d",
   "metadata": {},
   "outputs": [],
   "source": [
    "x_start, y_start, x_end, y_end = StartStop(subDF)"
   ]
  },
  {
   "cell_type": "code",
   "execution_count": null,
   "id": "47e9854c",
   "metadata": {},
   "outputs": [],
   "source": []
  },
  {
   "cell_type": "code",
   "execution_count": null,
   "id": "d70289b2",
   "metadata": {},
   "outputs": [],
   "source": [
    "plot_fig(subDF)"
   ]
  },
  {
   "cell_type": "code",
   "execution_count": null,
   "id": "68c545c5",
   "metadata": {},
   "outputs": [],
   "source": []
  },
  {
   "cell_type": "markdown",
   "id": "13861d6c",
   "metadata": {},
   "source": [
    "# test stuff"
   ]
  },
  {
   "cell_type": "code",
   "execution_count": 13,
   "id": "bf408bd1",
   "metadata": {},
   "outputs": [
    {
     "data": {
      "text/plain": [
       "array(['20211025_115104', '20211026_161140', '20211027_125517',\n",
       "       '20211027_165912', '20211027_173352', '20211028_120724',\n",
       "       '20211028_144515', '20211029_125354', '20211029_131338',\n",
       "       '20211102_112325', '20211102_121711', '20211103_183908',\n",
       "       '20211103_191259', '20211104_145907', '20211104_153210',\n",
       "       '20211115_145442', '20211115_153001', '20211115_163644',\n",
       "       '20211116_123528', '20211117_122326'], dtype=object)"
      ]
     },
     "execution_count": 13,
     "metadata": {},
     "output_type": "execute_result"
    }
   ],
   "source": [
    "# get all sessions from condition 1\n",
    "TenGA1['session'].unique()"
   ]
  },
  {
   "cell_type": "code",
   "execution_count": 86,
   "id": "02661cd4",
   "metadata": {},
   "outputs": [],
   "source": [
    "# work on session 1 data (just to test stuff)\n",
    "GA1sesh1 = TenGA1.loc[TenGA1['session'] == '20211025_115104']"
   ]
  },
  {
   "cell_type": "code",
   "execution_count": 87,
   "id": "9fa3a1cb",
   "metadata": {},
   "outputs": [],
   "source": [
    "GA2sesh1 = TenGA2.loc[TenGA2['session'] == '20211025_113152']"
   ]
  },
  {
   "cell_type": "code",
   "execution_count": 88,
   "id": "72ab4a1b",
   "metadata": {},
   "outputs": [],
   "source": [
    "GA3sesh1 = TenGA3.loc[TenGA3['session'] == '20211026_155429']"
   ]
  },
  {
   "cell_type": "code",
   "execution_count": 89,
   "id": "6fad9a4e",
   "metadata": {},
   "outputs": [],
   "source": [
    "EAsesh1 = EA.loc[EA['session'] == '20211025_102902']"
   ]
  },
  {
   "cell_type": "code",
   "execution_count": 90,
   "id": "4d03e16f",
   "metadata": {},
   "outputs": [],
   "source": [
    "H2Osesh1 = H2O.loc[H2O['session'] == '20211025_101201']"
   ]
  },
  {
   "cell_type": "code",
   "execution_count": 91,
   "id": "c5cb173e",
   "metadata": {},
   "outputs": [
    {
     "name": "stderr",
     "output_type": "stream",
     "text": [
      "/var/folders/hd/7kkcl2qd5xq_6x2gc7_dcj100000gn/T/ipykernel_57412/1424957967.py:4: SettingWithCopyWarning: \n",
      "A value is trying to be set on a copy of a slice from a DataFrame.\n",
      "Try using .loc[row_indexer,col_indexer] = value instead\n",
      "\n",
      "See the caveats in the documentation: https://pandas.pydata.org/pandas-docs/stable/user_guide/indexing.html#returning-a-view-versus-a-copy\n",
      "  df['distance'] = (dx**2 + dy**2)**0.5\n"
     ]
    },
    {
     "ename": "KeyboardInterrupt",
     "evalue": "",
     "output_type": "error",
     "traceback": [
      "\u001b[0;31m---------------------------------------------------------------------------\u001b[0m",
      "\u001b[0;31mKeyboardInterrupt\u001b[0m                         Traceback (most recent call last)",
      "Input \u001b[0;32mIn [91]\u001b[0m, in \u001b[0;36m<cell line: 1>\u001b[0;34m()\u001b[0m\n\u001b[0;32m----> 1\u001b[0m GA1sesh1 \u001b[38;5;241m=\u001b[39m \u001b[43mprep\u001b[49m\u001b[43m(\u001b[49m\u001b[43mGA1sesh1\u001b[49m\u001b[43m)\u001b[49m\n\u001b[1;32m      2\u001b[0m GA1sesh1\n",
      "Input \u001b[0;32mIn [85]\u001b[0m, in \u001b[0;36mprep\u001b[0;34m(df)\u001b[0m\n\u001b[1;32m     29\u001b[0m \u001b[38;5;28;01mdef\u001b[39;00m \u001b[38;5;21mprep\u001b[39m(df):\n\u001b[1;32m     30\u001b[0m     df \u001b[38;5;241m=\u001b[39m get_diff(df)\n\u001b[0;32m---> 31\u001b[0m     df \u001b[38;5;241m=\u001b[39m \u001b[43mget_startend\u001b[49m\u001b[43m(\u001b[49m\u001b[43mdf\u001b[49m\u001b[43m)\u001b[49m\n\u001b[1;32m     32\u001b[0m     df \u001b[38;5;241m=\u001b[39m re_center(df)\n\u001b[1;32m     33\u001b[0m     \u001b[38;5;28;01mreturn\u001b[39;00m df\n",
      "Input \u001b[0;32mIn [85]\u001b[0m, in \u001b[0;36mget_startend\u001b[0;34m(df)\u001b[0m\n\u001b[1;32m     11\u001b[0m \u001b[38;5;28;01mdef\u001b[39;00m \u001b[38;5;21mget_startend\u001b[39m(df):\n\u001b[1;32m     12\u001b[0m     \u001b[38;5;28;01mfor\u001b[39;00m i \u001b[38;5;129;01min\u001b[39;00m \u001b[38;5;28mrange\u001b[39m(\u001b[38;5;28mlen\u001b[39m(df)):\n\u001b[0;32m---> 13\u001b[0m         df\u001b[38;5;241m.\u001b[39mloc[\u001b[43mdf\u001b[49m\u001b[43m[\u001b[49m\u001b[38;5;124;43m'\u001b[39;49m\u001b[38;5;124;43mdistance\u001b[39;49m\u001b[38;5;124;43m'\u001b[39;49m\u001b[43m]\u001b[49m\u001b[43m \u001b[49m\u001b[38;5;241;43m>\u001b[39;49m\u001b[43m \u001b[49m\u001b[38;5;241;43m0.5\u001b[39;49m, \u001b[38;5;124m'\u001b[39m\u001b[38;5;124mposition\u001b[39m\u001b[38;5;124m'\u001b[39m] \u001b[38;5;241m=\u001b[39m \u001b[38;5;124m'\u001b[39m\u001b[38;5;124mstart\u001b[39m\u001b[38;5;124m'\u001b[39m\n\u001b[1;32m     14\u001b[0m         df\u001b[38;5;241m.\u001b[39mloc[df[\u001b[38;5;124m'\u001b[39m\u001b[38;5;124mdistance\u001b[39m\u001b[38;5;124m'\u001b[39m]\u001b[38;5;241m.\u001b[39misnull(), \u001b[38;5;124m'\u001b[39m\u001b[38;5;124mposition\u001b[39m\u001b[38;5;124m'\u001b[39m] \u001b[38;5;241m=\u001b[39m \u001b[38;5;124m'\u001b[39m\u001b[38;5;124mstart\u001b[39m\u001b[38;5;124m'\u001b[39m\n\u001b[1;32m     15\u001b[0m     cond \u001b[38;5;241m=\u001b[39m df[\u001b[38;5;124m'\u001b[39m\u001b[38;5;124mposition\u001b[39m\u001b[38;5;124m'\u001b[39m]\u001b[38;5;241m.\u001b[39mshift(\u001b[38;5;241m-\u001b[39m\u001b[38;5;241m1\u001b[39m)\u001b[38;5;241m.\u001b[39mstr\u001b[38;5;241m.\u001b[39mcontains(\u001b[38;5;124m'\u001b[39m\u001b[38;5;124mstart\u001b[39m\u001b[38;5;124m'\u001b[39m)\u001b[38;5;241m.\u001b[39mfillna(\u001b[38;5;28;01mFalse\u001b[39;00m)\n",
      "File \u001b[0;32m~/opt/anaconda3/envs/QLS/lib/python3.8/site-packages/pandas/core/ops/common.py:70\u001b[0m, in \u001b[0;36m_unpack_zerodim_and_defer.<locals>.new_method\u001b[0;34m(self, other)\u001b[0m\n\u001b[1;32m     66\u001b[0m             \u001b[38;5;28;01mreturn\u001b[39;00m \u001b[38;5;28mNotImplemented\u001b[39m\n\u001b[1;32m     68\u001b[0m other \u001b[38;5;241m=\u001b[39m item_from_zerodim(other)\n\u001b[0;32m---> 70\u001b[0m \u001b[38;5;28;01mreturn\u001b[39;00m \u001b[43mmethod\u001b[49m\u001b[43m(\u001b[49m\u001b[38;5;28;43mself\u001b[39;49m\u001b[43m,\u001b[49m\u001b[43m \u001b[49m\u001b[43mother\u001b[49m\u001b[43m)\u001b[49m\n",
      "File \u001b[0;32m~/opt/anaconda3/envs/QLS/lib/python3.8/site-packages/pandas/core/arraylike.py:56\u001b[0m, in \u001b[0;36mOpsMixin.__gt__\u001b[0;34m(self, other)\u001b[0m\n\u001b[1;32m     54\u001b[0m \u001b[38;5;129m@unpack_zerodim_and_defer\u001b[39m(\u001b[38;5;124m\"\u001b[39m\u001b[38;5;124m__gt__\u001b[39m\u001b[38;5;124m\"\u001b[39m)\n\u001b[1;32m     55\u001b[0m \u001b[38;5;28;01mdef\u001b[39;00m \u001b[38;5;21m__gt__\u001b[39m(\u001b[38;5;28mself\u001b[39m, other):\n\u001b[0;32m---> 56\u001b[0m     \u001b[38;5;28;01mreturn\u001b[39;00m \u001b[38;5;28;43mself\u001b[39;49m\u001b[38;5;241;43m.\u001b[39;49m\u001b[43m_cmp_method\u001b[49m\u001b[43m(\u001b[49m\u001b[43mother\u001b[49m\u001b[43m,\u001b[49m\u001b[43m \u001b[49m\u001b[43moperator\u001b[49m\u001b[38;5;241;43m.\u001b[39;49m\u001b[43mgt\u001b[49m\u001b[43m)\u001b[49m\n",
      "File \u001b[0;32m~/opt/anaconda3/envs/QLS/lib/python3.8/site-packages/pandas/core/series.py:5623\u001b[0m, in \u001b[0;36mSeries._cmp_method\u001b[0;34m(self, other, op)\u001b[0m\n\u001b[1;32m   5620\u001b[0m rvalues \u001b[38;5;241m=\u001b[39m extract_array(other, extract_numpy\u001b[38;5;241m=\u001b[39m\u001b[38;5;28;01mTrue\u001b[39;00m, extract_range\u001b[38;5;241m=\u001b[39m\u001b[38;5;28;01mTrue\u001b[39;00m)\n\u001b[1;32m   5622\u001b[0m \u001b[38;5;28;01mwith\u001b[39;00m np\u001b[38;5;241m.\u001b[39merrstate(\u001b[38;5;28mall\u001b[39m\u001b[38;5;241m=\u001b[39m\u001b[38;5;124m\"\u001b[39m\u001b[38;5;124mignore\u001b[39m\u001b[38;5;124m\"\u001b[39m):\n\u001b[0;32m-> 5623\u001b[0m     res_values \u001b[38;5;241m=\u001b[39m \u001b[43mops\u001b[49m\u001b[38;5;241;43m.\u001b[39;49m\u001b[43mcomparison_op\u001b[49m\u001b[43m(\u001b[49m\u001b[43mlvalues\u001b[49m\u001b[43m,\u001b[49m\u001b[43m \u001b[49m\u001b[43mrvalues\u001b[49m\u001b[43m,\u001b[49m\u001b[43m \u001b[49m\u001b[43mop\u001b[49m\u001b[43m)\u001b[49m\n\u001b[1;32m   5625\u001b[0m \u001b[38;5;28;01mreturn\u001b[39;00m \u001b[38;5;28mself\u001b[39m\u001b[38;5;241m.\u001b[39m_construct_result(res_values, name\u001b[38;5;241m=\u001b[39mres_name)\n",
      "File \u001b[0;32m~/opt/anaconda3/envs/QLS/lib/python3.8/site-packages/pandas/core/ops/array_ops.py:283\u001b[0m, in \u001b[0;36mcomparison_op\u001b[0;34m(left, right, op)\u001b[0m\n\u001b[1;32m    280\u001b[0m     \u001b[38;5;28;01mreturn\u001b[39;00m invalid_comparison(lvalues, rvalues, op)\n\u001b[1;32m    282\u001b[0m \u001b[38;5;28;01melif\u001b[39;00m is_object_dtype(lvalues\u001b[38;5;241m.\u001b[39mdtype) \u001b[38;5;129;01mor\u001b[39;00m \u001b[38;5;28misinstance\u001b[39m(rvalues, \u001b[38;5;28mstr\u001b[39m):\n\u001b[0;32m--> 283\u001b[0m     res_values \u001b[38;5;241m=\u001b[39m \u001b[43mcomp_method_OBJECT_ARRAY\u001b[49m\u001b[43m(\u001b[49m\u001b[43mop\u001b[49m\u001b[43m,\u001b[49m\u001b[43m \u001b[49m\u001b[43mlvalues\u001b[49m\u001b[43m,\u001b[49m\u001b[43m \u001b[49m\u001b[43mrvalues\u001b[49m\u001b[43m)\u001b[49m\n\u001b[1;32m    285\u001b[0m \u001b[38;5;28;01melse\u001b[39;00m:\n\u001b[1;32m    286\u001b[0m     res_values \u001b[38;5;241m=\u001b[39m _na_arithmetic_op(lvalues, rvalues, op, is_cmp\u001b[38;5;241m=\u001b[39m\u001b[38;5;28;01mTrue\u001b[39;00m)\n",
      "File \u001b[0;32m~/opt/anaconda3/envs/QLS/lib/python3.8/site-packages/pandas/core/ops/array_ops.py:73\u001b[0m, in \u001b[0;36mcomp_method_OBJECT_ARRAY\u001b[0;34m(op, x, y)\u001b[0m\n\u001b[1;32m     71\u001b[0m     result \u001b[38;5;241m=\u001b[39m libops\u001b[38;5;241m.\u001b[39mvec_compare(x\u001b[38;5;241m.\u001b[39mravel(), y\u001b[38;5;241m.\u001b[39mravel(), op)\n\u001b[1;32m     72\u001b[0m \u001b[38;5;28;01melse\u001b[39;00m:\n\u001b[0;32m---> 73\u001b[0m     result \u001b[38;5;241m=\u001b[39m \u001b[43mlibops\u001b[49m\u001b[38;5;241;43m.\u001b[39;49m\u001b[43mscalar_compare\u001b[49m\u001b[43m(\u001b[49m\u001b[43mx\u001b[49m\u001b[38;5;241;43m.\u001b[39;49m\u001b[43mravel\u001b[49m\u001b[43m(\u001b[49m\u001b[43m)\u001b[49m\u001b[43m,\u001b[49m\u001b[43m \u001b[49m\u001b[43my\u001b[49m\u001b[43m,\u001b[49m\u001b[43m \u001b[49m\u001b[43mop\u001b[49m\u001b[43m)\u001b[49m\n\u001b[1;32m     74\u001b[0m \u001b[38;5;28;01mreturn\u001b[39;00m result\u001b[38;5;241m.\u001b[39mreshape(x\u001b[38;5;241m.\u001b[39mshape)\n",
      "\u001b[0;31mKeyboardInterrupt\u001b[0m: "
     ]
    }
   ],
   "source": [
    "# GA1sesh1 = prep(GA1sesh1)\n",
    "# GA1sesh1"
   ]
  },
  {
   "cell_type": "code",
   "execution_count": 92,
   "id": "3bd6032d",
   "metadata": {},
   "outputs": [
    {
     "name": "stderr",
     "output_type": "stream",
     "text": [
      "/var/folders/hd/7kkcl2qd5xq_6x2gc7_dcj100000gn/T/ipykernel_57412/1424957967.py:4: SettingWithCopyWarning: \n",
      "A value is trying to be set on a copy of a slice from a DataFrame.\n",
      "Try using .loc[row_indexer,col_indexer] = value instead\n",
      "\n",
      "See the caveats in the documentation: https://pandas.pydata.org/pandas-docs/stable/user_guide/indexing.html#returning-a-view-versus-a-copy\n",
      "  df['distance'] = (dx**2 + dy**2)**0.5\n"
     ]
    },
    {
     "data": {
      "text/html": [
       "<div>\n",
       "<style scoped>\n",
       "    .dataframe tbody tr th:only-of-type {\n",
       "        vertical-align: middle;\n",
       "    }\n",
       "\n",
       "    .dataframe tbody tr th {\n",
       "        vertical-align: top;\n",
       "    }\n",
       "\n",
       "    .dataframe thead th {\n",
       "        text-align: right;\n",
       "    }\n",
       "</style>\n",
       "<table border=\"1\" class=\"dataframe\">\n",
       "  <thead>\n",
       "    <tr style=\"text-align: right;\">\n",
       "      <th></th>\n",
       "      <th>session</th>\n",
       "      <th>animal</th>\n",
       "      <th>time</th>\n",
       "      <th>speed</th>\n",
       "      <th>x</th>\n",
       "      <th>y</th>\n",
       "      <th>distance</th>\n",
       "      <th>position</th>\n",
       "    </tr>\n",
       "  </thead>\n",
       "  <tbody>\n",
       "    <tr>\n",
       "      <th>0</th>\n",
       "      <td>20211025_115104</td>\n",
       "      <td>2</td>\n",
       "      <td>0.004</td>\n",
       "      <td>0.0</td>\n",
       "      <td>76.551</td>\n",
       "      <td>151.933</td>\n",
       "      <td>NaN</td>\n",
       "      <td>start</td>\n",
       "    </tr>\n",
       "    <tr>\n",
       "      <th>1</th>\n",
       "      <td>20211025_115104</td>\n",
       "      <td>2</td>\n",
       "      <td>0.161</td>\n",
       "      <td>0.646</td>\n",
       "      <td>76.529</td>\n",
       "      <td>151.945</td>\n",
       "      <td>0.02506</td>\n",
       "      <td>NaN</td>\n",
       "    </tr>\n",
       "    <tr>\n",
       "      <th>2</th>\n",
       "      <td>20211025_115104</td>\n",
       "      <td>2</td>\n",
       "      <td>0.331</td>\n",
       "      <td>0.857</td>\n",
       "      <td>76.336</td>\n",
       "      <td>151.97</td>\n",
       "      <td>0.194612</td>\n",
       "      <td>NaN</td>\n",
       "    </tr>\n",
       "    <tr>\n",
       "      <th>3</th>\n",
       "      <td>20211025_115104</td>\n",
       "      <td>2</td>\n",
       "      <td>0.493</td>\n",
       "      <td>0.788</td>\n",
       "      <td>76.249</td>\n",
       "      <td>152.004</td>\n",
       "      <td>0.093408</td>\n",
       "      <td>NaN</td>\n",
       "    </tr>\n",
       "    <tr>\n",
       "      <th>4</th>\n",
       "      <td>20211025_115104</td>\n",
       "      <td>2</td>\n",
       "      <td>0.665</td>\n",
       "      <td>0.967</td>\n",
       "      <td>76.077</td>\n",
       "      <td>152.027</td>\n",
       "      <td>0.173531</td>\n",
       "      <td>NaN</td>\n",
       "    </tr>\n",
       "    <tr>\n",
       "      <th>...</th>\n",
       "      <td>...</td>\n",
       "      <td>...</td>\n",
       "      <td>...</td>\n",
       "      <td>...</td>\n",
       "      <td>...</td>\n",
       "      <td>...</td>\n",
       "      <td>...</td>\n",
       "      <td>...</td>\n",
       "    </tr>\n",
       "    <tr>\n",
       "      <th>168912</th>\n",
       "      <td>20211025_115104</td>\n",
       "      <td>2447</td>\n",
       "      <td>899.658</td>\n",
       "      <td>0.826</td>\n",
       "      <td>187.457</td>\n",
       "      <td>102.077</td>\n",
       "      <td>0.228845</td>\n",
       "      <td>NaN</td>\n",
       "    </tr>\n",
       "    <tr>\n",
       "      <th>168913</th>\n",
       "      <td>20211025_115104</td>\n",
       "      <td>2447</td>\n",
       "      <td>899.823</td>\n",
       "      <td>0.648</td>\n",
       "      <td>187.452</td>\n",
       "      <td>102.127</td>\n",
       "      <td>0.050249</td>\n",
       "      <td>NaN</td>\n",
       "    </tr>\n",
       "    <tr>\n",
       "      <th>168914</th>\n",
       "      <td>20211025_115104</td>\n",
       "      <td>2447</td>\n",
       "      <td>899.99</td>\n",
       "      <td>1.61</td>\n",
       "      <td>187.341</td>\n",
       "      <td>102.26</td>\n",
       "      <td>0.173234</td>\n",
       "      <td>NaN</td>\n",
       "    </tr>\n",
       "    <tr>\n",
       "      <th>168915</th>\n",
       "      <td>20211025_115104</td>\n",
       "      <td>2447</td>\n",
       "      <td>900.156</td>\n",
       "      <td>0.0</td>\n",
       "      <td>187.125</td>\n",
       "      <td>102.551</td>\n",
       "      <td>0.362404</td>\n",
       "      <td>NaN</td>\n",
       "    </tr>\n",
       "    <tr>\n",
       "      <th>168916</th>\n",
       "      <td>20211025_115104</td>\n",
       "      <td>2447</td>\n",
       "      <td>900.323</td>\n",
       "      <td>0.0</td>\n",
       "      <td>187.089</td>\n",
       "      <td>102.581</td>\n",
       "      <td>0.046861</td>\n",
       "      <td>NaN</td>\n",
       "    </tr>\n",
       "  </tbody>\n",
       "</table>\n",
       "<p>168917 rows × 8 columns</p>\n",
       "</div>"
      ],
      "text/plain": [
       "                session animal     time  speed        x        y  distance  \\\n",
       "0       20211025_115104      2    0.004    0.0   76.551  151.933       NaN   \n",
       "1       20211025_115104      2    0.161  0.646   76.529  151.945   0.02506   \n",
       "2       20211025_115104      2    0.331  0.857   76.336   151.97  0.194612   \n",
       "3       20211025_115104      2    0.493  0.788   76.249  152.004  0.093408   \n",
       "4       20211025_115104      2    0.665  0.967   76.077  152.027  0.173531   \n",
       "...                 ...    ...      ...    ...      ...      ...       ...   \n",
       "168912  20211025_115104   2447  899.658  0.826  187.457  102.077  0.228845   \n",
       "168913  20211025_115104   2447  899.823  0.648  187.452  102.127  0.050249   \n",
       "168914  20211025_115104   2447   899.99   1.61  187.341   102.26  0.173234   \n",
       "168915  20211025_115104   2447  900.156    0.0  187.125  102.551  0.362404   \n",
       "168916  20211025_115104   2447  900.323    0.0  187.089  102.581  0.046861   \n",
       "\n",
       "       position  \n",
       "0         start  \n",
       "1           NaN  \n",
       "2           NaN  \n",
       "3           NaN  \n",
       "4           NaN  \n",
       "...         ...  \n",
       "168912      NaN  \n",
       "168913      NaN  \n",
       "168914      NaN  \n",
       "168915      NaN  \n",
       "168916      NaN  \n",
       "\n",
       "[168917 rows x 8 columns]"
      ]
     },
     "execution_count": 92,
     "metadata": {},
     "output_type": "execute_result"
    }
   ],
   "source": [
    "GA1sesh1 = get_diff(GA1sesh1)\n",
    "GA1sesh1"
   ]
  },
  {
   "cell_type": "code",
   "execution_count": 93,
   "id": "77d5ebab",
   "metadata": {},
   "outputs": [
    {
     "name": "stderr",
     "output_type": "stream",
     "text": [
      "/var/folders/hd/7kkcl2qd5xq_6x2gc7_dcj100000gn/T/ipykernel_57412/1424957967.py:17: SettingWithCopyWarning: \n",
      "A value is trying to be set on a copy of a slice from a DataFrame\n",
      "\n",
      "See the caveats in the documentation: https://pandas.pydata.org/pandas-docs/stable/user_guide/indexing.html#returning-a-view-versus-a-copy\n",
      "  df['position'].iloc[-1] = 'end'\n"
     ]
    },
    {
     "data": {
      "text/html": [
       "<div>\n",
       "<style scoped>\n",
       "    .dataframe tbody tr th:only-of-type {\n",
       "        vertical-align: middle;\n",
       "    }\n",
       "\n",
       "    .dataframe tbody tr th {\n",
       "        vertical-align: top;\n",
       "    }\n",
       "\n",
       "    .dataframe thead th {\n",
       "        text-align: right;\n",
       "    }\n",
       "</style>\n",
       "<table border=\"1\" class=\"dataframe\">\n",
       "  <thead>\n",
       "    <tr style=\"text-align: right;\">\n",
       "      <th></th>\n",
       "      <th>session</th>\n",
       "      <th>animal</th>\n",
       "      <th>time</th>\n",
       "      <th>speed</th>\n",
       "      <th>x</th>\n",
       "      <th>y</th>\n",
       "      <th>distance</th>\n",
       "      <th>position</th>\n",
       "    </tr>\n",
       "  </thead>\n",
       "  <tbody>\n",
       "    <tr>\n",
       "      <th>0</th>\n",
       "      <td>20211025_115104</td>\n",
       "      <td>2</td>\n",
       "      <td>0.004</td>\n",
       "      <td>0.0</td>\n",
       "      <td>76.551</td>\n",
       "      <td>151.933</td>\n",
       "      <td>NaN</td>\n",
       "      <td>start</td>\n",
       "    </tr>\n",
       "    <tr>\n",
       "      <th>1</th>\n",
       "      <td>20211025_115104</td>\n",
       "      <td>2</td>\n",
       "      <td>0.161</td>\n",
       "      <td>0.646</td>\n",
       "      <td>76.529</td>\n",
       "      <td>151.945</td>\n",
       "      <td>0.02506</td>\n",
       "      <td>NaN</td>\n",
       "    </tr>\n",
       "    <tr>\n",
       "      <th>2</th>\n",
       "      <td>20211025_115104</td>\n",
       "      <td>2</td>\n",
       "      <td>0.331</td>\n",
       "      <td>0.857</td>\n",
       "      <td>76.336</td>\n",
       "      <td>151.97</td>\n",
       "      <td>0.194612</td>\n",
       "      <td>NaN</td>\n",
       "    </tr>\n",
       "    <tr>\n",
       "      <th>3</th>\n",
       "      <td>20211025_115104</td>\n",
       "      <td>2</td>\n",
       "      <td>0.493</td>\n",
       "      <td>0.788</td>\n",
       "      <td>76.249</td>\n",
       "      <td>152.004</td>\n",
       "      <td>0.093408</td>\n",
       "      <td>NaN</td>\n",
       "    </tr>\n",
       "    <tr>\n",
       "      <th>4</th>\n",
       "      <td>20211025_115104</td>\n",
       "      <td>2</td>\n",
       "      <td>0.665</td>\n",
       "      <td>0.967</td>\n",
       "      <td>76.077</td>\n",
       "      <td>152.027</td>\n",
       "      <td>0.173531</td>\n",
       "      <td>NaN</td>\n",
       "    </tr>\n",
       "    <tr>\n",
       "      <th>...</th>\n",
       "      <td>...</td>\n",
       "      <td>...</td>\n",
       "      <td>...</td>\n",
       "      <td>...</td>\n",
       "      <td>...</td>\n",
       "      <td>...</td>\n",
       "      <td>...</td>\n",
       "      <td>...</td>\n",
       "    </tr>\n",
       "    <tr>\n",
       "      <th>168912</th>\n",
       "      <td>20211025_115104</td>\n",
       "      <td>2447</td>\n",
       "      <td>899.658</td>\n",
       "      <td>0.826</td>\n",
       "      <td>187.457</td>\n",
       "      <td>102.077</td>\n",
       "      <td>0.228845</td>\n",
       "      <td>NaN</td>\n",
       "    </tr>\n",
       "    <tr>\n",
       "      <th>168913</th>\n",
       "      <td>20211025_115104</td>\n",
       "      <td>2447</td>\n",
       "      <td>899.823</td>\n",
       "      <td>0.648</td>\n",
       "      <td>187.452</td>\n",
       "      <td>102.127</td>\n",
       "      <td>0.050249</td>\n",
       "      <td>NaN</td>\n",
       "    </tr>\n",
       "    <tr>\n",
       "      <th>168914</th>\n",
       "      <td>20211025_115104</td>\n",
       "      <td>2447</td>\n",
       "      <td>899.99</td>\n",
       "      <td>1.61</td>\n",
       "      <td>187.341</td>\n",
       "      <td>102.26</td>\n",
       "      <td>0.173234</td>\n",
       "      <td>NaN</td>\n",
       "    </tr>\n",
       "    <tr>\n",
       "      <th>168915</th>\n",
       "      <td>20211025_115104</td>\n",
       "      <td>2447</td>\n",
       "      <td>900.156</td>\n",
       "      <td>0.0</td>\n",
       "      <td>187.125</td>\n",
       "      <td>102.551</td>\n",
       "      <td>0.362404</td>\n",
       "      <td>NaN</td>\n",
       "    </tr>\n",
       "    <tr>\n",
       "      <th>168916</th>\n",
       "      <td>20211025_115104</td>\n",
       "      <td>2447</td>\n",
       "      <td>900.323</td>\n",
       "      <td>0.0</td>\n",
       "      <td>187.089</td>\n",
       "      <td>102.581</td>\n",
       "      <td>0.046861</td>\n",
       "      <td>end</td>\n",
       "    </tr>\n",
       "  </tbody>\n",
       "</table>\n",
       "<p>168917 rows × 8 columns</p>\n",
       "</div>"
      ],
      "text/plain": [
       "                session animal     time  speed        x        y  distance  \\\n",
       "0       20211025_115104      2    0.004    0.0   76.551  151.933       NaN   \n",
       "1       20211025_115104      2    0.161  0.646   76.529  151.945   0.02506   \n",
       "2       20211025_115104      2    0.331  0.857   76.336   151.97  0.194612   \n",
       "3       20211025_115104      2    0.493  0.788   76.249  152.004  0.093408   \n",
       "4       20211025_115104      2    0.665  0.967   76.077  152.027  0.173531   \n",
       "...                 ...    ...      ...    ...      ...      ...       ...   \n",
       "168912  20211025_115104   2447  899.658  0.826  187.457  102.077  0.228845   \n",
       "168913  20211025_115104   2447  899.823  0.648  187.452  102.127  0.050249   \n",
       "168914  20211025_115104   2447   899.99   1.61  187.341   102.26  0.173234   \n",
       "168915  20211025_115104   2447  900.156    0.0  187.125  102.551  0.362404   \n",
       "168916  20211025_115104   2447  900.323    0.0  187.089  102.581  0.046861   \n",
       "\n",
       "       position  \n",
       "0         start  \n",
       "1           NaN  \n",
       "2           NaN  \n",
       "3           NaN  \n",
       "4           NaN  \n",
       "...         ...  \n",
       "168912      NaN  \n",
       "168913      NaN  \n",
       "168914      NaN  \n",
       "168915      NaN  \n",
       "168916      end  \n",
       "\n",
       "[168917 rows x 8 columns]"
      ]
     },
     "execution_count": 93,
     "metadata": {},
     "output_type": "execute_result"
    }
   ],
   "source": [
    "GA1sesh1 = get_startend(GA1sesh1)"
   ]
  },
  {
   "cell_type": "code",
   "execution_count": 94,
   "id": "4b265eda",
   "metadata": {},
   "outputs": [
    {
     "name": "stderr",
     "output_type": "stream",
     "text": [
      "/var/folders/hd/7kkcl2qd5xq_6x2gc7_dcj100000gn/T/ipykernel_57412/1424957967.py:21: SettingWithCopyWarning: \n",
      "A value is trying to be set on a copy of a slice from a DataFrame.\n",
      "Try using .loc[row_indexer,col_indexer] = value instead\n",
      "\n",
      "See the caveats in the documentation: https://pandas.pydata.org/pandas-docs/stable/user_guide/indexing.html#returning-a-view-versus-a-copy\n",
      "  df[['newX', 'newY']] = df[['x', 'y']] - df.groupby(df['position'].eq('start').cumsum())[['x', 'y']].transform('first')\n",
      "/var/folders/hd/7kkcl2qd5xq_6x2gc7_dcj100000gn/T/ipykernel_57412/1424957967.py:21: SettingWithCopyWarning: \n",
      "A value is trying to be set on a copy of a slice from a DataFrame.\n",
      "Try using .loc[row_indexer,col_indexer] = value instead\n",
      "\n",
      "See the caveats in the documentation: https://pandas.pydata.org/pandas-docs/stable/user_guide/indexing.html#returning-a-view-versus-a-copy\n",
      "  df[['newX', 'newY']] = df[['x', 'y']] - df.groupby(df['position'].eq('start').cumsum())[['x', 'y']].transform('first')\n"
     ]
    }
   ],
   "source": [
    "GA1sesh1 = re_center(GA1sesh1)"
   ]
  },
  {
   "cell_type": "code",
   "execution_count": 194,
   "id": "a3b6fcf7",
   "metadata": {},
   "outputs": [],
   "source": [
    "def rm_centered(df):\n",
    "    mask = (df['position'] == 'end') & (df['newX'] > -15) & (df['newX'] < 15)\n",
    "    out = df[~mask.groupby(df['position'].eq('start').cumsum()).transform('max')]\n",
    "    return out"
   ]
  },
  {
   "cell_type": "code",
   "execution_count": 195,
   "id": "e637a5a8",
   "metadata": {},
   "outputs": [],
   "source": [
    "GA1sesh1_centered = rm_centered(GA1sesh1)"
   ]
  },
  {
   "cell_type": "code",
   "execution_count": 196,
   "id": "73966deb",
   "metadata": {},
   "outputs": [
    {
     "data": {
      "image/png": "[encoded data removed]",
      "text/plain": [
       "<Figure size 720x720 with 1 Axes>"
      ]
     },
     "metadata": {
      "needs_background": "light"
     },
     "output_type": "display_data"
    }
   ],
   "source": [
    "plot_fig(GA1sesh1_centered)"
   ]
  },
  {
   "cell_type": "code",
   "execution_count": 119,
   "id": "a5ecc3d4",
   "metadata": {},
   "outputs": [
    {
     "name": "stderr",
     "output_type": "stream",
     "text": [
      "/var/folders/hd/7kkcl2qd5xq_6x2gc7_dcj100000gn/T/ipykernel_57412/1424957967.py:4: SettingWithCopyWarning: \n",
      "A value is trying to be set on a copy of a slice from a DataFrame.\n",
      "Try using .loc[row_indexer,col_indexer] = value instead\n",
      "\n",
      "See the caveats in the documentation: https://pandas.pydata.org/pandas-docs/stable/user_guide/indexing.html#returning-a-view-versus-a-copy\n",
      "  df['distance'] = (dx**2 + dy**2)**0.5\n",
      "/var/folders/hd/7kkcl2qd5xq_6x2gc7_dcj100000gn/T/ipykernel_57412/1424957967.py:13: SettingWithCopyWarning: \n",
      "A value is trying to be set on a copy of a slice from a DataFrame.\n",
      "Try using .loc[row_indexer,col_indexer] = value instead\n",
      "\n",
      "See the caveats in the documentation: https://pandas.pydata.org/pandas-docs/stable/user_guide/indexing.html#returning-a-view-versus-a-copy\n",
      "  df.loc[df['distance'] > 0.5, 'position'] = 'start'\n",
      "/var/folders/hd/7kkcl2qd5xq_6x2gc7_dcj100000gn/T/ipykernel_57412/1424957967.py:17: SettingWithCopyWarning: \n",
      "A value is trying to be set on a copy of a slice from a DataFrame\n",
      "\n",
      "See the caveats in the documentation: https://pandas.pydata.org/pandas-docs/stable/user_guide/indexing.html#returning-a-view-versus-a-copy\n",
      "  df['position'].iloc[-1] = 'end'\n",
      "/var/folders/hd/7kkcl2qd5xq_6x2gc7_dcj100000gn/T/ipykernel_57412/1424957967.py:21: SettingWithCopyWarning: \n",
      "A value is trying to be set on a copy of a slice from a DataFrame.\n",
      "Try using .loc[row_indexer,col_indexer] = value instead\n",
      "\n",
      "See the caveats in the documentation: https://pandas.pydata.org/pandas-docs/stable/user_guide/indexing.html#returning-a-view-versus-a-copy\n",
      "  df[['newX', 'newY']] = df[['x', 'y']] - df.groupby(df['position'].eq('start').cumsum())[['x', 'y']].transform('first')\n",
      "/var/folders/hd/7kkcl2qd5xq_6x2gc7_dcj100000gn/T/ipykernel_57412/1424957967.py:21: SettingWithCopyWarning: \n",
      "A value is trying to be set on a copy of a slice from a DataFrame.\n",
      "Try using .loc[row_indexer,col_indexer] = value instead\n",
      "\n",
      "See the caveats in the documentation: https://pandas.pydata.org/pandas-docs/stable/user_guide/indexing.html#returning-a-view-versus-a-copy\n",
      "  df[['newX', 'newY']] = df[['x', 'y']] - df.groupby(df['position'].eq('start').cumsum())[['x', 'y']].transform('first')\n"
     ]
    }
   ],
   "source": [
    "GA2sesh1 = prep(GA2sesh1)"
   ]
  },
  {
   "cell_type": "code",
   "execution_count": 131,
   "id": "cc35c84c",
   "metadata": {},
   "outputs": [
    {
     "data": {
      "text/html": [
       "<div>\n",
       "<style scoped>\n",
       "    .dataframe tbody tr th:only-of-type {\n",
       "        vertical-align: middle;\n",
       "    }\n",
       "\n",
       "    .dataframe tbody tr th {\n",
       "        vertical-align: top;\n",
       "    }\n",
       "\n",
       "    .dataframe thead th {\n",
       "        text-align: right;\n",
       "    }\n",
       "</style>\n",
       "<table border=\"1\" class=\"dataframe\">\n",
       "  <thead>\n",
       "    <tr style=\"text-align: right;\">\n",
       "      <th></th>\n",
       "      <th>session</th>\n",
       "      <th>animal</th>\n",
       "      <th>time</th>\n",
       "      <th>speed</th>\n",
       "      <th>x</th>\n",
       "      <th>y</th>\n",
       "      <th>distance</th>\n",
       "      <th>position</th>\n",
       "      <th>newX</th>\n",
       "      <th>newY</th>\n",
       "    </tr>\n",
       "  </thead>\n",
       "  <tbody>\n",
       "    <tr>\n",
       "      <th>0</th>\n",
       "      <td>20211025_113152</td>\n",
       "      <td>2</td>\n",
       "      <td>0.004</td>\n",
       "      <td>0.0</td>\n",
       "      <td>70.306</td>\n",
       "      <td>146.648</td>\n",
       "      <td>NaN</td>\n",
       "      <td>start</td>\n",
       "      <td>0.0</td>\n",
       "      <td>0.0</td>\n",
       "    </tr>\n",
       "    <tr>\n",
       "      <th>1</th>\n",
       "      <td>20211025_113152</td>\n",
       "      <td>2</td>\n",
       "      <td>0.165</td>\n",
       "      <td>1.582</td>\n",
       "      <td>70.058</td>\n",
       "      <td>146.393</td>\n",
       "      <td>0.355709</td>\n",
       "      <td>NaN</td>\n",
       "      <td>-0.248</td>\n",
       "      <td>-0.255</td>\n",
       "    </tr>\n",
       "    <tr>\n",
       "      <th>2</th>\n",
       "      <td>20211025_113152</td>\n",
       "      <td>2</td>\n",
       "      <td>0.336</td>\n",
       "      <td>0.799</td>\n",
       "      <td>69.973</td>\n",
       "      <td>146.25</td>\n",
       "      <td>0.166355</td>\n",
       "      <td>NaN</td>\n",
       "      <td>-0.333</td>\n",
       "      <td>-0.398</td>\n",
       "    </tr>\n",
       "    <tr>\n",
       "      <th>3</th>\n",
       "      <td>20211025_113152</td>\n",
       "      <td>2</td>\n",
       "      <td>0.497</td>\n",
       "      <td>0.698</td>\n",
       "      <td>69.96</td>\n",
       "      <td>146.145</td>\n",
       "      <td>0.105802</td>\n",
       "      <td>NaN</td>\n",
       "      <td>-0.346</td>\n",
       "      <td>-0.503</td>\n",
       "    </tr>\n",
       "    <tr>\n",
       "      <th>4</th>\n",
       "      <td>20211025_113152</td>\n",
       "      <td>2</td>\n",
       "      <td>0.669</td>\n",
       "      <td>0.685</td>\n",
       "      <td>69.959</td>\n",
       "      <td>146.018</td>\n",
       "      <td>0.127004</td>\n",
       "      <td>NaN</td>\n",
       "      <td>-0.347</td>\n",
       "      <td>-0.63</td>\n",
       "    </tr>\n",
       "    <tr>\n",
       "      <th>...</th>\n",
       "      <td>...</td>\n",
       "      <td>...</td>\n",
       "      <td>...</td>\n",
       "      <td>...</td>\n",
       "      <td>...</td>\n",
       "      <td>...</td>\n",
       "      <td>...</td>\n",
       "      <td>...</td>\n",
       "      <td>...</td>\n",
       "      <td>...</td>\n",
       "    </tr>\n",
       "    <tr>\n",
       "      <th>175084</th>\n",
       "      <td>20211025_113152</td>\n",
       "      <td>3261</td>\n",
       "      <td>899.5</td>\n",
       "      <td>0.365</td>\n",
       "      <td>138.928</td>\n",
       "      <td>133.788</td>\n",
       "      <td>0.032016</td>\n",
       "      <td>NaN</td>\n",
       "      <td>6.086</td>\n",
       "      <td>-7.282</td>\n",
       "    </tr>\n",
       "    <tr>\n",
       "      <th>175085</th>\n",
       "      <td>20211025_113152</td>\n",
       "      <td>3261</td>\n",
       "      <td>899.67</td>\n",
       "      <td>0.322</td>\n",
       "      <td>138.998</td>\n",
       "      <td>133.728</td>\n",
       "      <td>0.092195</td>\n",
       "      <td>NaN</td>\n",
       "      <td>6.156</td>\n",
       "      <td>-7.342</td>\n",
       "    </tr>\n",
       "    <tr>\n",
       "      <th>175086</th>\n",
       "      <td>20211025_113152</td>\n",
       "      <td>3261</td>\n",
       "      <td>899.832</td>\n",
       "      <td>0.05</td>\n",
       "      <td>139.019</td>\n",
       "      <td>133.727</td>\n",
       "      <td>0.021024</td>\n",
       "      <td>NaN</td>\n",
       "      <td>6.177</td>\n",
       "      <td>-7.343</td>\n",
       "    </tr>\n",
       "    <tr>\n",
       "      <th>175087</th>\n",
       "      <td>20211025_113152</td>\n",
       "      <td>3261</td>\n",
       "      <td>900.002</td>\n",
       "      <td>0.0</td>\n",
       "      <td>139.003</td>\n",
       "      <td>133.744</td>\n",
       "      <td>0.023345</td>\n",
       "      <td>NaN</td>\n",
       "      <td>6.161</td>\n",
       "      <td>-7.326</td>\n",
       "    </tr>\n",
       "    <tr>\n",
       "      <th>175088</th>\n",
       "      <td>20211025_113152</td>\n",
       "      <td>3261</td>\n",
       "      <td>900.165</td>\n",
       "      <td>0.0</td>\n",
       "      <td>139.015</td>\n",
       "      <td>133.748</td>\n",
       "      <td>0.012649</td>\n",
       "      <td>end</td>\n",
       "      <td>6.173</td>\n",
       "      <td>-7.322</td>\n",
       "    </tr>\n",
       "  </tbody>\n",
       "</table>\n",
       "<p>175089 rows × 10 columns</p>\n",
       "</div>"
      ],
      "text/plain": [
       "                session animal     time  speed        x        y  distance  \\\n",
       "0       20211025_113152      2    0.004    0.0   70.306  146.648       NaN   \n",
       "1       20211025_113152      2    0.165  1.582   70.058  146.393  0.355709   \n",
       "2       20211025_113152      2    0.336  0.799   69.973   146.25  0.166355   \n",
       "3       20211025_113152      2    0.497  0.698    69.96  146.145  0.105802   \n",
       "4       20211025_113152      2    0.669  0.685   69.959  146.018  0.127004   \n",
       "...                 ...    ...      ...    ...      ...      ...       ...   \n",
       "175084  20211025_113152   3261    899.5  0.365  138.928  133.788  0.032016   \n",
       "175085  20211025_113152   3261   899.67  0.322  138.998  133.728  0.092195   \n",
       "175086  20211025_113152   3261  899.832   0.05  139.019  133.727  0.021024   \n",
       "175087  20211025_113152   3261  900.002    0.0  139.003  133.744  0.023345   \n",
       "175088  20211025_113152   3261  900.165    0.0  139.015  133.748  0.012649   \n",
       "\n",
       "       position   newX   newY  \n",
       "0         start    0.0    0.0  \n",
       "1           NaN -0.248 -0.255  \n",
       "2           NaN -0.333 -0.398  \n",
       "3           NaN -0.346 -0.503  \n",
       "4           NaN -0.347  -0.63  \n",
       "...         ...    ...    ...  \n",
       "175084      NaN  6.086 -7.282  \n",
       "175085      NaN  6.156 -7.342  \n",
       "175086      NaN  6.177 -7.343  \n",
       "175087      NaN  6.161 -7.326  \n",
       "175088      end  6.173 -7.322  \n",
       "\n",
       "[175089 rows x 10 columns]"
      ]
     },
     "execution_count": 131,
     "metadata": {},
     "output_type": "execute_result"
    }
   ],
   "source": [
    "GA2sesh1"
   ]
  },
  {
   "cell_type": "code",
   "execution_count": 197,
   "id": "0ed72a49",
   "metadata": {},
   "outputs": [],
   "source": [
    "GA2sesh1_center = rm_centered(GA2sesh1)"
   ]
  },
  {
   "cell_type": "code",
   "execution_count": 198,
   "id": "85fa839a",
   "metadata": {},
   "outputs": [
    {
     "data": {
      "image/png": "[encoded data removed]",
      "text/plain": [
       "<Figure size 720x720 with 1 Axes>"
      ]
     },
     "metadata": {
      "needs_background": "light"
     },
     "output_type": "display_data"
    }
   ],
   "source": [
    "plot_fig(GA2sesh1_center)"
   ]
  },
  {
   "cell_type": "code",
   "execution_count": 124,
   "id": "7c46e178",
   "metadata": {},
   "outputs": [
    {
     "name": "stderr",
     "output_type": "stream",
     "text": [
      "/var/folders/hd/7kkcl2qd5xq_6x2gc7_dcj100000gn/T/ipykernel_57412/1424957967.py:4: SettingWithCopyWarning: \n",
      "A value is trying to be set on a copy of a slice from a DataFrame.\n",
      "Try using .loc[row_indexer,col_indexer] = value instead\n",
      "\n",
      "See the caveats in the documentation: https://pandas.pydata.org/pandas-docs/stable/user_guide/indexing.html#returning-a-view-versus-a-copy\n",
      "  df['distance'] = (dx**2 + dy**2)**0.5\n"
     ]
    }
   ],
   "source": [
    "GA3sesh1 = get_diff(GA3sesh1)"
   ]
  },
  {
   "cell_type": "code",
   "execution_count": 125,
   "id": "9ca9b722",
   "metadata": {},
   "outputs": [
    {
     "name": "stderr",
     "output_type": "stream",
     "text": [
      "/var/folders/hd/7kkcl2qd5xq_6x2gc7_dcj100000gn/T/ipykernel_57412/1424957967.py:13: SettingWithCopyWarning: \n",
      "A value is trying to be set on a copy of a slice from a DataFrame.\n",
      "Try using .loc[row_indexer,col_indexer] = value instead\n",
      "\n",
      "See the caveats in the documentation: https://pandas.pydata.org/pandas-docs/stable/user_guide/indexing.html#returning-a-view-versus-a-copy\n",
      "  df.loc[df['distance'] > 0.5, 'position'] = 'start'\n",
      "/var/folders/hd/7kkcl2qd5xq_6x2gc7_dcj100000gn/T/ipykernel_57412/1424957967.py:17: SettingWithCopyWarning: \n",
      "A value is trying to be set on a copy of a slice from a DataFrame\n",
      "\n",
      "See the caveats in the documentation: https://pandas.pydata.org/pandas-docs/stable/user_guide/indexing.html#returning-a-view-versus-a-copy\n",
      "  df['position'].iloc[-1] = 'end'\n"
     ]
    }
   ],
   "source": [
    "GA3sesh1 = get_startend(GA3sesh1)"
   ]
  },
  {
   "cell_type": "code",
   "execution_count": 126,
   "id": "7a86ef3d",
   "metadata": {},
   "outputs": [
    {
     "name": "stderr",
     "output_type": "stream",
     "text": [
      "/var/folders/hd/7kkcl2qd5xq_6x2gc7_dcj100000gn/T/ipykernel_57412/1424957967.py:21: SettingWithCopyWarning: \n",
      "A value is trying to be set on a copy of a slice from a DataFrame.\n",
      "Try using .loc[row_indexer,col_indexer] = value instead\n",
      "\n",
      "See the caveats in the documentation: https://pandas.pydata.org/pandas-docs/stable/user_guide/indexing.html#returning-a-view-versus-a-copy\n",
      "  df[['newX', 'newY']] = df[['x', 'y']] - df.groupby(df['position'].eq('start').cumsum())[['x', 'y']].transform('first')\n",
      "/var/folders/hd/7kkcl2qd5xq_6x2gc7_dcj100000gn/T/ipykernel_57412/1424957967.py:21: SettingWithCopyWarning: \n",
      "A value is trying to be set on a copy of a slice from a DataFrame.\n",
      "Try using .loc[row_indexer,col_indexer] = value instead\n",
      "\n",
      "See the caveats in the documentation: https://pandas.pydata.org/pandas-docs/stable/user_guide/indexing.html#returning-a-view-versus-a-copy\n",
      "  df[['newX', 'newY']] = df[['x', 'y']] - df.groupby(df['position'].eq('start').cumsum())[['x', 'y']].transform('first')\n"
     ]
    }
   ],
   "source": [
    "GA3sesh1 = re_center(GA3sesh1)"
   ]
  },
  {
   "cell_type": "code",
   "execution_count": 199,
   "id": "2c7700a0",
   "metadata": {},
   "outputs": [],
   "source": [
    "GA3sesh1_centered = rm_centered(GA3sesh1)"
   ]
  },
  {
   "cell_type": "code",
   "execution_count": 200,
   "id": "7eba81e0",
   "metadata": {},
   "outputs": [
    {
     "data": {
      "image/png": "[encoded data removed]",
      "text/plain": [
       "<Figure size 720x720 with 1 Axes>"
      ]
     },
     "metadata": {
      "needs_background": "light"
     },
     "output_type": "display_data"
    }
   ],
   "source": [
    "plot_fig(GA3sesh1_centered)"
   ]
  },
  {
   "cell_type": "code",
   "execution_count": 133,
   "id": "2c05eee4",
   "metadata": {},
   "outputs": [
    {
     "name": "stderr",
     "output_type": "stream",
     "text": [
      "/var/folders/hd/7kkcl2qd5xq_6x2gc7_dcj100000gn/T/ipykernel_57412/1424957967.py:4: SettingWithCopyWarning: \n",
      "A value is trying to be set on a copy of a slice from a DataFrame.\n",
      "Try using .loc[row_indexer,col_indexer] = value instead\n",
      "\n",
      "See the caveats in the documentation: https://pandas.pydata.org/pandas-docs/stable/user_guide/indexing.html#returning-a-view-versus-a-copy\n",
      "  df['distance'] = (dx**2 + dy**2)**0.5\n"
     ]
    }
   ],
   "source": [
    "EAsesh1 = get_diff(EAsesh1)"
   ]
  },
  {
   "cell_type": "code",
   "execution_count": 134,
   "id": "2b1a8500",
   "metadata": {},
   "outputs": [
    {
     "name": "stderr",
     "output_type": "stream",
     "text": [
      "/var/folders/hd/7kkcl2qd5xq_6x2gc7_dcj100000gn/T/ipykernel_57412/1424957967.py:13: SettingWithCopyWarning: \n",
      "A value is trying to be set on a copy of a slice from a DataFrame.\n",
      "Try using .loc[row_indexer,col_indexer] = value instead\n",
      "\n",
      "See the caveats in the documentation: https://pandas.pydata.org/pandas-docs/stable/user_guide/indexing.html#returning-a-view-versus-a-copy\n",
      "  df.loc[df['distance'] > 0.5, 'position'] = 'start'\n",
      "/var/folders/hd/7kkcl2qd5xq_6x2gc7_dcj100000gn/T/ipykernel_57412/1424957967.py:17: SettingWithCopyWarning: \n",
      "A value is trying to be set on a copy of a slice from a DataFrame\n",
      "\n",
      "See the caveats in the documentation: https://pandas.pydata.org/pandas-docs/stable/user_guide/indexing.html#returning-a-view-versus-a-copy\n",
      "  df['position'].iloc[-1] = 'end'\n"
     ]
    }
   ],
   "source": [
    "EAsesh1 = get_startend(EAsesh1)"
   ]
  },
  {
   "cell_type": "code",
   "execution_count": 135,
   "id": "899f5af5",
   "metadata": {},
   "outputs": [
    {
     "name": "stderr",
     "output_type": "stream",
     "text": [
      "/var/folders/hd/7kkcl2qd5xq_6x2gc7_dcj100000gn/T/ipykernel_57412/1424957967.py:21: SettingWithCopyWarning: \n",
      "A value is trying to be set on a copy of a slice from a DataFrame.\n",
      "Try using .loc[row_indexer,col_indexer] = value instead\n",
      "\n",
      "See the caveats in the documentation: https://pandas.pydata.org/pandas-docs/stable/user_guide/indexing.html#returning-a-view-versus-a-copy\n",
      "  df[['newX', 'newY']] = df[['x', 'y']] - df.groupby(df['position'].eq('start').cumsum())[['x', 'y']].transform('first')\n",
      "/var/folders/hd/7kkcl2qd5xq_6x2gc7_dcj100000gn/T/ipykernel_57412/1424957967.py:21: SettingWithCopyWarning: \n",
      "A value is trying to be set on a copy of a slice from a DataFrame.\n",
      "Try using .loc[row_indexer,col_indexer] = value instead\n",
      "\n",
      "See the caveats in the documentation: https://pandas.pydata.org/pandas-docs/stable/user_guide/indexing.html#returning-a-view-versus-a-copy\n",
      "  df[['newX', 'newY']] = df[['x', 'y']] - df.groupby(df['position'].eq('start').cumsum())[['x', 'y']].transform('first')\n"
     ]
    }
   ],
   "source": [
    "EAsesh1 = re_center(EAsesh1)"
   ]
  },
  {
   "cell_type": "code",
   "execution_count": 201,
   "id": "ffe715ff",
   "metadata": {},
   "outputs": [],
   "source": [
    "EAsesh1_centered = rm_centered(EAsesh1)"
   ]
  },
  {
   "cell_type": "code",
   "execution_count": 202,
   "id": "64b12bf3",
   "metadata": {},
   "outputs": [
    {
     "data": {
      "image/png": "[encoded data removed]",
      "text/plain": [
       "<Figure size 720x720 with 1 Axes>"
      ]
     },
     "metadata": {
      "needs_background": "light"
     },
     "output_type": "display_data"
    }
   ],
   "source": [
    "plot_fig(EAsesh1_centered)"
   ]
  },
  {
   "cell_type": "code",
   "execution_count": 138,
   "id": "e0f2900b",
   "metadata": {},
   "outputs": [
    {
     "name": "stderr",
     "output_type": "stream",
     "text": [
      "/var/folders/hd/7kkcl2qd5xq_6x2gc7_dcj100000gn/T/ipykernel_57412/1424957967.py:4: SettingWithCopyWarning: \n",
      "A value is trying to be set on a copy of a slice from a DataFrame.\n",
      "Try using .loc[row_indexer,col_indexer] = value instead\n",
      "\n",
      "See the caveats in the documentation: https://pandas.pydata.org/pandas-docs/stable/user_guide/indexing.html#returning-a-view-versus-a-copy\n",
      "  df['distance'] = (dx**2 + dy**2)**0.5\n"
     ]
    }
   ],
   "source": [
    "H2Osesh1 = get_diff(H2Osesh1)"
   ]
  },
  {
   "cell_type": "code",
   "execution_count": 139,
   "id": "065be5fa",
   "metadata": {},
   "outputs": [
    {
     "name": "stderr",
     "output_type": "stream",
     "text": [
      "/var/folders/hd/7kkcl2qd5xq_6x2gc7_dcj100000gn/T/ipykernel_57412/1424957967.py:13: SettingWithCopyWarning: \n",
      "A value is trying to be set on a copy of a slice from a DataFrame.\n",
      "Try using .loc[row_indexer,col_indexer] = value instead\n",
      "\n",
      "See the caveats in the documentation: https://pandas.pydata.org/pandas-docs/stable/user_guide/indexing.html#returning-a-view-versus-a-copy\n",
      "  df.loc[df['distance'] > 0.5, 'position'] = 'start'\n",
      "/var/folders/hd/7kkcl2qd5xq_6x2gc7_dcj100000gn/T/ipykernel_57412/1424957967.py:17: SettingWithCopyWarning: \n",
      "A value is trying to be set on a copy of a slice from a DataFrame\n",
      "\n",
      "See the caveats in the documentation: https://pandas.pydata.org/pandas-docs/stable/user_guide/indexing.html#returning-a-view-versus-a-copy\n",
      "  df['position'].iloc[-1] = 'end'\n"
     ]
    }
   ],
   "source": [
    "H2Osesh1 = get_startend(H2Osesh1)"
   ]
  },
  {
   "cell_type": "code",
   "execution_count": 140,
   "id": "f9058fb2",
   "metadata": {},
   "outputs": [
    {
     "name": "stderr",
     "output_type": "stream",
     "text": [
      "/var/folders/hd/7kkcl2qd5xq_6x2gc7_dcj100000gn/T/ipykernel_57412/1424957967.py:21: SettingWithCopyWarning: \n",
      "A value is trying to be set on a copy of a slice from a DataFrame.\n",
      "Try using .loc[row_indexer,col_indexer] = value instead\n",
      "\n",
      "See the caveats in the documentation: https://pandas.pydata.org/pandas-docs/stable/user_guide/indexing.html#returning-a-view-versus-a-copy\n",
      "  df[['newX', 'newY']] = df[['x', 'y']] - df.groupby(df['position'].eq('start').cumsum())[['x', 'y']].transform('first')\n",
      "/var/folders/hd/7kkcl2qd5xq_6x2gc7_dcj100000gn/T/ipykernel_57412/1424957967.py:21: SettingWithCopyWarning: \n",
      "A value is trying to be set on a copy of a slice from a DataFrame.\n",
      "Try using .loc[row_indexer,col_indexer] = value instead\n",
      "\n",
      "See the caveats in the documentation: https://pandas.pydata.org/pandas-docs/stable/user_guide/indexing.html#returning-a-view-versus-a-copy\n",
      "  df[['newX', 'newY']] = df[['x', 'y']] - df.groupby(df['position'].eq('start').cumsum())[['x', 'y']].transform('first')\n"
     ]
    }
   ],
   "source": [
    "H2Osesh1 = re_center(H2Osesh1)"
   ]
  },
  {
   "cell_type": "code",
   "execution_count": 203,
   "id": "9c1e3775",
   "metadata": {},
   "outputs": [],
   "source": [
    "H2Osesh1_centered = rm_centered(H2Osesh1)"
   ]
  },
  {
   "cell_type": "code",
   "execution_count": 204,
   "id": "b39f3e2b",
   "metadata": {},
   "outputs": [
    {
     "data": {
      "image/png": "[encoded data removed]",
      "text/plain": [
       "<Figure size 720x720 with 1 Axes>"
      ]
     },
     "metadata": {
      "needs_background": "light"
     },
     "output_type": "display_data"
    }
   ],
   "source": [
    "plot_fig(H2Osesh1_centered)"
   ]
  },
  {
   "cell_type": "code",
   "execution_count": null,
   "id": "ec786627",
   "metadata": {},
   "outputs": [],
   "source": []
  },
  {
   "cell_type": "code",
   "execution_count": null,
   "id": "ec96dbf6",
   "metadata": {},
   "outputs": [],
   "source": []
  },
  {
   "cell_type": "code",
   "execution_count": null,
   "id": "b450021b",
   "metadata": {},
   "outputs": [],
   "source": []
  },
  {
   "cell_type": "code",
   "execution_count": null,
   "id": "79a62865",
   "metadata": {},
   "outputs": [],
   "source": []
  },
  {
   "cell_type": "code",
   "execution_count": null,
   "id": "9b012cfc",
   "metadata": {},
   "outputs": [],
   "source": []
  },
  {
   "cell_type": "code",
   "execution_count": null,
   "id": "83dc6708",
   "metadata": {},
   "outputs": [],
   "source": []
  },
  {
   "cell_type": "code",
   "execution_count": null,
   "id": "0f6d0431",
   "metadata": {},
   "outputs": [],
   "source": [
    "GA1sesh1_centered\n",
    "GA2sesh1_center\n",
    "GA3sesh1_centered\n",
    "EAsesh1_centered\n",
    "H2Osesh1_centered"
   ]
  },
  {
   "cell_type": "code",
   "execution_count": 155,
   "id": "0ff40f83",
   "metadata": {},
   "outputs": [],
   "source": [
    "#count how many bugs end in -ve vs. +ve\n",
    "def areaA(df):\n",
    "    return len(df[(df['position'] == 'end') & (df['newX'] < 0)])\n",
    "def areaB(df):\n",
    "    return len(df[(df['position'] == 'end') & (df['newX'] > 0)])"
   ]
  },
  {
   "cell_type": "code",
   "execution_count": 205,
   "id": "55c68ccc",
   "metadata": {},
   "outputs": [
    {
     "data": {
      "text/plain": [
       "-0.09947643979057591"
      ]
     },
     "execution_count": 205,
     "metadata": {},
     "output_type": "execute_result"
    }
   ],
   "source": [
    "(areaA(GA1sesh1_centered) - areaB(GA1sesh1_centered)) / (areaA(GA1sesh1_centered) + areaB(GA1sesh1_centered))"
   ]
  },
  {
   "cell_type": "code",
   "execution_count": 206,
   "id": "eeaa5a7c",
   "metadata": {},
   "outputs": [
    {
     "data": {
      "text/plain": [
       "-0.0064516129032258064"
      ]
     },
     "execution_count": 206,
     "metadata": {},
     "output_type": "execute_result"
    }
   ],
   "source": [
    "(areaA(GA2sesh1_center) - areaB(GA2sesh1_center)) / (areaA(GA2sesh1_center) + areaB(GA2sesh1_center))"
   ]
  },
  {
   "cell_type": "code",
   "execution_count": 207,
   "id": "28211cb9",
   "metadata": {},
   "outputs": [
    {
     "data": {
      "text/plain": [
       "-0.16595744680851063"
      ]
     },
     "execution_count": 207,
     "metadata": {},
     "output_type": "execute_result"
    }
   ],
   "source": [
    "(areaA(GA3sesh1_centered) - areaB(GA3sesh1_centered)) / (areaA(GA3sesh1_centered) + areaB(GA3sesh1_centered))"
   ]
  },
  {
   "cell_type": "code",
   "execution_count": 208,
   "id": "6e1d2690",
   "metadata": {},
   "outputs": [
    {
     "data": {
      "text/plain": [
       "0.07142857142857142"
      ]
     },
     "execution_count": 208,
     "metadata": {},
     "output_type": "execute_result"
    }
   ],
   "source": [
    "(areaA(EAsesh1_centered) - areaB(EAsesh1_centered)) / (areaA(EAsesh1_centered) + areaB(EAsesh1_centered))"
   ]
  },
  {
   "cell_type": "code",
   "execution_count": 209,
   "id": "18e7a586",
   "metadata": {},
   "outputs": [
    {
     "data": {
      "text/plain": [
       "-0.02857142857142857"
      ]
     },
     "execution_count": 209,
     "metadata": {},
     "output_type": "execute_result"
    }
   ],
   "source": [
    "(areaA(H2Osesh1_centered) - areaB(H2Osesh1_centered)) / (areaA(H2Osesh1_centered) + areaB(H2Osesh1_centered))"
   ]
  },
  {
   "cell_type": "code",
   "execution_count": null,
   "id": "0ee7a4e9",
   "metadata": {},
   "outputs": [],
   "source": []
  },
  {
   "cell_type": "code",
   "execution_count": null,
   "id": "b4fc4a8e",
   "metadata": {},
   "outputs": [],
   "source": []
  },
  {
   "cell_type": "code",
   "execution_count": null,
   "id": "32cb19ae",
   "metadata": {},
   "outputs": [],
   "source": []
  },
  {
   "cell_type": "code",
   "execution_count": 210,
   "id": "b7f5dfc5",
   "metadata": {},
   "outputs": [],
   "source": [
    "def velocity(df):\n",
    "    dx = (df['speed'] - df['speed'].shift(-1))\n",
    "    dt = (df['time'] - df['time'].shift(-1))\n",
    "    df['velocity'] = dx/dt\n",
    "    return df"
   ]
  },
  {
   "cell_type": "code",
   "execution_count": 240,
   "id": "f51d2546",
   "metadata": {},
   "outputs": [],
   "source": [
    "def avg_bug(df):\n",
    "    return ((df.groupby(df['position'].eq('start').cumsum())[['velocity']].sum())/len(df.groupby(df['position'].eq('start').cumsum())[['velocity']])).values.T.tolist()"
   ]
  },
  {
   "cell_type": "code",
   "execution_count": 253,
   "id": "a95c8c35",
   "metadata": {},
   "outputs": [
    {
     "name": "stderr",
     "output_type": "stream",
     "text": [
      "/var/folders/hd/7kkcl2qd5xq_6x2gc7_dcj100000gn/T/ipykernel_57412/513682236.py:4: SettingWithCopyWarning: \n",
      "A value is trying to be set on a copy of a slice from a DataFrame.\n",
      "Try using .loc[row_indexer,col_indexer] = value instead\n",
      "\n",
      "See the caveats in the documentation: https://pandas.pydata.org/pandas-docs/stable/user_guide/indexing.html#returning-a-view-versus-a-copy\n",
      "  df['velocity'] = dx/dt\n"
     ]
    }
   ],
   "source": [
    "GA1sesh1_vel = velocity(GA1sesh1_centered)\n",
    "GA2sesh1_vel = velocity(GA2sesh1_center)\n",
    "GA3sesh1_vel = velocity(GA3sesh1_centered)\n",
    "EAsesh1_vel = velocity(EAsesh1_centered)\n",
    "H2Osesh1_vel = velocity(H2Osesh1_centered)"
   ]
  },
  {
   "cell_type": "code",
   "execution_count": 267,
   "id": "8c069187",
   "metadata": {},
   "outputs": [
    {
     "ename": "ZeroDivisionError",
     "evalue": "float division by zero",
     "output_type": "error",
     "traceback": [
      "\u001b[0;31m---------------------------------------------------------------------------\u001b[0m",
      "\u001b[0;31mZeroDivisionError\u001b[0m                         Traceback (most recent call last)",
      "Input \u001b[0;32mIn [267]\u001b[0m, in \u001b[0;36m<cell line: 1>\u001b[0;34m()\u001b[0m\n\u001b[0;32m----> 1\u001b[0m GA1sesh1_vel[\u001b[38;5;124m'\u001b[39m\u001b[38;5;124mV\u001b[39m\u001b[38;5;124m'\u001b[39m] \u001b[38;5;241m=\u001b[39m \u001b[43mGA1sesh1_vel\u001b[49m\u001b[43m[\u001b[49m\u001b[38;5;124;43m'\u001b[39;49m\u001b[38;5;124;43mvelocity\u001b[39;49m\u001b[38;5;124;43m'\u001b[39;49m\u001b[43m]\u001b[49m\u001b[43m \u001b[49m\u001b[38;5;241;43m/\u001b[39;49m\u001b[43m \u001b[49m\u001b[43m(\u001b[49m\u001b[43mGA1sesh1_vel\u001b[49m\u001b[43m[\u001b[49m\u001b[38;5;124;43m'\u001b[39;49m\u001b[38;5;124;43mspeed\u001b[39;49m\u001b[38;5;124;43m'\u001b[39;49m\u001b[43m]\u001b[49m\u001b[43m)\u001b[49m\n\u001b[1;32m      2\u001b[0m GA1sesh1_vel\n",
      "File \u001b[0;32m~/opt/anaconda3/envs/QLS/lib/python3.8/site-packages/pandas/core/ops/common.py:70\u001b[0m, in \u001b[0;36m_unpack_zerodim_and_defer.<locals>.new_method\u001b[0;34m(self, other)\u001b[0m\n\u001b[1;32m     66\u001b[0m             \u001b[38;5;28;01mreturn\u001b[39;00m \u001b[38;5;28mNotImplemented\u001b[39m\n\u001b[1;32m     68\u001b[0m other \u001b[38;5;241m=\u001b[39m item_from_zerodim(other)\n\u001b[0;32m---> 70\u001b[0m \u001b[38;5;28;01mreturn\u001b[39;00m \u001b[43mmethod\u001b[49m\u001b[43m(\u001b[49m\u001b[38;5;28;43mself\u001b[39;49m\u001b[43m,\u001b[49m\u001b[43m \u001b[49m\u001b[43mother\u001b[49m\u001b[43m)\u001b[49m\n",
      "File \u001b[0;32m~/opt/anaconda3/envs/QLS/lib/python3.8/site-packages/pandas/core/arraylike.py:124\u001b[0m, in \u001b[0;36mOpsMixin.__truediv__\u001b[0;34m(self, other)\u001b[0m\n\u001b[1;32m    122\u001b[0m \u001b[38;5;129m@unpack_zerodim_and_defer\u001b[39m(\u001b[38;5;124m\"\u001b[39m\u001b[38;5;124m__truediv__\u001b[39m\u001b[38;5;124m\"\u001b[39m)\n\u001b[1;32m    123\u001b[0m \u001b[38;5;28;01mdef\u001b[39;00m \u001b[38;5;21m__truediv__\u001b[39m(\u001b[38;5;28mself\u001b[39m, other):\n\u001b[0;32m--> 124\u001b[0m     \u001b[38;5;28;01mreturn\u001b[39;00m \u001b[38;5;28;43mself\u001b[39;49m\u001b[38;5;241;43m.\u001b[39;49m\u001b[43m_arith_method\u001b[49m\u001b[43m(\u001b[49m\u001b[43mother\u001b[49m\u001b[43m,\u001b[49m\u001b[43m \u001b[49m\u001b[43moperator\u001b[49m\u001b[38;5;241;43m.\u001b[39;49m\u001b[43mtruediv\u001b[49m\u001b[43m)\u001b[49m\n",
      "File \u001b[0;32m~/opt/anaconda3/envs/QLS/lib/python3.8/site-packages/pandas/core/series.py:5639\u001b[0m, in \u001b[0;36mSeries._arith_method\u001b[0;34m(self, other, op)\u001b[0m\n\u001b[1;32m   5637\u001b[0m \u001b[38;5;28;01mdef\u001b[39;00m \u001b[38;5;21m_arith_method\u001b[39m(\u001b[38;5;28mself\u001b[39m, other, op):\n\u001b[1;32m   5638\u001b[0m     \u001b[38;5;28mself\u001b[39m, other \u001b[38;5;241m=\u001b[39m ops\u001b[38;5;241m.\u001b[39malign_method_SERIES(\u001b[38;5;28mself\u001b[39m, other)\n\u001b[0;32m-> 5639\u001b[0m     \u001b[38;5;28;01mreturn\u001b[39;00m \u001b[43mbase\u001b[49m\u001b[38;5;241;43m.\u001b[39;49m\u001b[43mIndexOpsMixin\u001b[49m\u001b[38;5;241;43m.\u001b[39;49m\u001b[43m_arith_method\u001b[49m\u001b[43m(\u001b[49m\u001b[38;5;28;43mself\u001b[39;49m\u001b[43m,\u001b[49m\u001b[43m \u001b[49m\u001b[43mother\u001b[49m\u001b[43m,\u001b[49m\u001b[43m \u001b[49m\u001b[43mop\u001b[49m\u001b[43m)\u001b[49m\n",
      "File \u001b[0;32m~/opt/anaconda3/envs/QLS/lib/python3.8/site-packages/pandas/core/base.py:1295\u001b[0m, in \u001b[0;36mIndexOpsMixin._arith_method\u001b[0;34m(self, other, op)\u001b[0m\n\u001b[1;32m   1292\u001b[0m rvalues \u001b[38;5;241m=\u001b[39m ensure_wrapped_if_datetimelike(rvalues)\n\u001b[1;32m   1294\u001b[0m \u001b[38;5;28;01mwith\u001b[39;00m np\u001b[38;5;241m.\u001b[39merrstate(\u001b[38;5;28mall\u001b[39m\u001b[38;5;241m=\u001b[39m\u001b[38;5;124m\"\u001b[39m\u001b[38;5;124mignore\u001b[39m\u001b[38;5;124m\"\u001b[39m):\n\u001b[0;32m-> 1295\u001b[0m     result \u001b[38;5;241m=\u001b[39m \u001b[43mops\u001b[49m\u001b[38;5;241;43m.\u001b[39;49m\u001b[43marithmetic_op\u001b[49m\u001b[43m(\u001b[49m\u001b[43mlvalues\u001b[49m\u001b[43m,\u001b[49m\u001b[43m \u001b[49m\u001b[43mrvalues\u001b[49m\u001b[43m,\u001b[49m\u001b[43m \u001b[49m\u001b[43mop\u001b[49m\u001b[43m)\u001b[49m\n\u001b[1;32m   1297\u001b[0m \u001b[38;5;28;01mreturn\u001b[39;00m \u001b[38;5;28mself\u001b[39m\u001b[38;5;241m.\u001b[39m_construct_result(result, name\u001b[38;5;241m=\u001b[39mres_name)\n",
      "File \u001b[0;32m~/opt/anaconda3/envs/QLS/lib/python3.8/site-packages/pandas/core/ops/array_ops.py:222\u001b[0m, in \u001b[0;36marithmetic_op\u001b[0;34m(left, right, op)\u001b[0m\n\u001b[1;32m    217\u001b[0m \u001b[38;5;28;01melse\u001b[39;00m:\n\u001b[1;32m    218\u001b[0m     \u001b[38;5;66;03m# TODO we should handle EAs consistently and move this check before the if/else\u001b[39;00m\n\u001b[1;32m    219\u001b[0m     \u001b[38;5;66;03m# (https://github.com/pandas-dev/pandas/issues/41165)\u001b[39;00m\n\u001b[1;32m    220\u001b[0m     _bool_arith_check(op, left, right)\n\u001b[0;32m--> 222\u001b[0m     res_values \u001b[38;5;241m=\u001b[39m \u001b[43m_na_arithmetic_op\u001b[49m\u001b[43m(\u001b[49m\u001b[43mleft\u001b[49m\u001b[43m,\u001b[49m\u001b[43m \u001b[49m\u001b[43mright\u001b[49m\u001b[43m,\u001b[49m\u001b[43m \u001b[49m\u001b[43mop\u001b[49m\u001b[43m)\u001b[49m\n\u001b[1;32m    224\u001b[0m \u001b[38;5;28;01mreturn\u001b[39;00m res_values\n",
      "File \u001b[0;32m~/opt/anaconda3/envs/QLS/lib/python3.8/site-packages/pandas/core/ops/array_ops.py:163\u001b[0m, in \u001b[0;36m_na_arithmetic_op\u001b[0;34m(left, right, op, is_cmp)\u001b[0m\n\u001b[1;32m    160\u001b[0m     func \u001b[38;5;241m=\u001b[39m partial(expressions\u001b[38;5;241m.\u001b[39mevaluate, op)\n\u001b[1;32m    162\u001b[0m \u001b[38;5;28;01mtry\u001b[39;00m:\n\u001b[0;32m--> 163\u001b[0m     result \u001b[38;5;241m=\u001b[39m \u001b[43mfunc\u001b[49m\u001b[43m(\u001b[49m\u001b[43mleft\u001b[49m\u001b[43m,\u001b[49m\u001b[43m \u001b[49m\u001b[43mright\u001b[49m\u001b[43m)\u001b[49m\n\u001b[1;32m    164\u001b[0m \u001b[38;5;28;01mexcept\u001b[39;00m \u001b[38;5;167;01mTypeError\u001b[39;00m:\n\u001b[1;32m    165\u001b[0m     \u001b[38;5;28;01mif\u001b[39;00m \u001b[38;5;129;01mnot\u001b[39;00m is_cmp \u001b[38;5;129;01mand\u001b[39;00m (is_object_dtype(left\u001b[38;5;241m.\u001b[39mdtype) \u001b[38;5;129;01mor\u001b[39;00m is_object_dtype(right)):\n\u001b[1;32m    166\u001b[0m         \u001b[38;5;66;03m# For object dtype, fallback to a masked operation (only operating\u001b[39;00m\n\u001b[1;32m    167\u001b[0m         \u001b[38;5;66;03m#  on the non-missing values)\u001b[39;00m\n\u001b[1;32m    168\u001b[0m         \u001b[38;5;66;03m# Don't do this for comparisons, as that will handle complex numbers\u001b[39;00m\n\u001b[1;32m    169\u001b[0m         \u001b[38;5;66;03m#  incorrectly, see GH#32047\u001b[39;00m\n",
      "File \u001b[0;32m~/opt/anaconda3/envs/QLS/lib/python3.8/site-packages/pandas/core/computation/expressions.py:239\u001b[0m, in \u001b[0;36mevaluate\u001b[0;34m(op, a, b, use_numexpr)\u001b[0m\n\u001b[1;32m    236\u001b[0m \u001b[38;5;28;01mif\u001b[39;00m op_str \u001b[38;5;129;01mis\u001b[39;00m \u001b[38;5;129;01mnot\u001b[39;00m \u001b[38;5;28;01mNone\u001b[39;00m:\n\u001b[1;32m    237\u001b[0m     \u001b[38;5;28;01mif\u001b[39;00m use_numexpr:\n\u001b[1;32m    238\u001b[0m         \u001b[38;5;66;03m# error: \"None\" not callable\u001b[39;00m\n\u001b[0;32m--> 239\u001b[0m         \u001b[38;5;28;01mreturn\u001b[39;00m \u001b[43m_evaluate\u001b[49m\u001b[43m(\u001b[49m\u001b[43mop\u001b[49m\u001b[43m,\u001b[49m\u001b[43m \u001b[49m\u001b[43mop_str\u001b[49m\u001b[43m,\u001b[49m\u001b[43m \u001b[49m\u001b[43ma\u001b[49m\u001b[43m,\u001b[49m\u001b[43m \u001b[49m\u001b[43mb\u001b[49m\u001b[43m)\u001b[49m  \u001b[38;5;66;03m# type: ignore[misc]\u001b[39;00m\n\u001b[1;32m    240\u001b[0m \u001b[38;5;28;01mreturn\u001b[39;00m _evaluate_standard(op, op_str, a, b)\n",
      "File \u001b[0;32m~/opt/anaconda3/envs/QLS/lib/python3.8/site-packages/pandas/core/computation/expressions.py:128\u001b[0m, in \u001b[0;36m_evaluate_numexpr\u001b[0;34m(op, op_str, a, b)\u001b[0m\n\u001b[1;32m    125\u001b[0m     _store_test_result(result \u001b[38;5;129;01mis\u001b[39;00m \u001b[38;5;129;01mnot\u001b[39;00m \u001b[38;5;28;01mNone\u001b[39;00m)\n\u001b[1;32m    127\u001b[0m \u001b[38;5;28;01mif\u001b[39;00m result \u001b[38;5;129;01mis\u001b[39;00m \u001b[38;5;28;01mNone\u001b[39;00m:\n\u001b[0;32m--> 128\u001b[0m     result \u001b[38;5;241m=\u001b[39m \u001b[43m_evaluate_standard\u001b[49m\u001b[43m(\u001b[49m\u001b[43mop\u001b[49m\u001b[43m,\u001b[49m\u001b[43m \u001b[49m\u001b[43mop_str\u001b[49m\u001b[43m,\u001b[49m\u001b[43m \u001b[49m\u001b[43ma\u001b[49m\u001b[43m,\u001b[49m\u001b[43m \u001b[49m\u001b[43mb\u001b[49m\u001b[43m)\u001b[49m\n\u001b[1;32m    130\u001b[0m \u001b[38;5;28;01mreturn\u001b[39;00m result\n",
      "File \u001b[0;32m~/opt/anaconda3/envs/QLS/lib/python3.8/site-packages/pandas/core/computation/expressions.py:69\u001b[0m, in \u001b[0;36m_evaluate_standard\u001b[0;34m(op, op_str, a, b)\u001b[0m\n\u001b[1;32m     67\u001b[0m \u001b[38;5;28;01mif\u001b[39;00m _TEST_MODE:\n\u001b[1;32m     68\u001b[0m     _store_test_result(\u001b[38;5;28;01mFalse\u001b[39;00m)\n\u001b[0;32m---> 69\u001b[0m \u001b[38;5;28;01mreturn\u001b[39;00m \u001b[43mop\u001b[49m\u001b[43m(\u001b[49m\u001b[43ma\u001b[49m\u001b[43m,\u001b[49m\u001b[43m \u001b[49m\u001b[43mb\u001b[49m\u001b[43m)\u001b[49m\n",
      "\u001b[0;31mZeroDivisionError\u001b[0m: float division by zero"
     ]
    }
   ],
   "source": [
    "GA1sesh1_vel['V'] = GA1sesh1_vel['velocity'] / (GA1sesh1_vel['speed'])\n",
    "GA1sesh1_vel"
   ]
  },
  {
   "cell_type": "code",
   "execution_count": 254,
   "id": "57e25bee",
   "metadata": {},
   "outputs": [],
   "source": [
    "cond1_vel = statistics.mean(avg_bug(GA1sesh1_vel)[0])\n",
    "cond2_vel = statistics.mean(avg_bug(GA2sesh1_vel)[0])\n",
    "cond3_vel = statistics.mean(avg_bug(GA3sesh1_vel)[0])\n",
    "cond4_vel = statistics.mean(avg_bug(EAsesh1_vel)[0])\n",
    "cond5_vel = statistics.mean(avg_bug(H2Osesh1_vel)[0])"
   ]
  },
  {
   "cell_type": "code",
   "execution_count": 255,
   "id": "48a5fa97",
   "metadata": {},
   "outputs": [
    {
     "name": "stdout",
     "output_type": "stream",
     "text": [
      "-0.0014993820087783403 0.002003306281921068 0.0017412996877221264 -0.0026112075652991247 -0.0029242204173974703\n"
     ]
    }
   ],
   "source": [
    "print(cond1_vel, cond2_vel, cond3_vel, cond4_vel, cond5_vel)"
   ]
  },
  {
   "cell_type": "code",
   "execution_count": null,
   "id": "98ef91d9",
   "metadata": {},
   "outputs": [],
   "source": []
  },
  {
   "cell_type": "code",
   "execution_count": null,
   "id": "0d14d8aa",
   "metadata": {},
   "outputs": [],
   "source": []
  },
  {
   "cell_type": "code",
   "execution_count": null,
   "id": "d659122e",
   "metadata": {},
   "outputs": [],
   "source": []
  },
  {
   "cell_type": "code",
   "execution_count": null,
   "id": "5a53813a",
   "metadata": {},
   "outputs": [],
   "source": []
  },
  {
   "cell_type": "code",
   "execution_count": null,
   "id": "80c82858",
   "metadata": {},
   "outputs": [],
   "source": []
  },
  {
   "cell_type": "code",
   "execution_count": null,
   "id": "d1b71b0f",
   "metadata": {},
   "outputs": [],
   "source": []
  },
  {
   "cell_type": "code",
   "execution_count": null,
   "id": "48f653f0",
   "metadata": {},
   "outputs": [],
   "source": []
  },
  {
   "cell_type": "code",
   "execution_count": 247,
   "id": "67327bbc",
   "metadata": {},
   "outputs": [
    {
     "data": {
      "text/plain": [
       "0.002003306281921068"
      ]
     },
     "execution_count": 247,
     "metadata": {},
     "output_type": "execute_result"
    }
   ],
   "source": [
    "statistics.mean(bug_vel[0])"
   ]
  },
  {
   "cell_type": "code",
   "execution_count": null,
   "id": "06456563",
   "metadata": {},
   "outputs": [],
   "source": []
  },
  {
   "cell_type": "code",
   "execution_count": 235,
   "id": "bff902ea",
   "metadata": {},
   "outputs": [
    {
     "data": {
      "text/plain": [
       "3.9308387140712333"
      ]
     },
     "execution_count": 235,
     "metadata": {},
     "output_type": "execute_result"
    }
   ],
   "source": [
    "# get the sum of velocity for animal 6\n",
    "GA2sesh1_center.loc[GA2sesh1_center['animal'] == 6]['velocity'].sum()"
   ]
  },
  {
   "cell_type": "code",
   "execution_count": 230,
   "id": "88686515",
   "metadata": {},
   "outputs": [
    {
     "data": {
      "text/html": [
       "<div>\n",
       "<style scoped>\n",
       "    .dataframe tbody tr th:only-of-type {\n",
       "        vertical-align: middle;\n",
       "    }\n",
       "\n",
       "    .dataframe tbody tr th {\n",
       "        vertical-align: top;\n",
       "    }\n",
       "\n",
       "    .dataframe thead th {\n",
       "        text-align: right;\n",
       "    }\n",
       "</style>\n",
       "<table border=\"1\" class=\"dataframe\">\n",
       "  <thead>\n",
       "    <tr style=\"text-align: right;\">\n",
       "      <th></th>\n",
       "      <th>velocity</th>\n",
       "    </tr>\n",
       "    <tr>\n",
       "      <th>position</th>\n",
       "      <th></th>\n",
       "    </tr>\n",
       "  </thead>\n",
       "  <tbody>\n",
       "    <tr>\n",
       "      <th>1</th>\n",
       "      <td>3.930839</td>\n",
       "    </tr>\n",
       "    <tr>\n",
       "      <th>2</th>\n",
       "      <td>13.600654</td>\n",
       "    </tr>\n",
       "    <tr>\n",
       "      <th>3</th>\n",
       "      <td>-12.978918</td>\n",
       "    </tr>\n",
       "    <tr>\n",
       "      <th>4</th>\n",
       "      <td>-2.092912</td>\n",
       "    </tr>\n",
       "    <tr>\n",
       "      <th>5</th>\n",
       "      <td>-18.030090</td>\n",
       "    </tr>\n",
       "    <tr>\n",
       "      <th>...</th>\n",
       "      <td>...</td>\n",
       "    </tr>\n",
       "    <tr>\n",
       "      <th>150</th>\n",
       "      <td>0.198950</td>\n",
       "    </tr>\n",
       "    <tr>\n",
       "      <th>151</th>\n",
       "      <td>-10.548224</td>\n",
       "    </tr>\n",
       "    <tr>\n",
       "      <th>152</th>\n",
       "      <td>15.677678</td>\n",
       "    </tr>\n",
       "    <tr>\n",
       "      <th>153</th>\n",
       "      <td>-0.362366</td>\n",
       "    </tr>\n",
       "    <tr>\n",
       "      <th>154</th>\n",
       "      <td>-13.167821</td>\n",
       "    </tr>\n",
       "  </tbody>\n",
       "</table>\n",
       "<p>154 rows × 1 columns</p>\n",
       "</div>"
      ],
      "text/plain": [
       "           velocity\n",
       "position           \n",
       "1          3.930839\n",
       "2         13.600654\n",
       "3        -12.978918\n",
       "4         -2.092912\n",
       "5        -18.030090\n",
       "...             ...\n",
       "150        0.198950\n",
       "151      -10.548224\n",
       "152       15.677678\n",
       "153       -0.362366\n",
       "154      -13.167821\n",
       "\n",
       "[154 rows x 1 columns]"
      ]
     },
     "execution_count": 230,
     "metadata": {},
     "output_type": "execute_result"
    }
   ],
   "source": [
    "# get the sum of each trajectory\n",
    "GA2sesh1_center.groupby(GA2sesh1_center['position'].eq('start').cumsum())[['velocity']].sum()"
   ]
  },
  {
   "cell_type": "code",
   "execution_count": 231,
   "id": "a5cf9d9b",
   "metadata": {},
   "outputs": [
    {
     "data": {
      "text/plain": [
       "154"
      ]
     },
     "execution_count": 231,
     "metadata": {},
     "output_type": "execute_result"
    }
   ],
   "source": [
    "# number of all unique trajectories\n",
    "len(GA2sesh1_center.groupby(GA2sesh1_center['position'].eq('start').cumsum())[['velocity']])"
   ]
  },
  {
   "cell_type": "code",
   "execution_count": 239,
   "id": "d8259a8d",
   "metadata": {},
   "outputs": [
    {
     "data": {
      "text/plain": [
       "2"
      ]
     },
     "execution_count": 239,
     "metadata": {},
     "output_type": "execute_result"
    }
   ],
   "source": [
    "# verify that some animals have more than one trajectory\n",
    "len(GA2sesh1_center.loc[GA2sesh1_center['animal'] == 7].groupby(GA2sesh1_center['position'].eq('start').cumsum())[['velocity']])"
   ]
  },
  {
   "cell_type": "code",
   "execution_count": 211,
   "id": "a22399e8",
   "metadata": {},
   "outputs": [
    {
     "name": "stderr",
     "output_type": "stream",
     "text": [
      "/var/folders/hd/7kkcl2qd5xq_6x2gc7_dcj100000gn/T/ipykernel_57412/513682236.py:4: SettingWithCopyWarning: \n",
      "A value is trying to be set on a copy of a slice from a DataFrame.\n",
      "Try using .loc[row_indexer,col_indexer] = value instead\n",
      "\n",
      "See the caveats in the documentation: https://pandas.pydata.org/pandas-docs/stable/user_guide/indexing.html#returning-a-view-versus-a-copy\n",
      "  df['velocity'] = dx/dt\n"
     ]
    }
   ],
   "source": [
    "GA1sesh1_vel = velocity(GA2sesh1_center)"
   ]
  },
  {
   "cell_type": "code",
   "execution_count": 212,
   "id": "f8a69c89",
   "metadata": {},
   "outputs": [
    {
     "data": {
      "text/html": [
       "<div>\n",
       "<style scoped>\n",
       "    .dataframe tbody tr th:only-of-type {\n",
       "        vertical-align: middle;\n",
       "    }\n",
       "\n",
       "    .dataframe tbody tr th {\n",
       "        vertical-align: top;\n",
       "    }\n",
       "\n",
       "    .dataframe thead th {\n",
       "        text-align: right;\n",
       "    }\n",
       "</style>\n",
       "<table border=\"1\" class=\"dataframe\">\n",
       "  <thead>\n",
       "    <tr style=\"text-align: right;\">\n",
       "      <th></th>\n",
       "      <th>session</th>\n",
       "      <th>animal</th>\n",
       "      <th>time</th>\n",
       "      <th>speed</th>\n",
       "      <th>x</th>\n",
       "      <th>y</th>\n",
       "      <th>distance</th>\n",
       "      <th>position</th>\n",
       "      <th>newX</th>\n",
       "      <th>newY</th>\n",
       "      <th>velocity</th>\n",
       "    </tr>\n",
       "  </thead>\n",
       "  <tbody>\n",
       "    <tr>\n",
       "      <th>478</th>\n",
       "      <td>20211025_113152</td>\n",
       "      <td>6</td>\n",
       "      <td>0.004</td>\n",
       "      <td>0.0</td>\n",
       "      <td>96.633</td>\n",
       "      <td>151.361</td>\n",
       "      <td>NaN</td>\n",
       "      <td>start</td>\n",
       "      <td>0.0</td>\n",
       "      <td>0.0</td>\n",
       "      <td>3.689441</td>\n",
       "    </tr>\n",
       "    <tr>\n",
       "      <th>479</th>\n",
       "      <td>20211025_113152</td>\n",
       "      <td>6</td>\n",
       "      <td>0.165</td>\n",
       "      <td>0.594</td>\n",
       "      <td>96.692</td>\n",
       "      <td>151.406</td>\n",
       "      <td>0.074202</td>\n",
       "      <td>NaN</td>\n",
       "      <td>0.059</td>\n",
       "      <td>0.045</td>\n",
       "      <td>0.356725</td>\n",
       "    </tr>\n",
       "    <tr>\n",
       "      <th>480</th>\n",
       "      <td>20211025_113152</td>\n",
       "      <td>6</td>\n",
       "      <td>0.336</td>\n",
       "      <td>0.655</td>\n",
       "      <td>96.76</td>\n",
       "      <td>151.514</td>\n",
       "      <td>0.127624</td>\n",
       "      <td>NaN</td>\n",
       "      <td>0.127</td>\n",
       "      <td>0.153</td>\n",
       "      <td>0.89441</td>\n",
       "    </tr>\n",
       "    <tr>\n",
       "      <th>481</th>\n",
       "      <td>20211025_113152</td>\n",
       "      <td>6</td>\n",
       "      <td>0.497</td>\n",
       "      <td>0.799</td>\n",
       "      <td>96.824</td>\n",
       "      <td>151.58</td>\n",
       "      <td>0.091935</td>\n",
       "      <td>NaN</td>\n",
       "      <td>0.191</td>\n",
       "      <td>0.219</td>\n",
       "      <td>-1.360465</td>\n",
       "    </tr>\n",
       "    <tr>\n",
       "      <th>482</th>\n",
       "      <td>20211025_113152</td>\n",
       "      <td>6</td>\n",
       "      <td>0.669</td>\n",
       "      <td>0.565</td>\n",
       "      <td>96.826</td>\n",
       "      <td>151.775</td>\n",
       "      <td>0.19501</td>\n",
       "      <td>NaN</td>\n",
       "      <td>0.193</td>\n",
       "      <td>0.414</td>\n",
       "      <td>-2.911392</td>\n",
       "    </tr>\n",
       "    <tr>\n",
       "      <th>...</th>\n",
       "      <td>...</td>\n",
       "      <td>...</td>\n",
       "      <td>...</td>\n",
       "      <td>...</td>\n",
       "      <td>...</td>\n",
       "      <td>...</td>\n",
       "      <td>...</td>\n",
       "      <td>...</td>\n",
       "      <td>...</td>\n",
       "      <td>...</td>\n",
       "      <td>...</td>\n",
       "    </tr>\n",
       "    <tr>\n",
       "      <th>174722</th>\n",
       "      <td>20211025_113152</td>\n",
       "      <td>3251</td>\n",
       "      <td>899.5</td>\n",
       "      <td>0.564</td>\n",
       "      <td>148.166</td>\n",
       "      <td>117.0</td>\n",
       "      <td>0.066008</td>\n",
       "      <td>NaN</td>\n",
       "      <td>16.462</td>\n",
       "      <td>-13.411</td>\n",
       "      <td>3.482353</td>\n",
       "    </tr>\n",
       "    <tr>\n",
       "      <th>174723</th>\n",
       "      <td>20211025_113152</td>\n",
       "      <td>3251</td>\n",
       "      <td>899.67</td>\n",
       "      <td>1.156</td>\n",
       "      <td>148.291</td>\n",
       "      <td>116.991</td>\n",
       "      <td>0.125324</td>\n",
       "      <td>NaN</td>\n",
       "      <td>16.587</td>\n",
       "      <td>-13.42</td>\n",
       "      <td>3.765432</td>\n",
       "    </tr>\n",
       "    <tr>\n",
       "      <th>174724</th>\n",
       "      <td>20211025_113152</td>\n",
       "      <td>3251</td>\n",
       "      <td>899.832</td>\n",
       "      <td>1.766</td>\n",
       "      <td>148.546</td>\n",
       "      <td>117.021</td>\n",
       "      <td>0.256759</td>\n",
       "      <td>NaN</td>\n",
       "      <td>16.842</td>\n",
       "      <td>-13.39</td>\n",
       "      <td>-10.388235</td>\n",
       "    </tr>\n",
       "    <tr>\n",
       "      <th>174725</th>\n",
       "      <td>20211025_113152</td>\n",
       "      <td>3251</td>\n",
       "      <td>900.002</td>\n",
       "      <td>0.0</td>\n",
       "      <td>148.875</td>\n",
       "      <td>117.057</td>\n",
       "      <td>0.330964</td>\n",
       "      <td>NaN</td>\n",
       "      <td>17.171</td>\n",
       "      <td>-13.354</td>\n",
       "      <td>-0.0</td>\n",
       "    </tr>\n",
       "    <tr>\n",
       "      <th>174726</th>\n",
       "      <td>20211025_113152</td>\n",
       "      <td>3251</td>\n",
       "      <td>900.165</td>\n",
       "      <td>0.0</td>\n",
       "      <td>149.033</td>\n",
       "      <td>117.083</td>\n",
       "      <td>0.160125</td>\n",
       "      <td>end</td>\n",
       "      <td>17.329</td>\n",
       "      <td>-13.328</td>\n",
       "      <td>NaN</td>\n",
       "    </tr>\n",
       "  </tbody>\n",
       "</table>\n",
       "<p>91244 rows × 11 columns</p>\n",
       "</div>"
      ],
      "text/plain": [
       "                session animal     time  speed        x        y  distance  \\\n",
       "478     20211025_113152      6    0.004    0.0   96.633  151.361       NaN   \n",
       "479     20211025_113152      6    0.165  0.594   96.692  151.406  0.074202   \n",
       "480     20211025_113152      6    0.336  0.655    96.76  151.514  0.127624   \n",
       "481     20211025_113152      6    0.497  0.799   96.824   151.58  0.091935   \n",
       "482     20211025_113152      6    0.669  0.565   96.826  151.775   0.19501   \n",
       "...                 ...    ...      ...    ...      ...      ...       ...   \n",
       "174722  20211025_113152   3251    899.5  0.564  148.166    117.0  0.066008   \n",
       "174723  20211025_113152   3251   899.67  1.156  148.291  116.991  0.125324   \n",
       "174724  20211025_113152   3251  899.832  1.766  148.546  117.021  0.256759   \n",
       "174725  20211025_113152   3251  900.002    0.0  148.875  117.057  0.330964   \n",
       "174726  20211025_113152   3251  900.165    0.0  149.033  117.083  0.160125   \n",
       "\n",
       "       position    newX    newY   velocity  \n",
       "478       start     0.0     0.0   3.689441  \n",
       "479         NaN   0.059   0.045   0.356725  \n",
       "480         NaN   0.127   0.153    0.89441  \n",
       "481         NaN   0.191   0.219  -1.360465  \n",
       "482         NaN   0.193   0.414  -2.911392  \n",
       "...         ...     ...     ...        ...  \n",
       "174722      NaN  16.462 -13.411   3.482353  \n",
       "174723      NaN  16.587  -13.42   3.765432  \n",
       "174724      NaN  16.842  -13.39 -10.388235  \n",
       "174725      NaN  17.171 -13.354       -0.0  \n",
       "174726      end  17.329 -13.328        NaN  \n",
       "\n",
       "[91244 rows x 11 columns]"
      ]
     },
     "execution_count": 212,
     "metadata": {},
     "output_type": "execute_result"
    }
   ],
   "source": [
    "GA1sesh1_vel"
   ]
  },
  {
   "cell_type": "code",
   "execution_count": null,
   "id": "e224d4ef",
   "metadata": {},
   "outputs": [],
   "source": []
  },
  {
   "cell_type": "code",
   "execution_count": null,
   "id": "a0184211",
   "metadata": {},
   "outputs": [],
   "source": [
    "TenGA1"
   ]
  },
  {
   "cell_type": "code",
   "execution_count": null,
   "id": "0294393d",
   "metadata": {},
   "outputs": [],
   "source": [
    "subDF = TenGA1[:5000]\n",
    "subDF"
   ]
  },
  {
   "cell_type": "code",
   "execution_count": null,
   "id": "88359851",
   "metadata": {},
   "outputs": [],
   "source": [
    "subDF = prep(subDF)\n",
    "subDF"
   ]
  },
  {
   "cell_type": "code",
   "execution_count": null,
   "id": "5ef3f770",
   "metadata": {},
   "outputs": [],
   "source": [
    "from tqdm import tnrange, tqdm_notebook\n",
    "from time import sleep"
   ]
  },
  {
   "cell_type": "code",
   "execution_count": null,
   "id": "d1c68720",
   "metadata": {},
   "outputs": [],
   "source": [
    "for i in tnrange(4, desc='1st'):\n",
    "    for j in tnrange(100, desc='2nd'):\n",
    "        sleep(0.01)"
   ]
  },
  {
   "cell_type": "code",
   "execution_count": null,
   "id": "f351262d",
   "metadata": {},
   "outputs": [],
   "source": []
  },
  {
   "cell_type": "code",
   "execution_count": null,
   "id": "05a143ae",
   "metadata": {
    "scrolled": true
   },
   "outputs": [],
   "source": []
  },
  {
   "cell_type": "code",
   "execution_count": null,
   "id": "767b5c6f",
   "metadata": {},
   "outputs": [],
   "source": [
    "subDF"
   ]
  },
  {
   "cell_type": "code",
   "execution_count": null,
   "id": "5843b9d3",
   "metadata": {},
   "outputs": [],
   "source": [
    "subDF.loc[subDF['distance'] > 0.5].head()"
   ]
  },
  {
   "cell_type": "code",
   "execution_count": null,
   "id": "75be637d",
   "metadata": {},
   "outputs": [],
   "source": []
  },
  {
   "cell_type": "code",
   "execution_count": null,
   "id": "22cff702",
   "metadata": {},
   "outputs": [],
   "source": []
  },
  {
   "cell_type": "code",
   "execution_count": null,
   "id": "7df49cea",
   "metadata": {},
   "outputs": [],
   "source": []
  },
  {
   "cell_type": "code",
   "execution_count": null,
   "id": "25f4d2b3",
   "metadata": {},
   "outputs": [],
   "source": [
    "a2 = TenGA1.loc[TenGA1['animal'] == 2]\n",
    "a2"
   ]
  },
  {
   "cell_type": "code",
   "execution_count": null,
   "id": "a84736ac",
   "metadata": {},
   "outputs": [],
   "source": [
    "coords = a2[['x', 'y']].values"
   ]
  },
  {
   "cell_type": "code",
   "execution_count": null,
   "id": "73694be8",
   "metadata": {},
   "outputs": [],
   "source": [
    "coords"
   ]
  },
  {
   "cell_type": "code",
   "execution_count": null,
   "id": "94816ea4",
   "metadata": {},
   "outputs": [],
   "source": [
    "p1, p2 = coords[0], coords[-1]"
   ]
  },
  {
   "cell_type": "code",
   "execution_count": null,
   "id": "1df84ac5",
   "metadata": {},
   "outputs": [],
   "source": [
    "p1[0]"
   ]
  },
  {
   "cell_type": "code",
   "execution_count": null,
   "id": "315a5937",
   "metadata": {},
   "outputs": [],
   "source": [
    "print(p1, p2)"
   ]
  },
  {
   "cell_type": "code",
   "execution_count": null,
   "id": "e835e4f5",
   "metadata": {},
   "outputs": [],
   "source": [
    "a2.loc[a2['x'].isin([p1[0], p2[0]]) & a2['y'].isin([p1[1], p2[1]])]"
   ]
  },
  {
   "cell_type": "code",
   "execution_count": null,
   "id": "549ee285",
   "metadata": {},
   "outputs": [],
   "source": [
    "#get the start and end coordinates\n",
    "def get_firstlast(animal):\n",
    "    coords = animal[['x', 'y']].values # get (x, y) coordinates\n",
    "    p1, p2 = coords[0], coords[-1] # get the first and last coordinates\n",
    "    \n",
    "    #return first and last coordinates of animal only\n",
    "    return animal.loc[animal['x'].isin([p1[0], p2[0]]) & animal['y'].isin([p1[1], p2[1]])]"
   ]
  },
  {
   "cell_type": "code",
   "execution_count": null,
   "id": "80dfb3f2",
   "metadata": {},
   "outputs": [],
   "source": [
    "# get start and finish coords of each animal\n",
    "df = [[get_firstlast(subdf)] for animal, subdf in TenGA1.sort_values('time').groupby('animal')]"
   ]
  },
  {
   "cell_type": "code",
   "execution_count": null,
   "id": "0f7988c7",
   "metadata": {},
   "outputs": [],
   "source": [
    "#TODO: concat back into dataframe\n",
    "for i, j in enumerate(df):\n",
    "    df_new = pd.concat([df[i][0]])"
   ]
  },
  {
   "cell_type": "code",
   "execution_count": null,
   "id": "a29ce56c",
   "metadata": {},
   "outputs": [],
   "source": []
  },
  {
   "cell_type": "code",
   "execution_count": null,
   "id": "27baf4d6",
   "metadata": {},
   "outputs": [],
   "source": []
  },
  {
   "cell_type": "code",
   "execution_count": null,
   "id": "4d1a0727",
   "metadata": {},
   "outputs": [],
   "source": []
  },
  {
   "cell_type": "code",
   "execution_count": null,
   "id": "624809c7",
   "metadata": {},
   "outputs": [],
   "source": []
  },
  {
   "cell_type": "code",
   "execution_count": null,
   "id": "6d6187d4",
   "metadata": {},
   "outputs": [],
   "source": [
    "df"
   ]
  },
  {
   "cell_type": "code",
   "execution_count": null,
   "id": "7eb2cf89",
   "metadata": {},
   "outputs": [],
   "source": [
    "df = pd.DataFrame({\n",
    "    'id': [1,1,1,2,2],\n",
    "    'lat': [41.144540, 41.144540, 41.163172, 41.163233, 41.163198],\n",
    "    'lon': [-8.562926, -8.562926, -8.583821, -8.583838, -8.583886   ] \n",
    "})\n",
    "\n",
    "df\n"
   ]
  },
  {
   "cell_type": "code",
   "execution_count": null,
   "id": "297f1915",
   "metadata": {},
   "outputs": [],
   "source": [
    "coords = df[['lat', 'lon']].values\n",
    "p1, p2 = coords[0], coords[-1]"
   ]
  },
  {
   "cell_type": "code",
   "execution_count": null,
   "id": "b0f7bca2",
   "metadata": {},
   "outputs": [],
   "source": [
    "coords"
   ]
  },
  {
   "cell_type": "code",
   "execution_count": null,
   "id": "11891cbd",
   "metadata": {},
   "outputs": [],
   "source": [
    "p1"
   ]
  },
  {
   "cell_type": "code",
   "execution_count": null,
   "id": "390cabe3",
   "metadata": {},
   "outputs": [],
   "source": []
  },
  {
   "cell_type": "code",
   "execution_count": null,
   "id": "7063d462",
   "metadata": {},
   "outputs": [],
   "source": [
    "TenGA1['animal'].nunique()"
   ]
  },
  {
   "cell_type": "code",
   "execution_count": null,
   "id": "10490f0b",
   "metadata": {},
   "outputs": [],
   "source": []
  },
  {
   "cell_type": "code",
   "execution_count": null,
   "id": "440c22a8",
   "metadata": {},
   "outputs": [],
   "source": []
  },
  {
   "cell_type": "code",
   "execution_count": null,
   "id": "845c672a",
   "metadata": {},
   "outputs": [],
   "source": []
  },
  {
   "cell_type": "code",
   "execution_count": null,
   "id": "e7f89c82",
   "metadata": {},
   "outputs": [],
   "source": [
    "df ={'animal' : [1, 1, 1, 2, 2, 3, 3, 3, 3],\n",
    "     'x':[76.551, 77.529, 78.336,79.249,  76.077, 77, 78.02, 79.23, 77.733],\n",
    "     'y': [151.933, 152.945, 153.970, 152.004, 153.027, 119.369, 120.615, 118.935, 119.115],\n",
    "    'time': [0, 1, 2, 0, 1, 0, 3,2,5]}\n",
    "df = pd.DataFrame(df)"
   ]
  },
  {
   "cell_type": "code",
   "execution_count": null,
   "id": "9e2ffa06",
   "metadata": {
    "scrolled": true
   },
   "outputs": [],
   "source": [
    "# sortdf = df.sort_values('time').groupby('animal')\n",
    "# sortdf"
   ]
  },
  {
   "cell_type": "code",
   "execution_count": null,
   "id": "bb14e4fe",
   "metadata": {},
   "outputs": [],
   "source": [
    "df"
   ]
  },
  {
   "cell_type": "code",
   "execution_count": null,
   "id": "222d5229",
   "metadata": {},
   "outputs": [],
   "source": [
    "# plot animal 2 trajectory only with avg speed\n",
    "\n",
    "import matplotlib.cm as cm\n",
    "\n",
    "a = TenGA1.loc[TenGA1['animal'] == 4]\n",
    "\n",
    "# convert desired columns to arrays\n",
    "lat_data = a['y'].to_numpy()\n",
    "long_data = a['x'].to_numpy()\n",
    "speed = a['speed'].to_numpy()\n",
    "\n",
    "fig, ax1 = plt.subplots( figsize = ( 10, 10 ) )\n",
    "minima = min(speed)\n",
    "maxima = max(speed)\n",
    "\n",
    "norm = matplotlib.colors.Normalize(vmin=0, vmax=maxima, clip=True)\n",
    "mapper = cm.ScalarMappable(norm=norm, cmap=cm.summer)\n",
    "\n",
    "pointsPerColor = 1\n",
    "\n",
    "for x in range(len(lat_data)//pointsPerColor):\n",
    "    startIndex = x * pointsPerColor\n",
    "    stopIndex = startIndex + pointsPerColor + 1\n",
    "\n",
    "    #get color for this section\n",
    "    avgSpeed = sum(speed[startIndex:stopIndex])/pointsPerColor\n",
    "    rbga = mapper.to_rgba(avgSpeed)\n",
    "\n",
    "    #plot section (leng)\n",
    "    ax1.plot( long_data[startIndex:stopIndex], \n",
    "            lat_data[startIndex:stopIndex], \n",
    "            alpha=.7,color=rbga )\n",
    "\n",
    "plt.plot(long_data[0], lat_data[0], 'og')\n",
    "plt.plot(long_data[-1], lat_data[-1], 'or')\n",
    "    \n",
    "plt.colorbar(mapper)\n",
    "plt.show()\n"
   ]
  },
  {
   "cell_type": "code",
   "execution_count": null,
   "id": "ed1b7f13",
   "metadata": {},
   "outputs": [],
   "source": [
    "# find which indices of speed = 0\n",
    "zeroes = []\n",
    "for i in range(len(speed)):\n",
    "    if speed[i] == 0:\n",
    "        zeroes.append(i)\n",
    "print(zeroes)"
   ]
  },
  {
   "cell_type": "code",
   "execution_count": null,
   "id": "8c9effbf",
   "metadata": {},
   "outputs": [],
   "source": [
    "# small_x = long_data[600:700]\n",
    "# small_y = lat_data[600:700]\n",
    "# small_speed = speed[600:700]\n",
    "\n",
    "fig, ax1 = plt.subplots( figsize = ( 5, 5 ) )\n",
    "minima = min(small_speed)\n",
    "maxima = max(small_speed)\n",
    "\n",
    "norm = matplotlib.colors.Normalize(vmin=0, vmax=maxima, clip=True)\n",
    "mapper = cm.ScalarMappable(norm=norm, cmap=cm.summer)\n",
    "\n",
    "pointsPerColor = 1\n",
    "\n",
    "for x in range(len(small_y)//pointsPerColor):\n",
    "    startIndex = x * pointsPerColor\n",
    "    stopIndex = startIndex + pointsPerColor + 1\n",
    "\n",
    "    #get color for this section\n",
    "    avgSpeed = sum(small_speed[startIndex:stopIndex])/pointsPerColor\n",
    "    rbga = mapper.to_rgba(avgSpeed)\n",
    "\n",
    "    #plot section (leng)\n",
    "    ax1.plot(small_x[startIndex:stopIndex], \n",
    "            small_y[startIndex:stopIndex], \n",
    "            alpha=.7,color=rbga )\n",
    "\n",
    "plt.plot(small_x[0], small_y[0], 'og')\n",
    "plt.plot(small_x[-1], small_y[-1], 'or')\n",
    "    \n",
    "plt.colorbar(mapper)\n",
    "plt.show()\n",
    "\n"
   ]
  },
  {
   "cell_type": "code",
   "execution_count": null,
   "id": "8b453a49",
   "metadata": {},
   "outputs": [],
   "source": [
    "small_x = np.array([63.266, 63.304, 63.32, 63.393, 63.471, 63.547, 63.589, 63.628,\n",
    "       63.732, 63.846, 63.911, 63.929, 64.012, 64.113, 64.179, 64.21,\n",
    "       64.287, 64.424, 64.484, 64.513, 64.619, 64.727, 64.784, 64.82,\n",
    "       64.9, 64.993, 65.062, 65.109, 65.18, 65.308, 65.415, 65.515,\n",
    "       65.592, 65.704, 65.887, 65.931, 95.851, 95.837, 95.706, 95.67,\n",
    "       95.66, 95.565, 95.467, 95.372, 95.316, 95.125, 94.957, 94.817,\n",
    "       94.765, 94.766, 94.8, 94.762, 94.814, 94.644, 94.577, 94.731,\n",
    "       94.977, 95.184, 95.263, 95.305, 95.464, 95.519, 95.687, 95.8,\n",
    "       95.878, 95.944, 96.083, 96.257, 96.511, 96.513, 96.614, 96.863,\n",
    "       96.972, 96.975, 96.963, 97.003, 97.044, 97.047, 97.088, 97.144,\n",
    "       97.213, 97.289, 97.163, 97.151, 97.165, 97.262, 97.462, 97.547,\n",
    "       97.671, 97.853, 97.929, 97.932, 97.999, 98.095, 98.143, 98.155,\n",
    "       98.225, 98.295, 98.366, 98.417])\n",
    "small_y = np.array([97.556, 97.633, 97.666, 97.827, 98.027, 98.199, 98.311, 98.409,\n",
    "       98.648, 98.94, 99.105, 99.168, 99.403, 99.657, 99.824, 99.937,\n",
    "       100.151, 100.503, 100.648, 100.727, 100.959, 101.232, 101.382,\n",
    "       101.471, 101.662, 101.896, 102.043, 102.147, 102.255, 102.49,\n",
    "       102.694, 102.883, 102.989, 103.158, 103.45, 103.533, 183.71,\n",
    "       183.733, 183.611, 183.551, 183.517, 183.509, 183.539, 183.618,\n",
    "       183.711, 183.756, 183.853, 183.941, 183.979, 183.997, 183.998,\n",
    "       184.01, 183.979, 183.986, 184.041, 184.072, 183.949, 183.939,\n",
    "       183.919, 183.915, 183.987, 183.997, 184.015, 184.086, 184.204,\n",
    "       184.295, 184.375, 184.533, 184.795, 184.875, 184.944, 185.141,\n",
    "       185.235, 185.266, 185.276, 185.307, 185.299, 185.279, 185.289,\n",
    "       185.283, 185.346, 185.554, 185.488, 185.527, 185.584, 185.687,\n",
    "       185.872, 185.989, 186.24, 186.599, 186.66, 186.789, 186.977,\n",
    "       187.26, 187.285, 187.239, 187.458, 187.66, 187.821, 187.911])\n",
    "small_speed = np.array([0.0, 0.359, 0.629, 1.166, 1.247, 0.945, 0.676, 1.089, 1.727,\n",
    "       1.484, 0.711, 0.962, 1.603, 1.376, 0.0, 1.041, 1.797, 1.576,\n",
    "       0.738, 1.031, 1.636, 1.352, 0.775, 0.923, 1.422, 1.256, 0.811,\n",
    "       0.729, 1.179, 1.508, 1.365, 1.027, 0.983, 1.656, 0.0, 0.877, 0.09,\n",
    "       0.523, 0.735, 0.312, 0.335, 0.582, 0.661, 0.687, 0.844, 1.164,\n",
    "       1.079, 0.68, 0.238, 0.116, 0.044, 0.072, 0.348, 0.718, 0.381,\n",
    "       1.167, 1.422, 0.94, 0.368, 0.624, 0.672, 0.676, 0.886, 0.811, 0.77,\n",
    "       0.8, 1.15, 1.818, 1.314, 0.548, 1.31, 1.373, 0.515, 0.128, 0.154,\n",
    "       0.254, 0.153, 0.141, 0.291, 0.421, 0.918, 0.44, 0.413, 0.297,\n",
    "       0.578, 1.211, 1.237, 1.261, 2.063, 1.507, 0.627, 0.964, 1.503,\n",
    "       1.053, 0.194, 0.56, 1.299, 1.175, 0.856, 0.928])"
   ]
  },
  {
   "cell_type": "code",
   "execution_count": null,
   "id": "78224c5c",
   "metadata": {},
   "outputs": [],
   "source": []
  },
  {
   "cell_type": "code",
   "execution_count": null,
   "id": "d6999aec",
   "metadata": {},
   "outputs": [],
   "source": [
    "import matplotlib.pyplot as plt \n",
    "import matplotlib.animation as animation \n",
    "import numpy as np \n",
    "%matplotlib notebook\n",
    "\n",
    "\n",
    "\n",
    "fig = plt.figure() \n",
    "ax = plt.axes(xlim=(75, 80), ylim=(119, 155)) \n",
    "line, = ax.plot([], [], lw=2) \n",
    "\n",
    "# initialization function \n",
    "def init(): \n",
    "    # creating an empty plot/frame \n",
    "    line.set_data([], []) \n",
    "    return line, \n",
    "\n",
    "# lists to store x and y axis points \n",
    "xdata, ydata = [], [] \n",
    "\n",
    "# animation function \n",
    "def animate(i): \n",
    "    for animal, subdf in df.sort_values('time').groupby('animal'):\n",
    "        xdata.append(subdf['x'])\n",
    "        ydata.append(subdf['y'])\n",
    "        line.set_data(xdata, ydata) \n",
    "        return line, \n",
    "\t\n",
    "\n",
    "# setting a title for the plot \n",
    "plt.title('') \n",
    "# hiding the axis details \n",
    "#plt.axis('off') \n",
    "\n",
    "# call the animator\t \n",
    "anim = animation.FuncAnimation(fig, animate, init_func=init, interval=100, save_count=20) \n",
    "\n",
    "\n",
    "# save the animation as mp4 video file \n",
    "#anim.save('coil.gif',writer='imagemagick') "
   ]
  },
  {
   "cell_type": "code",
   "execution_count": null,
   "id": "1a2918b5",
   "metadata": {},
   "outputs": [],
   "source": [
    "xdata=[]\n",
    "ydata=[]\n",
    "for animal, subdf in df.sort_values('time').groupby('animal'):\n",
    "        xdata.append(subdf['x'])\n",
    "        ydata.append(subdf['y'])"
   ]
  },
  {
   "cell_type": "code",
   "execution_count": null,
   "id": "b734fd1c",
   "metadata": {},
   "outputs": [],
   "source": [
    "df"
   ]
  },
  {
   "cell_type": "code",
   "execution_count": null,
   "id": "d46c8af6",
   "metadata": {},
   "outputs": [],
   "source": []
  },
  {
   "cell_type": "code",
   "execution_count": null,
   "id": "f865f358",
   "metadata": {},
   "outputs": [],
   "source": []
  },
  {
   "cell_type": "code",
   "execution_count": null,
   "id": "dd0e292e",
   "metadata": {},
   "outputs": [],
   "source": []
  },
  {
   "cell_type": "code",
   "execution_count": null,
   "id": "33bb50b5",
   "metadata": {},
   "outputs": [],
   "source": []
  },
  {
   "cell_type": "code",
   "execution_count": null,
   "id": "6bb7ef82",
   "metadata": {},
   "outputs": [],
   "source": []
  },
  {
   "cell_type": "code",
   "execution_count": null,
   "id": "279ce094",
   "metadata": {},
   "outputs": [],
   "source": [
    "# convert to df\n",
    "c1_speed = pd.DataFrame(np.concatenate(cond1))\n",
    "c2_speed = pd.DataFrame(np.concatenate(cond2))\n",
    "c3_speed = pd.DataFrame(np.concatenate(cond3))\n",
    "c4_speed = pd.DataFrame(np.concatenate(cond4))\n",
    "c5_speed = pd.DataFrame(np.concatenate(cond5))\n",
    "\n",
    "#insert new column\n",
    "c1_speed.insert(6, 'condition', 'o_five_10n1GA_0s1x900s0s#n#n#n@40')\n",
    "c2_speed.insert(6, 'condition', 'o_five_10n2GA_0s1x900s0s#n#n#n@40')\n",
    "c3_speed.insert(6, 'condition', 'o_five_10n3GA_0s1x900s0s#n#n#n@40')\n",
    "c4_speed.insert(6, 'condition', 'o_five_10n5EA_0s1x900s0s#n#n#n@40')\n",
    "c5_speed.insert(6, 'condition', 'o_five_H2O_0s1x900s0s#n#n#n@40')\n",
    "\n",
    "#create one df\n",
    "all_speed = [c1_speed, c2_speed, c3_speed, c4_speed, c5_speed]\n",
    "speed = pd.concat(all_speed, ignore_index=True)\n",
    "\n",
    "speed.columns = ['session', 'animal', 'time', 'speed', 'x', 'y', 'condition', '6', '7']"
   ]
  },
  {
   "cell_type": "code",
   "execution_count": null,
   "id": "3be3cf38",
   "metadata": {},
   "outputs": [],
   "source": [
    "c1_x = pd.DataFrame(np.concatenate(cond21))\n",
    "c2_x = pd.DataFrame(np.concatenate(cond22))\n",
    "c3_x = pd.DataFrame(np.concatenate(cond23))\n",
    "c4_x = pd.DataFrame(np.concatenate(cond24))\n",
    "c5_x = pd.DataFrame(np.concatenate(cond25))\n",
    "\n",
    "c1_x.insert(4, 'condition', 'o_five_10n1GA_0s1x900s0s#n#n#n@40')\n",
    "c2_x.insert(4, 'condition', 'o_five_10n2GA_0s1x900s0s#n#n#n@40')\n",
    "c3_x.insert(4, 'condition', 'o_five_10n3GA_0s1x900s0s#n#n#n@40')\n",
    "c4_x.insert(4, 'condition', 'o_five_10n5EA_0s1x900s0s#n#n#n@40')\n",
    "c5_x.insert(4, 'condition', 'o_five_H2O_0s1x900s0s#n#n#n@40')\n",
    "\n",
    "all_x = [c1_x, c2_x, c3_x, c4_x, c5_x]\n",
    "\n",
    "x = pd.concat(all_x, ignore_index=True)\n",
    "\n",
    "x.columns = ['session', 'animal', 'time', 'x', 'condition', 'y', 'speed', '6', '7']"
   ]
  },
  {
   "cell_type": "code",
   "execution_count": null,
   "id": "b48e41c3",
   "metadata": {},
   "outputs": [],
   "source": [
    "c1_y = pd.DataFrame(np.concatenate(cond31))\n",
    "c2_y = pd.DataFrame(np.concatenate(cond32))\n",
    "c3_y = pd.DataFrame(np.concatenate(cond33))\n",
    "c4_y = pd.DataFrame(np.concatenate(cond34))\n",
    "c5_y = pd.DataFrame(np.concatenate(cond35))\n",
    "\n",
    "c1_y.insert(4, 'condition', 'o_five_10n1GA_0s1x900s0s#n#n#n@40')\n",
    "c2_y.insert(4, 'condition', 'o_five_10n2GA_0s1x900s0s#n#n#n@40')\n",
    "c3_y.insert(4, 'condition', 'o_five_10n3GA_0s1x900s0s#n#n#n@40')\n",
    "c4_y.insert(4, 'condition', 'o_five_10n5EA_0s1x900s0s#n#n#n@40')\n",
    "c5_y.insert(4, 'condition', 'o_five_H2O_0s1x900s0s#n#n#n@40')\n",
    "\n",
    "all_y = [c1_y, c2_y, c3_y, c4_y, c5_y]\n",
    "\n",
    "y = pd.concat(all_y, ignore_index=True)\n",
    "\n",
    "y.columns = ['session', 'animal', 'time', 'y', 'condition', 'x', 'speed', '6', '7']"
   ]
  },
  {
   "cell_type": "code",
   "execution_count": null,
   "id": "324ec16c",
   "metadata": {},
   "outputs": [],
   "source": []
  },
  {
   "cell_type": "code",
   "execution_count": null,
   "id": "737b2ae8",
   "metadata": {},
   "outputs": [],
   "source": [
    "speed"
   ]
  },
  {
   "cell_type": "code",
   "execution_count": null,
   "id": "6520b2ce",
   "metadata": {},
   "outputs": [],
   "source": [
    "speed.drop(speed.columns[[4, 5, 7,8]], axis=1, inplace=True) #drop cols by index"
   ]
  },
  {
   "cell_type": "code",
   "execution_count": null,
   "id": "0d6cda47",
   "metadata": {},
   "outputs": [],
   "source": [
    "data = pd.merge(speed, x[['x']], left_index=True, right_index=True)"
   ]
  },
  {
   "cell_type": "code",
   "execution_count": null,
   "id": "5b3ec4e4",
   "metadata": {},
   "outputs": [],
   "source": [
    "data = pd.merge(data, y[['y']], left_index=True, right_index=True)"
   ]
  },
  {
   "cell_type": "code",
   "execution_count": null,
   "id": "72155dc0",
   "metadata": {},
   "outputs": [],
   "source": [
    "data"
   ]
  },
  {
   "cell_type": "code",
   "execution_count": null,
   "id": "b0a62c4b",
   "metadata": {},
   "outputs": [],
   "source": [
    "data.animal.unique()"
   ]
  },
  {
   "cell_type": "code",
   "execution_count": null,
   "id": "f02a1c9e",
   "metadata": {},
   "outputs": [],
   "source": [
    "data['animal'].value_counts() "
   ]
  },
  {
   "cell_type": "code",
   "execution_count": null,
   "id": "d541d511",
   "metadata": {},
   "outputs": [],
   "source": [
    "data[data['animal'] == 1]"
   ]
  },
  {
   "cell_type": "code",
   "execution_count": null,
   "id": "0b1881b3",
   "metadata": {},
   "outputs": [],
   "source": [
    "grp = data.groupby(['condition', 'animal'])"
   ]
  },
  {
   "cell_type": "code",
   "execution_count": null,
   "id": "c21af4fd",
   "metadata": {},
   "outputs": [],
   "source": [
    "for cond in data['condition'].unique():\n",
    "    for anim in data['animal'].unique():\n",
    "        temp = grp.get_group((cond, anim))\n",
    "            "
   ]
  },
  {
   "cell_type": "code",
   "execution_count": null,
   "id": "82008c5b",
   "metadata": {},
   "outputs": [],
   "source": [
    "temp"
   ]
  },
  {
   "cell_type": "code",
   "execution_count": null,
   "id": "8325ac48",
   "metadata": {},
   "outputs": [],
   "source": []
  }
 ],
 "metadata": {
  "@webio": {
   "lastCommId": null,
   "lastKernelId": null
  },
  "kernelspec": {
   "display_name": "Python 3 (ipykernel)",
   "language": "python",
   "name": "python3"
  },
  "language_info": {
   "codemirror_mode": {
    "name": "ipython",
    "version": 3
   },
   "file_extension": ".py",
   "mimetype": "text/x-python",
   "name": "python",
   "nbconvert_exporter": "python",
   "pygments_lexer": "ipython3",
   "version": "3.9.11"
  }
 },
 "nbformat": 4,
 "nbformat_minor": 5
}
